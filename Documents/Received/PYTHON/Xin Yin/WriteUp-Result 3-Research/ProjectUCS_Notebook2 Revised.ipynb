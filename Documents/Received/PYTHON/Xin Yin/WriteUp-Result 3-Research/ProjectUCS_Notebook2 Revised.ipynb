{
 "cells": [
  {
   "cell_type": "code",
   "execution_count": 1,
   "id": "b269e50b-edd4-47c7-b0bf-2d50957cddd0",
   "metadata": {
    "tags": []
   },
   "outputs": [],
   "source": [
    "import pandas as pd\n",
    "import numpy as np\n",
    "import matplotlib.pyplot as plt\n",
    "%matplotlib inline\n",
    "import seaborn as sns"
   ]
  },
  {
   "cell_type": "code",
   "execution_count": 2,
   "id": "2e4c1549",
   "metadata": {},
   "outputs": [
    {
     "data": {
      "text/plain": [
       "'C:\\\\Users\\\\USER\\\\Documents\\\\Received\\\\PYTHON\\\\Xin Yin\\\\WriteUp-Result 3-Research'"
      ]
     },
     "execution_count": 2,
     "metadata": {},
     "output_type": "execute_result"
    }
   ],
   "source": [
    "pwd"
   ]
  },
  {
   "cell_type": "code",
   "execution_count": 3,
   "id": "35359b11-e771-4468-af80-c42229439e3a",
   "metadata": {
    "tags": []
   },
   "outputs": [],
   "source": [
    "df=pd.read_csv(\"C:\\\\Users\\\\USER\\\\Documents\\\\Yin_DatabaseFor_Rocks.csv\")"
   ]
  },
  {
   "cell_type": "code",
   "execution_count": 4,
   "id": "1304e564-c068-4c82-97a2-400d8c8a8909",
   "metadata": {
    "tags": []
   },
   "outputs": [
    {
     "data": {
      "text/html": [
       "<div>\n",
       "<style scoped>\n",
       "    .dataframe tbody tr th:only-of-type {\n",
       "        vertical-align: middle;\n",
       "    }\n",
       "\n",
       "    .dataframe tbody tr th {\n",
       "        vertical-align: top;\n",
       "    }\n",
       "\n",
       "    .dataframe thead th {\n",
       "        text-align: right;\n",
       "    }\n",
       "</style>\n",
       "<table border=\"1\" class=\"dataframe\">\n",
       "  <thead>\n",
       "    <tr style=\"text-align: right;\">\n",
       "      <th></th>\n",
       "      <th>SRn</th>\n",
       "      <th>Vp</th>\n",
       "      <th>Is</th>\n",
       "      <th>UCS</th>\n",
       "    </tr>\n",
       "  </thead>\n",
       "  <tbody>\n",
       "    <tr>\n",
       "      <th>0</th>\n",
       "      <td>69.0</td>\n",
       "      <td>5390</td>\n",
       "      <td>11.02</td>\n",
       "      <td>158.16</td>\n",
       "    </tr>\n",
       "    <tr>\n",
       "      <th>1</th>\n",
       "      <td>64.0</td>\n",
       "      <td>5440</td>\n",
       "      <td>8.08</td>\n",
       "      <td>125.28</td>\n",
       "    </tr>\n",
       "    <tr>\n",
       "      <th>2</th>\n",
       "      <td>68.0</td>\n",
       "      <td>5740</td>\n",
       "      <td>8.44</td>\n",
       "      <td>129.04</td>\n",
       "    </tr>\n",
       "    <tr>\n",
       "      <th>3</th>\n",
       "      <td>67.0</td>\n",
       "      <td>6310</td>\n",
       "      <td>9.20</td>\n",
       "      <td>142.40</td>\n",
       "    </tr>\n",
       "    <tr>\n",
       "      <th>4</th>\n",
       "      <td>65.0</td>\n",
       "      <td>4740</td>\n",
       "      <td>7.25</td>\n",
       "      <td>109.17</td>\n",
       "    </tr>\n",
       "    <tr>\n",
       "      <th>...</th>\n",
       "      <td>...</td>\n",
       "      <td>...</td>\n",
       "      <td>...</td>\n",
       "      <td>...</td>\n",
       "    </tr>\n",
       "    <tr>\n",
       "      <th>724</th>\n",
       "      <td>23.0</td>\n",
       "      <td>2633</td>\n",
       "      <td>2.28</td>\n",
       "      <td>17.26</td>\n",
       "    </tr>\n",
       "    <tr>\n",
       "      <th>725</th>\n",
       "      <td>24.0</td>\n",
       "      <td>2886</td>\n",
       "      <td>2.36</td>\n",
       "      <td>19.90</td>\n",
       "    </tr>\n",
       "    <tr>\n",
       "      <th>726</th>\n",
       "      <td>32.0</td>\n",
       "      <td>3045</td>\n",
       "      <td>2.64</td>\n",
       "      <td>32.44</td>\n",
       "    </tr>\n",
       "    <tr>\n",
       "      <th>727</th>\n",
       "      <td>35.0</td>\n",
       "      <td>3099</td>\n",
       "      <td>2.77</td>\n",
       "      <td>36.95</td>\n",
       "    </tr>\n",
       "    <tr>\n",
       "      <th>728</th>\n",
       "      <td>33.0</td>\n",
       "      <td>3105</td>\n",
       "      <td>2.85</td>\n",
       "      <td>41.46</td>\n",
       "    </tr>\n",
       "  </tbody>\n",
       "</table>\n",
       "<p>729 rows × 4 columns</p>\n",
       "</div>"
      ],
      "text/plain": [
       "      SRn    Vp     Is     UCS\n",
       "0    69.0  5390  11.02  158.16\n",
       "1    64.0  5440   8.08  125.28\n",
       "2    68.0  5740   8.44  129.04\n",
       "3    67.0  6310   9.20  142.40\n",
       "4    65.0  4740   7.25  109.17\n",
       "..    ...   ...    ...     ...\n",
       "724  23.0  2633   2.28   17.26\n",
       "725  24.0  2886   2.36   19.90\n",
       "726  32.0  3045   2.64   32.44\n",
       "727  35.0  3099   2.77   36.95\n",
       "728  33.0  3105   2.85   41.46\n",
       "\n",
       "[729 rows x 4 columns]"
      ]
     },
     "execution_count": 4,
     "metadata": {},
     "output_type": "execute_result"
    }
   ],
   "source": [
    "df"
   ]
  },
  {
   "cell_type": "code",
   "execution_count": 5,
   "id": "8a50baa5-3b87-4d80-8b92-47cad2219567",
   "metadata": {
    "tags": []
   },
   "outputs": [
    {
     "data": {
      "text/plain": [
       "(729, 4)"
      ]
     },
     "execution_count": 5,
     "metadata": {},
     "output_type": "execute_result"
    }
   ],
   "source": [
    "#Check the shape of the data at this point\n",
    "df.shape"
   ]
  },
  {
   "cell_type": "code",
   "execution_count": 6,
   "id": "39e0902c-529b-491e-994d-88c9d380092e",
   "metadata": {
    "tags": []
   },
   "outputs": [
    {
     "name": "stdout",
     "output_type": "stream",
     "text": [
      "<class 'pandas.core.frame.DataFrame'>\n",
      "RangeIndex: 729 entries, 0 to 728\n",
      "Data columns (total 4 columns):\n",
      " #   Column  Non-Null Count  Dtype  \n",
      "---  ------  --------------  -----  \n",
      " 0   SRn     729 non-null    float64\n",
      " 1   Vp      729 non-null    int64  \n",
      " 2   Is      729 non-null    float64\n",
      " 3   UCS     729 non-null    float64\n",
      "dtypes: float64(3), int64(1)\n",
      "memory usage: 22.9 KB\n"
     ]
    }
   ],
   "source": [
    "#information on the data\n",
    "df.info()"
   ]
  },
  {
   "cell_type": "code",
   "execution_count": 7,
   "id": "b3a5f0ab-6613-4215-831e-8934cb9d5ef6",
   "metadata": {
    "scrolled": true,
    "tags": []
   },
   "outputs": [
    {
     "data": {
      "text/html": [
       "<div>\n",
       "<style scoped>\n",
       "    .dataframe tbody tr th:only-of-type {\n",
       "        vertical-align: middle;\n",
       "    }\n",
       "\n",
       "    .dataframe tbody tr th {\n",
       "        vertical-align: top;\n",
       "    }\n",
       "\n",
       "    .dataframe thead th {\n",
       "        text-align: right;\n",
       "    }\n",
       "</style>\n",
       "<table border=\"1\" class=\"dataframe\">\n",
       "  <thead>\n",
       "    <tr style=\"text-align: right;\">\n",
       "      <th></th>\n",
       "      <th>SRn</th>\n",
       "      <th>Vp</th>\n",
       "      <th>Is</th>\n",
       "      <th>UCS</th>\n",
       "    </tr>\n",
       "  </thead>\n",
       "  <tbody>\n",
       "    <tr>\n",
       "      <th>count</th>\n",
       "      <td>729.000000</td>\n",
       "      <td>729.000000</td>\n",
       "      <td>729.000000</td>\n",
       "      <td>729.000000</td>\n",
       "    </tr>\n",
       "    <tr>\n",
       "      <th>mean</th>\n",
       "      <td>41.645432</td>\n",
       "      <td>4679.635117</td>\n",
       "      <td>4.338053</td>\n",
       "      <td>75.305366</td>\n",
       "    </tr>\n",
       "    <tr>\n",
       "      <th>std</th>\n",
       "      <td>11.877275</td>\n",
       "      <td>1387.795732</td>\n",
       "      <td>3.024891</td>\n",
       "      <td>44.779250</td>\n",
       "    </tr>\n",
       "    <tr>\n",
       "      <th>min</th>\n",
       "      <td>10.000000</td>\n",
       "      <td>375.000000</td>\n",
       "      <td>0.530000</td>\n",
       "      <td>2.030000</td>\n",
       "    </tr>\n",
       "    <tr>\n",
       "      <th>25%</th>\n",
       "      <td>33.000000</td>\n",
       "      <td>3722.000000</td>\n",
       "      <td>2.450000</td>\n",
       "      <td>42.790000</td>\n",
       "    </tr>\n",
       "    <tr>\n",
       "      <th>50%</th>\n",
       "      <td>41.000000</td>\n",
       "      <td>4922.000000</td>\n",
       "      <td>3.390000</td>\n",
       "      <td>63.680000</td>\n",
       "    </tr>\n",
       "    <tr>\n",
       "      <th>75%</th>\n",
       "      <td>50.000000</td>\n",
       "      <td>5685.000000</td>\n",
       "      <td>5.230000</td>\n",
       "      <td>102.500000</td>\n",
       "    </tr>\n",
       "    <tr>\n",
       "      <th>max</th>\n",
       "      <td>72.000000</td>\n",
       "      <td>7943.000000</td>\n",
       "      <td>23.100000</td>\n",
       "      <td>239.000000</td>\n",
       "    </tr>\n",
       "  </tbody>\n",
       "</table>\n",
       "</div>"
      ],
      "text/plain": [
       "              SRn           Vp          Is         UCS\n",
       "count  729.000000   729.000000  729.000000  729.000000\n",
       "mean    41.645432  4679.635117    4.338053   75.305366\n",
       "std     11.877275  1387.795732    3.024891   44.779250\n",
       "min     10.000000   375.000000    0.530000    2.030000\n",
       "25%     33.000000  3722.000000    2.450000   42.790000\n",
       "50%     41.000000  4922.000000    3.390000   63.680000\n",
       "75%     50.000000  5685.000000    5.230000  102.500000\n",
       "max     72.000000  7943.000000   23.100000  239.000000"
      ]
     },
     "execution_count": 7,
     "metadata": {},
     "output_type": "execute_result"
    }
   ],
   "source": [
    "#statistics about the data\n",
    "df.describe()"
   ]
  },
  {
   "cell_type": "code",
   "execution_count": 8,
   "id": "ce9eaf86-6e72-4b88-9364-0e0b55a8f7b1",
   "metadata": {
    "tags": []
   },
   "outputs": [
    {
     "data": {
      "text/plain": [
       "SRn    0\n",
       "Vp     0\n",
       "Is     0\n",
       "UCS    0\n",
       "dtype: int64"
      ]
     },
     "execution_count": 8,
     "metadata": {},
     "output_type": "execute_result"
    }
   ],
   "source": [
    "#check for null values\n",
    "df.isnull().sum()"
   ]
  },
  {
   "cell_type": "code",
   "execution_count": 9,
   "id": "f269af4f-346a-4c85-b151-f720ef1bb51e",
   "metadata": {
    "tags": []
   },
   "outputs": [
    {
     "data": {
      "text/plain": [
       "0"
      ]
     },
     "execution_count": 9,
     "metadata": {},
     "output_type": "execute_result"
    }
   ],
   "source": [
    "#check the presence of duplicate values\n",
    "df.duplicated().sum()"
   ]
  },
  {
   "cell_type": "code",
   "execution_count": 10,
   "id": "97bc2c0b-d9c6-4a69-b380-797b8c785451",
   "metadata": {
    "tags": []
   },
   "outputs": [
    {
     "data": {
      "text/plain": [
       "(729, 4)"
      ]
     },
     "execution_count": 10,
     "metadata": {},
     "output_type": "execute_result"
    }
   ],
   "source": [
    "#what is the current shape of the dataset\n",
    "df.shape\n"
   ]
  },
  {
   "cell_type": "code",
   "execution_count": 11,
   "id": "b5e4f041-57ae-4c6d-8a9f-4aab633ee7cf",
   "metadata": {
    "tags": []
   },
   "outputs": [
    {
     "data": {
      "image/png": "[encoded data removed]",
      "text/plain": [
       "<Figure size 1300x400 with 1 Axes>"
      ]
     },
     "metadata": {},
     "output_type": "display_data"
    },
    {
     "data": {
      "image/png": "[encoded data removed]",
      "text/plain": [
       "<Figure size 1300x400 with 1 Axes>"
      ]
     },
     "metadata": {},
     "output_type": "display_data"
    },
    {
     "data": {
      "image/png": "[encoded data removed]",
      "text/plain": [
       "<Figure size 1300x400 with 1 Axes>"
      ]
     },
     "metadata": {},
     "output_type": "display_data"
    },
    {
     "data": {
      "image/png": "[encoded data removed]",
      "text/plain": [
       "<Figure size 1300x400 with 1 Axes>"
      ]
     },
     "metadata": {},
     "output_type": "display_data"
    }
   ],
   "source": [
    "#EDA commences here\n",
    "for column in df.columns:\n",
    "    plt.figure(figsize=(13,4))\n",
    "    sns.boxplot(x=column,data=df);"
   ]
  },
  {
   "cell_type": "code",
   "execution_count": 12,
   "id": "92a81d25-b90b-4a3a-9165-c372321c1393",
   "metadata": {
    "tags": []
   },
   "outputs": [
    {
     "data": {
      "text/html": [
       "<div>\n",
       "<style scoped>\n",
       "    .dataframe tbody tr th:only-of-type {\n",
       "        vertical-align: middle;\n",
       "    }\n",
       "\n",
       "    .dataframe tbody tr th {\n",
       "        vertical-align: top;\n",
       "    }\n",
       "\n",
       "    .dataframe thead th {\n",
       "        text-align: right;\n",
       "    }\n",
       "</style>\n",
       "<table border=\"1\" class=\"dataframe\">\n",
       "  <thead>\n",
       "    <tr style=\"text-align: right;\">\n",
       "      <th></th>\n",
       "      <th>SRn</th>\n",
       "      <th>Vp</th>\n",
       "      <th>Is</th>\n",
       "      <th>UCS</th>\n",
       "    </tr>\n",
       "  </thead>\n",
       "  <tbody>\n",
       "    <tr>\n",
       "      <th>SRn</th>\n",
       "      <td>1.000000</td>\n",
       "      <td>0.430908</td>\n",
       "      <td>0.511204</td>\n",
       "      <td>0.685848</td>\n",
       "    </tr>\n",
       "    <tr>\n",
       "      <th>Vp</th>\n",
       "      <td>0.430908</td>\n",
       "      <td>1.000000</td>\n",
       "      <td>0.223489</td>\n",
       "      <td>0.637990</td>\n",
       "    </tr>\n",
       "    <tr>\n",
       "      <th>Is</th>\n",
       "      <td>0.511204</td>\n",
       "      <td>0.223489</td>\n",
       "      <td>1.000000</td>\n",
       "      <td>0.415398</td>\n",
       "    </tr>\n",
       "    <tr>\n",
       "      <th>UCS</th>\n",
       "      <td>0.685848</td>\n",
       "      <td>0.637990</td>\n",
       "      <td>0.415398</td>\n",
       "      <td>1.000000</td>\n",
       "    </tr>\n",
       "  </tbody>\n",
       "</table>\n",
       "</div>"
      ],
      "text/plain": [
       "          SRn        Vp        Is       UCS\n",
       "SRn  1.000000  0.430908  0.511204  0.685848\n",
       "Vp   0.430908  1.000000  0.223489  0.637990\n",
       "Is   0.511204  0.223489  1.000000  0.415398\n",
       "UCS  0.685848  0.637990  0.415398  1.000000"
      ]
     },
     "execution_count": 12,
     "metadata": {},
     "output_type": "execute_result"
    }
   ],
   "source": [
    "#what is the existing correlation among the independent variables\n",
    "df.corr()"
   ]
  },
  {
   "cell_type": "code",
   "execution_count": 13,
   "id": "c8ddbc55-e495-4f31-8ab7-a24eaa13b5df",
   "metadata": {
    "tags": []
   },
   "outputs": [
    {
     "data": {
      "text/plain": [
       "<Axes: >"
      ]
     },
     "execution_count": 13,
     "metadata": {},
     "output_type": "execute_result"
    },
    {
     "data": {
      "image/png": "[encoded data removed]",
      "text/plain": [
       "<Figure size 600x400 with 2 Axes>"
      ]
     },
     "metadata": {},
     "output_type": "display_data"
    }
   ],
   "source": [
    "#produce a heatmap of the above result\n",
    "plt.figure(figsize=(6,4))\n",
    "sns.heatmap(data=df.corr(),annot=True)"
   ]
  },
  {
   "cell_type": "code",
   "execution_count": 14,
   "id": "702da4a3-312a-4615-a39e-4f9a4cc3087b",
   "metadata": {
    "tags": []
   },
   "outputs": [
    {
     "data": {
      "image/png": "[encoded data removed]",
      "text/plain": [
       "<Figure size 1100x900 with 4 Axes>"
      ]
     },
     "metadata": {},
     "output_type": "display_data"
    }
   ],
   "source": [
    "#conduct a univariate analysis\n",
    "\n",
    "#make a histogram\n",
    "df.hist(figsize=(11, 9));"
   ]
  },
  {
   "cell_type": "code",
   "execution_count": 15,
   "id": "fa1b3f27",
   "metadata": {},
   "outputs": [],
   "source": [
    "#attempt to make data normally distributed, split data first in train-val-test\n",
    "\n",
    "X=df.drop(['UCS'],axis=1) #X is \"remove the variable in '' \"\n",
    "y=df['UCS']"
   ]
  },
  {
   "cell_type": "code",
   "execution_count": null,
   "id": "2a901e2c",
   "metadata": {},
   "outputs": [],
   "source": []
  },
  {
   "cell_type": "code",
   "execution_count": 16,
   "id": "18996de1-bae0-4bbc-9eb9-9fe0f2377f9e",
   "metadata": {},
   "outputs": [
    {
     "ename": "FileNotFoundError",
     "evalue": "[Errno 2] No such file or directory: 'C:\\\\Users\\\\USER\\\\Documents\\\\Book10-GB-RF-Train-90-10.csv'",
     "output_type": "error",
     "traceback": [
      "\u001b[1;31m---------------------------------------------------------------------------\u001b[0m",
      "\u001b[1;31mFileNotFoundError\u001b[0m                         Traceback (most recent call last)",
      "Cell \u001b[1;32mIn[16], line 1\u001b[0m\n\u001b[1;32m----> 1\u001b[0m Trainingset_XinYin\u001b[38;5;241m=\u001b[39m\u001b[43mpd\u001b[49m\u001b[38;5;241;43m.\u001b[39;49m\u001b[43mread_csv\u001b[49m\u001b[43m(\u001b[49m\u001b[38;5;124;43m\"\u001b[39;49m\u001b[38;5;124;43mC:\u001b[39;49m\u001b[38;5;130;43;01m\\\\\u001b[39;49;00m\u001b[38;5;124;43mUsers\u001b[39;49m\u001b[38;5;130;43;01m\\\\\u001b[39;49;00m\u001b[38;5;124;43mUSER\u001b[39;49m\u001b[38;5;130;43;01m\\\\\u001b[39;49;00m\u001b[38;5;124;43mDocuments\u001b[39;49m\u001b[38;5;130;43;01m\\\\\u001b[39;49;00m\u001b[38;5;124;43mBook10-GB-RF-Train-90-10.csv\u001b[39;49m\u001b[38;5;124;43m\"\u001b[39;49m\u001b[43m)\u001b[49m\n\u001b[0;32m      2\u001b[0m Testset_XinYin\u001b[38;5;241m=\u001b[39mpd\u001b[38;5;241m.\u001b[39mread_csv(\u001b[38;5;124m\"\u001b[39m\u001b[38;5;124mC:\u001b[39m\u001b[38;5;130;01m\\\\\u001b[39;00m\u001b[38;5;124mUsers\u001b[39m\u001b[38;5;130;01m\\\\\u001b[39;00m\u001b[38;5;124mUSER\u001b[39m\u001b[38;5;130;01m\\\\\u001b[39;00m\u001b[38;5;124mDocuments\u001b[39m\u001b[38;5;130;01m\\\\\u001b[39;00m\u001b[38;5;124mBook10-GB-RF-Test-90-10.csv\u001b[39m\u001b[38;5;124m\"\u001b[39m)\n",
      "File \u001b[1;32mC:\\ProgramData\\anaconda3\\lib\\site-packages\\pandas\\util\\_decorators.py:211\u001b[0m, in \u001b[0;36mdeprecate_kwarg.<locals>._deprecate_kwarg.<locals>.wrapper\u001b[1;34m(*args, **kwargs)\u001b[0m\n\u001b[0;32m    209\u001b[0m     \u001b[38;5;28;01melse\u001b[39;00m:\n\u001b[0;32m    210\u001b[0m         kwargs[new_arg_name] \u001b[38;5;241m=\u001b[39m new_arg_value\n\u001b[1;32m--> 211\u001b[0m \u001b[38;5;28;01mreturn\u001b[39;00m func(\u001b[38;5;241m*\u001b[39margs, \u001b[38;5;241m*\u001b[39m\u001b[38;5;241m*\u001b[39mkwargs)\n",
      "File \u001b[1;32mC:\\ProgramData\\anaconda3\\lib\\site-packages\\pandas\\util\\_decorators.py:331\u001b[0m, in \u001b[0;36mdeprecate_nonkeyword_arguments.<locals>.decorate.<locals>.wrapper\u001b[1;34m(*args, **kwargs)\u001b[0m\n\u001b[0;32m    325\u001b[0m \u001b[38;5;28;01mif\u001b[39;00m \u001b[38;5;28mlen\u001b[39m(args) \u001b[38;5;241m>\u001b[39m num_allow_args:\n\u001b[0;32m    326\u001b[0m     warnings\u001b[38;5;241m.\u001b[39mwarn(\n\u001b[0;32m    327\u001b[0m         msg\u001b[38;5;241m.\u001b[39mformat(arguments\u001b[38;5;241m=\u001b[39m_format_argument_list(allow_args)),\n\u001b[0;32m    328\u001b[0m         \u001b[38;5;167;01mFutureWarning\u001b[39;00m,\n\u001b[0;32m    329\u001b[0m         stacklevel\u001b[38;5;241m=\u001b[39mfind_stack_level(),\n\u001b[0;32m    330\u001b[0m     )\n\u001b[1;32m--> 331\u001b[0m \u001b[38;5;28;01mreturn\u001b[39;00m func(\u001b[38;5;241m*\u001b[39margs, \u001b[38;5;241m*\u001b[39m\u001b[38;5;241m*\u001b[39mkwargs)\n",
      "File \u001b[1;32mC:\\ProgramData\\anaconda3\\lib\\site-packages\\pandas\\io\\parsers\\readers.py:950\u001b[0m, in \u001b[0;36mread_csv\u001b[1;34m(filepath_or_buffer, sep, delimiter, header, names, index_col, usecols, squeeze, prefix, mangle_dupe_cols, dtype, engine, converters, true_values, false_values, skipinitialspace, skiprows, skipfooter, nrows, na_values, keep_default_na, na_filter, verbose, skip_blank_lines, parse_dates, infer_datetime_format, keep_date_col, date_parser, dayfirst, cache_dates, iterator, chunksize, compression, thousands, decimal, lineterminator, quotechar, quoting, doublequote, escapechar, comment, encoding, encoding_errors, dialect, error_bad_lines, warn_bad_lines, on_bad_lines, delim_whitespace, low_memory, memory_map, float_precision, storage_options)\u001b[0m\n\u001b[0;32m    935\u001b[0m kwds_defaults \u001b[38;5;241m=\u001b[39m _refine_defaults_read(\n\u001b[0;32m    936\u001b[0m     dialect,\n\u001b[0;32m    937\u001b[0m     delimiter,\n\u001b[1;32m   (...)\u001b[0m\n\u001b[0;32m    946\u001b[0m     defaults\u001b[38;5;241m=\u001b[39m{\u001b[38;5;124m\"\u001b[39m\u001b[38;5;124mdelimiter\u001b[39m\u001b[38;5;124m\"\u001b[39m: \u001b[38;5;124m\"\u001b[39m\u001b[38;5;124m,\u001b[39m\u001b[38;5;124m\"\u001b[39m},\n\u001b[0;32m    947\u001b[0m )\n\u001b[0;32m    948\u001b[0m kwds\u001b[38;5;241m.\u001b[39mupdate(kwds_defaults)\n\u001b[1;32m--> 950\u001b[0m \u001b[38;5;28;01mreturn\u001b[39;00m \u001b[43m_read\u001b[49m\u001b[43m(\u001b[49m\u001b[43mfilepath_or_buffer\u001b[49m\u001b[43m,\u001b[49m\u001b[43m \u001b[49m\u001b[43mkwds\u001b[49m\u001b[43m)\u001b[49m\n",
      "File \u001b[1;32mC:\\ProgramData\\anaconda3\\lib\\site-packages\\pandas\\io\\parsers\\readers.py:605\u001b[0m, in \u001b[0;36m_read\u001b[1;34m(filepath_or_buffer, kwds)\u001b[0m\n\u001b[0;32m    602\u001b[0m _validate_names(kwds\u001b[38;5;241m.\u001b[39mget(\u001b[38;5;124m\"\u001b[39m\u001b[38;5;124mnames\u001b[39m\u001b[38;5;124m\"\u001b[39m, \u001b[38;5;28;01mNone\u001b[39;00m))\n\u001b[0;32m    604\u001b[0m \u001b[38;5;66;03m# Create the parser.\u001b[39;00m\n\u001b[1;32m--> 605\u001b[0m parser \u001b[38;5;241m=\u001b[39m TextFileReader(filepath_or_buffer, \u001b[38;5;241m*\u001b[39m\u001b[38;5;241m*\u001b[39mkwds)\n\u001b[0;32m    607\u001b[0m \u001b[38;5;28;01mif\u001b[39;00m chunksize \u001b[38;5;129;01mor\u001b[39;00m iterator:\n\u001b[0;32m    608\u001b[0m     \u001b[38;5;28;01mreturn\u001b[39;00m parser\n",
      "File \u001b[1;32mC:\\ProgramData\\anaconda3\\lib\\site-packages\\pandas\\io\\parsers\\readers.py:1442\u001b[0m, in \u001b[0;36mTextFileReader.__init__\u001b[1;34m(self, f, engine, **kwds)\u001b[0m\n\u001b[0;32m   1439\u001b[0m     \u001b[38;5;28mself\u001b[39m\u001b[38;5;241m.\u001b[39moptions[\u001b[38;5;124m\"\u001b[39m\u001b[38;5;124mhas_index_names\u001b[39m\u001b[38;5;124m\"\u001b[39m] \u001b[38;5;241m=\u001b[39m kwds[\u001b[38;5;124m\"\u001b[39m\u001b[38;5;124mhas_index_names\u001b[39m\u001b[38;5;124m\"\u001b[39m]\n\u001b[0;32m   1441\u001b[0m \u001b[38;5;28mself\u001b[39m\u001b[38;5;241m.\u001b[39mhandles: IOHandles \u001b[38;5;241m|\u001b[39m \u001b[38;5;28;01mNone\u001b[39;00m \u001b[38;5;241m=\u001b[39m \u001b[38;5;28;01mNone\u001b[39;00m\n\u001b[1;32m-> 1442\u001b[0m \u001b[38;5;28mself\u001b[39m\u001b[38;5;241m.\u001b[39m_engine \u001b[38;5;241m=\u001b[39m \u001b[38;5;28;43mself\u001b[39;49m\u001b[38;5;241;43m.\u001b[39;49m\u001b[43m_make_engine\u001b[49m\u001b[43m(\u001b[49m\u001b[43mf\u001b[49m\u001b[43m,\u001b[49m\u001b[43m \u001b[49m\u001b[38;5;28;43mself\u001b[39;49m\u001b[38;5;241;43m.\u001b[39;49m\u001b[43mengine\u001b[49m\u001b[43m)\u001b[49m\n",
      "File \u001b[1;32mC:\\ProgramData\\anaconda3\\lib\\site-packages\\pandas\\io\\parsers\\readers.py:1735\u001b[0m, in \u001b[0;36mTextFileReader._make_engine\u001b[1;34m(self, f, engine)\u001b[0m\n\u001b[0;32m   1733\u001b[0m     \u001b[38;5;28;01mif\u001b[39;00m \u001b[38;5;124m\"\u001b[39m\u001b[38;5;124mb\u001b[39m\u001b[38;5;124m\"\u001b[39m \u001b[38;5;129;01mnot\u001b[39;00m \u001b[38;5;129;01min\u001b[39;00m mode:\n\u001b[0;32m   1734\u001b[0m         mode \u001b[38;5;241m+\u001b[39m\u001b[38;5;241m=\u001b[39m \u001b[38;5;124m\"\u001b[39m\u001b[38;5;124mb\u001b[39m\u001b[38;5;124m\"\u001b[39m\n\u001b[1;32m-> 1735\u001b[0m \u001b[38;5;28mself\u001b[39m\u001b[38;5;241m.\u001b[39mhandles \u001b[38;5;241m=\u001b[39m \u001b[43mget_handle\u001b[49m\u001b[43m(\u001b[49m\n\u001b[0;32m   1736\u001b[0m \u001b[43m    \u001b[49m\u001b[43mf\u001b[49m\u001b[43m,\u001b[49m\n\u001b[0;32m   1737\u001b[0m \u001b[43m    \u001b[49m\u001b[43mmode\u001b[49m\u001b[43m,\u001b[49m\n\u001b[0;32m   1738\u001b[0m \u001b[43m    \u001b[49m\u001b[43mencoding\u001b[49m\u001b[38;5;241;43m=\u001b[39;49m\u001b[38;5;28;43mself\u001b[39;49m\u001b[38;5;241;43m.\u001b[39;49m\u001b[43moptions\u001b[49m\u001b[38;5;241;43m.\u001b[39;49m\u001b[43mget\u001b[49m\u001b[43m(\u001b[49m\u001b[38;5;124;43m\"\u001b[39;49m\u001b[38;5;124;43mencoding\u001b[39;49m\u001b[38;5;124;43m\"\u001b[39;49m\u001b[43m,\u001b[49m\u001b[43m \u001b[49m\u001b[38;5;28;43;01mNone\u001b[39;49;00m\u001b[43m)\u001b[49m\u001b[43m,\u001b[49m\n\u001b[0;32m   1739\u001b[0m \u001b[43m    \u001b[49m\u001b[43mcompression\u001b[49m\u001b[38;5;241;43m=\u001b[39;49m\u001b[38;5;28;43mself\u001b[39;49m\u001b[38;5;241;43m.\u001b[39;49m\u001b[43moptions\u001b[49m\u001b[38;5;241;43m.\u001b[39;49m\u001b[43mget\u001b[49m\u001b[43m(\u001b[49m\u001b[38;5;124;43m\"\u001b[39;49m\u001b[38;5;124;43mcompression\u001b[39;49m\u001b[38;5;124;43m\"\u001b[39;49m\u001b[43m,\u001b[49m\u001b[43m \u001b[49m\u001b[38;5;28;43;01mNone\u001b[39;49;00m\u001b[43m)\u001b[49m\u001b[43m,\u001b[49m\n\u001b[0;32m   1740\u001b[0m \u001b[43m    \u001b[49m\u001b[43mmemory_map\u001b[49m\u001b[38;5;241;43m=\u001b[39;49m\u001b[38;5;28;43mself\u001b[39;49m\u001b[38;5;241;43m.\u001b[39;49m\u001b[43moptions\u001b[49m\u001b[38;5;241;43m.\u001b[39;49m\u001b[43mget\u001b[49m\u001b[43m(\u001b[49m\u001b[38;5;124;43m\"\u001b[39;49m\u001b[38;5;124;43mmemory_map\u001b[39;49m\u001b[38;5;124;43m\"\u001b[39;49m\u001b[43m,\u001b[49m\u001b[43m \u001b[49m\u001b[38;5;28;43;01mFalse\u001b[39;49;00m\u001b[43m)\u001b[49m\u001b[43m,\u001b[49m\n\u001b[0;32m   1741\u001b[0m \u001b[43m    \u001b[49m\u001b[43mis_text\u001b[49m\u001b[38;5;241;43m=\u001b[39;49m\u001b[43mis_text\u001b[49m\u001b[43m,\u001b[49m\n\u001b[0;32m   1742\u001b[0m \u001b[43m    \u001b[49m\u001b[43merrors\u001b[49m\u001b[38;5;241;43m=\u001b[39;49m\u001b[38;5;28;43mself\u001b[39;49m\u001b[38;5;241;43m.\u001b[39;49m\u001b[43moptions\u001b[49m\u001b[38;5;241;43m.\u001b[39;49m\u001b[43mget\u001b[49m\u001b[43m(\u001b[49m\u001b[38;5;124;43m\"\u001b[39;49m\u001b[38;5;124;43mencoding_errors\u001b[39;49m\u001b[38;5;124;43m\"\u001b[39;49m\u001b[43m,\u001b[49m\u001b[43m \u001b[49m\u001b[38;5;124;43m\"\u001b[39;49m\u001b[38;5;124;43mstrict\u001b[39;49m\u001b[38;5;124;43m\"\u001b[39;49m\u001b[43m)\u001b[49m\u001b[43m,\u001b[49m\n\u001b[0;32m   1743\u001b[0m \u001b[43m    \u001b[49m\u001b[43mstorage_options\u001b[49m\u001b[38;5;241;43m=\u001b[39;49m\u001b[38;5;28;43mself\u001b[39;49m\u001b[38;5;241;43m.\u001b[39;49m\u001b[43moptions\u001b[49m\u001b[38;5;241;43m.\u001b[39;49m\u001b[43mget\u001b[49m\u001b[43m(\u001b[49m\u001b[38;5;124;43m\"\u001b[39;49m\u001b[38;5;124;43mstorage_options\u001b[39;49m\u001b[38;5;124;43m\"\u001b[39;49m\u001b[43m,\u001b[49m\u001b[43m \u001b[49m\u001b[38;5;28;43;01mNone\u001b[39;49;00m\u001b[43m)\u001b[49m\u001b[43m,\u001b[49m\n\u001b[0;32m   1744\u001b[0m \u001b[43m\u001b[49m\u001b[43m)\u001b[49m\n\u001b[0;32m   1745\u001b[0m \u001b[38;5;28;01massert\u001b[39;00m \u001b[38;5;28mself\u001b[39m\u001b[38;5;241m.\u001b[39mhandles \u001b[38;5;129;01mis\u001b[39;00m \u001b[38;5;129;01mnot\u001b[39;00m \u001b[38;5;28;01mNone\u001b[39;00m\n\u001b[0;32m   1746\u001b[0m f \u001b[38;5;241m=\u001b[39m \u001b[38;5;28mself\u001b[39m\u001b[38;5;241m.\u001b[39mhandles\u001b[38;5;241m.\u001b[39mhandle\n",
      "File \u001b[1;32mC:\\ProgramData\\anaconda3\\lib\\site-packages\\pandas\\io\\common.py:856\u001b[0m, in \u001b[0;36mget_handle\u001b[1;34m(path_or_buf, mode, encoding, compression, memory_map, is_text, errors, storage_options)\u001b[0m\n\u001b[0;32m    851\u001b[0m \u001b[38;5;28;01melif\u001b[39;00m \u001b[38;5;28misinstance\u001b[39m(handle, \u001b[38;5;28mstr\u001b[39m):\n\u001b[0;32m    852\u001b[0m     \u001b[38;5;66;03m# Check whether the filename is to be opened in binary mode.\u001b[39;00m\n\u001b[0;32m    853\u001b[0m     \u001b[38;5;66;03m# Binary mode does not support 'encoding' and 'newline'.\u001b[39;00m\n\u001b[0;32m    854\u001b[0m     \u001b[38;5;28;01mif\u001b[39;00m ioargs\u001b[38;5;241m.\u001b[39mencoding \u001b[38;5;129;01mand\u001b[39;00m \u001b[38;5;124m\"\u001b[39m\u001b[38;5;124mb\u001b[39m\u001b[38;5;124m\"\u001b[39m \u001b[38;5;129;01mnot\u001b[39;00m \u001b[38;5;129;01min\u001b[39;00m ioargs\u001b[38;5;241m.\u001b[39mmode:\n\u001b[0;32m    855\u001b[0m         \u001b[38;5;66;03m# Encoding\u001b[39;00m\n\u001b[1;32m--> 856\u001b[0m         handle \u001b[38;5;241m=\u001b[39m \u001b[38;5;28;43mopen\u001b[39;49m\u001b[43m(\u001b[49m\n\u001b[0;32m    857\u001b[0m \u001b[43m            \u001b[49m\u001b[43mhandle\u001b[49m\u001b[43m,\u001b[49m\n\u001b[0;32m    858\u001b[0m \u001b[43m            \u001b[49m\u001b[43mioargs\u001b[49m\u001b[38;5;241;43m.\u001b[39;49m\u001b[43mmode\u001b[49m\u001b[43m,\u001b[49m\n\u001b[0;32m    859\u001b[0m \u001b[43m            \u001b[49m\u001b[43mencoding\u001b[49m\u001b[38;5;241;43m=\u001b[39;49m\u001b[43mioargs\u001b[49m\u001b[38;5;241;43m.\u001b[39;49m\u001b[43mencoding\u001b[49m\u001b[43m,\u001b[49m\n\u001b[0;32m    860\u001b[0m \u001b[43m            \u001b[49m\u001b[43merrors\u001b[49m\u001b[38;5;241;43m=\u001b[39;49m\u001b[43merrors\u001b[49m\u001b[43m,\u001b[49m\n\u001b[0;32m    861\u001b[0m \u001b[43m            \u001b[49m\u001b[43mnewline\u001b[49m\u001b[38;5;241;43m=\u001b[39;49m\u001b[38;5;124;43m\"\u001b[39;49m\u001b[38;5;124;43m\"\u001b[39;49m\u001b[43m,\u001b[49m\n\u001b[0;32m    862\u001b[0m \u001b[43m        \u001b[49m\u001b[43m)\u001b[49m\n\u001b[0;32m    863\u001b[0m     \u001b[38;5;28;01melse\u001b[39;00m:\n\u001b[0;32m    864\u001b[0m         \u001b[38;5;66;03m# Binary mode\u001b[39;00m\n\u001b[0;32m    865\u001b[0m         handle \u001b[38;5;241m=\u001b[39m \u001b[38;5;28mopen\u001b[39m(handle, ioargs\u001b[38;5;241m.\u001b[39mmode)\n",
      "\u001b[1;31mFileNotFoundError\u001b[0m: [Errno 2] No such file or directory: 'C:\\\\Users\\\\USER\\\\Documents\\\\Book10-GB-RF-Train-90-10.csv'"
     ]
    }
   ],
   "source": [
    "\n",
    "Trainingset_XinYin=pd.read_csv(\"C:\\\\Users\\\\USER\\\\Documents\\\\Book10-GB-RF-Train-90-10.csv\")\n",
    "Testset_XinYin=pd.read_csv(\"C:\\\\Users\\\\USER\\\\Documents\\\\Book10-GB-RF-Test-90-10.csv\")\n"
   ]
  },
  {
   "cell_type": "code",
   "execution_count": null,
   "id": "e94a359d",
   "metadata": {},
   "outputs": [],
   "source": [
    "Trainingset_XinYin"
   ]
  },
  {
   "cell_type": "code",
   "execution_count": null,
   "id": "290f0561-f16d-4082-9e6a-4d7c9cc1f8a0",
   "metadata": {
    "tags": []
   },
   "outputs": [],
   "source": [
    "\n",
    "X_model_train=Trainingset_XinYin.drop(['UCS'],axis=1) #X is \"remove the variable in '' \"\n",
    "y_model_train=Trainingset_XinYin['UCS']\n",
    "X_test=Testset_XinYin.drop(['UCS'],axis=1) #X is \"remove the variable in '' \"\n",
    "y_test=Testset_XinYin['UCS']"
   ]
  },
  {
   "cell_type": "code",
   "execution_count": null,
   "id": "323cbd2e-aa69-4cc5-a113-e653ab12373b",
   "metadata": {
    "tags": []
   },
   "outputs": [],
   "source": [
    "print('x train data {}'.format(X_model_train.shape))\n",
    "print('y train data {}'.format(y_model_train.shape))\n",
    "print('x test data  {}'.format(X_test.shape))\n",
    "print('y test data  {}'.format(y_test.shape))\n",
    "\n",
    "\n"
   ]
  },
  {
   "cell_type": "code",
   "execution_count": null,
   "id": "506991ff-1205-4cca-b1e9-5275891c94dc",
   "metadata": {
    "tags": []
   },
   "outputs": [],
   "source": [
    "X_model_train.skew()"
   ]
  },
  {
   "cell_type": "code",
   "execution_count": null,
   "id": "e8659e24-607a-432a-bc98-e1d304afe045",
   "metadata": {
    "scrolled": true,
    "tags": []
   },
   "outputs": [],
   "source": [
    "X_test.skew()"
   ]
  },
  {
   "cell_type": "code",
   "execution_count": null,
   "id": "3e1a75ce-3d26-4da0-ac93-e8761a6c20b1",
   "metadata": {
    "tags": []
   },
   "outputs": [],
   "source": [
    "#ChuksData_df = pd.DataFrame({'X_model_train': [X_model_train], 'y_model_train' : [y_model_train], 'X_test' : [X_test], 'y_test' : [y_test]})\n",
    "#pd.DataFrame(X_model_train, y_model_train).to_csv('training.csv')\n",
    "training_data_x = X_model_train\n",
    "test_data_x = X_test\n",
    "training_data_y = y_model_train\n",
    "test_data_y = y_test\n",
    "training_data_x.to_csv('yin_training_data_x.csv', index=False)\n",
    "test_data_x.to_csv('yin_test_data_x.csv', index=False)\n",
    "training_data_y.to_csv('yin_training_data_y.csv', index=False)\n",
    "test_data_y.to_csv('yin_test_data_y.csv', index=False)"
   ]
  },
  {
   "cell_type": "code",
   "execution_count": null,
   "id": "2d1c4fc3-e4a4-4b1f-9c08-bf8ec562d0c5",
   "metadata": {
    "tags": []
   },
   "outputs": [],
   "source": [
    "X_model_train.hist(figsize=(15,7));"
   ]
  },
  {
   "cell_type": "code",
   "execution_count": null,
   "id": "9b59e384-3a4d-4e09-9d1b-fda028704b45",
   "metadata": {
    "tags": []
   },
   "outputs": [],
   "source": [
    "from sklearn.preprocessing import PowerTransformer\n",
    "pt=PowerTransformer()\n",
    "X_model_train_transformed_arr=pt.fit_transform(X_model_train)\n",
    "X_test_transformed_arr=pt.fit_transform(X_test)"
   ]
  },
  {
   "cell_type": "code",
   "execution_count": null,
   "id": "189353fd-a232-4092-9b3f-08f248a67abb",
   "metadata": {
    "tags": []
   },
   "outputs": [],
   "source": [
    "X_model_train_transformed=pd.DataFrame(X_model_train_transformed_arr,columns=X_model_train.columns)\n",
    "X_test_transformed=pd.DataFrame(X_test_transformed_arr, columns=['SRn', 'Vp', 'Is'])\n",
    "from scipy import stats"
   ]
  },
  {
   "cell_type": "code",
   "execution_count": null,
   "id": "8371308f-1701-4b36-b9c6-c668f84b02d2",
   "metadata": {
    "tags": []
   },
   "outputs": [],
   "source": [
    "#visualising their respective QQPlots\n",
    "for col in X.columns:\n",
    "    plt.figure(figsize=(16,5))\n",
    "    plt.subplot(2,2,1)\n",
    "    stats.probplot(x=X_model_train[col],dist='norm',plot=plt)\n",
    "    plt.title(col)\n",
    "    plt.subplot(2,2,2)\n",
    "    stats.probplot(x=X_model_train_transformed[col],dist='norm',plot=plt)\n",
    "    plt.title(label=col+' After Transformation')\n",
    "    plt.subplot(2,2,3)\n",
    "    sns.kdeplot(x=X[col])\n",
    "    plt.subplot(2,2,4)\n",
    "    sns.kdeplot(x=X_model_train_transformed[col])\n",
    "    plt.show()"
   ]
  },
  {
   "cell_type": "code",
   "execution_count": null,
   "id": "e74d07f4-a81d-4dbf-928a-687a7af58dea",
   "metadata": {
    "tags": []
   },
   "outputs": [],
   "source": [
    "X_model_train_transformed.skew()"
   ]
  },
  {
   "cell_type": "code",
   "execution_count": null,
   "id": "1e93d05d-5397-4420-b57c-994877fa6114",
   "metadata": {
    "tags": []
   },
   "outputs": [],
   "source": [
    "X_model_train_transformed"
   ]
  },
  {
   "cell_type": "code",
   "execution_count": null,
   "id": "b275f87f-ed8f-41d5-b1a3-df8c153a4ebe",
   "metadata": {
    "tags": []
   },
   "outputs": [],
   "source": [
    "#Similarly for test data\n",
    "X_test.skew()"
   ]
  },
  {
   "cell_type": "code",
   "execution_count": null,
   "id": "c9f54eea-6f41-49ab-99e5-ae34c7b64dad",
   "metadata": {
    "tags": []
   },
   "outputs": [],
   "source": [
    "X_test_transformed"
   ]
  },
  {
   "cell_type": "code",
   "execution_count": null,
   "id": "7fa41c55-1e9c-410e-92ec-f8c4d9ba2f8a",
   "metadata": {
    "tags": []
   },
   "outputs": [],
   "source": [
    "\n",
    "X_model_train_transformed.to_csv('Yin_X_model_train_transformed.csv', index=False) "
   ]
  },
  {
   "cell_type": "code",
   "execution_count": null,
   "id": "0b6172e2-f75b-446e-bc6b-410222a6449e",
   "metadata": {
    "tags": []
   },
   "outputs": [],
   "source": [
    "X_test_transformed.to_csv('Yin_X_test_transformed.csv', index=False) "
   ]
  },
  {
   "cell_type": "code",
   "execution_count": null,
   "id": "6486cebf-c50d-4bac-a2aa-e0a35f70488b",
   "metadata": {
    "tags": []
   },
   "outputs": [],
   "source": [
    "pwd"
   ]
  },
  {
   "cell_type": "code",
   "execution_count": null,
   "id": "92d5b66d-fed8-4636-957a-e05529b13cf2",
   "metadata": {},
   "outputs": [],
   "source": []
  },
  {
   "cell_type": "code",
   "execution_count": null,
   "id": "7a60daf8-edbe-442e-90b8-88c8b5e17e08",
   "metadata": {},
   "outputs": [],
   "source": [
    "#Model Building\n"
   ]
  },
  {
   "cell_type": "code",
   "execution_count": null,
   "id": "8bafe2db-d80a-4de0-9850-dcf663e347df",
   "metadata": {
    "scrolled": true
   },
   "outputs": [],
   "source": [
    "from sklearn.ensemble import AdaBoostRegressor, GradientBoostingRegressor, RandomForestRegressor, ExtraTreesRegressor\n",
    "from lightgbm import LGBMRegressor\n",
    "from xgboost import XGBRegressor\n",
    "from sklearn.tree import DecisionTreeRegressor\n",
    "from sklearn.tree import export_graphviz\n",
    "from sklearn.metrics import mean_squared_error, mean_absolute_error, r2_score, explained_variance_score\n",
    "from sklearn.model_selection import KFold, GridSearchCV, RandomizedSearchCV, cross_val_score #for grid search\n",
    "from bayes_opt import BayesianOptimization #for Bayesian Optimization\n",
    "import pyswarms as ps #For Particle Swarm Algorithm (PSO)\n",
    "from pyswarms.utils.search.grid_search import GridSearch\n",
    "from scipy.optimize import differential_evolution #for Genetic Algorithms and Differential Evolution\n",
    "from sklearn.metrics import accuracy_score\n",
    "import cma #CMA-ES\n",
    "#numpy for BOA, GWO, WOA, SSA, AOA, AOA, IEOA, ABCA, ICA, SFS, "
   ]
  },
  {
   "cell_type": "code",
   "execution_count": null,
   "id": "2df5c35d-cc0b-48dc-a210-231e5eaa5cb4",
   "metadata": {},
   "outputs": [],
   "source": [
    "ABR = AdaBoostRegressor(random_state=42)\n",
    "GBDT = GradientBoostingRegressor(random_state=42)\n",
    "XGB = XGBRegressor(objective='reg:squarederror', random_state=42)\n",
    "LGBM = LGBMRegressor(random_state=42)\n",
    "RF = RandomForestRegressor(random_state=42)\n",
    "ET = ExtraTreesRegressor(random_state=42)\n",
    "ID3 = DecisionTreeRegressor(criterion='friedman_mse', random_state=42) #Iterative Dichotomiser 3 #a variation of standard decision tree algorithm, To specify the algorithm to be used, we can use the \"criterion\" parameter\n",
    "C4_5 = DecisionTreeRegressor(criterion='friedman_mse', splitter='best', max_features=None, random_state=42) #a variation of standard decision tree algorithm, To specify the algorithm to be used, we can use the \"criterion\" parameter\n",
    "CART = DecisionTreeRegressor(criterion='absolute_error', random_state=42) #Classification and Regression Trees\n",
    "\n",
    "# Train models\n",
    "\n",
    "models = {'ABR': ABR, 'GBDT': GBDT, 'XGB': XGB, 'LGBM': LGBM, 'RF': RF, 'ET': ET, 'ID3': ID3, 'C4_5': C4_5, 'CART': CART}\n",
    "\n"
   ]
  },
  {
   "cell_type": "code",
   "execution_count": null,
   "id": "706cacd6-248b-4e23-a1d1-81337f302c3e",
   "metadata": {
    "tags": []
   },
   "outputs": [],
   "source": [
    "resultsTT = []\n",
    "for name, model in models.items():\n",
    "    model.fit(X_model_train, y_model_train)\n",
    "\n",
    "    # Make predictions on the training set\n",
    "    y_pred_train = model.predict(X_model_train)\n",
    "\n",
    "    # Calculate performance metrics\n",
    "    rmse = np.sqrt(mean_squared_error(y_model_train, y_pred_train))\n",
    "    mae = mean_absolute_error(y_model_train, y_pred_train)\n",
    "    vaf = 1 - (np.var(y_model_train - y_pred_train) / np.var(y_model_train))\n",
    "    ns = 1 - mean_squared_error(y_model_train, y_pred_train) / np.var(y_model_train)\n",
    "    wmape = np.mean(np.abs(y_model_train - y_pred_train) / np.abs(y_model_train))\n",
    "    wmbe = np.mean(y_model_train - y_pred_train)\n",
    "    r = np.corrcoef(y_model_train, y_pred_train)[0][1]\n",
    "    r2 = r2_score(y_model_train, y_pred_train)\n",
    "    resultsTT.append([name, rmse, mae, vaf, ns, wmape, wmbe, r, r2])\n",
    "    \n",
    "    # Print the performance metrics\n",
    "    print(f\"{name} - Training Set Performance:\")\n",
    "    print(f\"RMSE: {rmse:.3f}\")\n",
    "    print(f\"MAE: {mae:.3f}\")\n",
    "    print(f\"VAF: {vaf:.3f}\")\n",
    "    print(f\"NS: {ns:.3f}\")\n",
    "    print(f\"WMAPE: {wmape:.3f}\")\n",
    "    print(f\"WMBE: {wmbe:.3f}\")\n",
    "    print(f\"R: {r:.3f}\")\n",
    "    print(f\"R^2: {r2:.3f}\\n\")\n",
    "\n",
    "    \n",
    "# print the results\n",
    "headersTT = ['Model', 'RMSE', 'MAE', 'VAF', 'NS', 'WMAPE', 'WMBE', 'R', 'R2']\n",
    "print(pd.DataFrame(resultsTT, columns=headersTT))"
   ]
  },
  {
   "cell_type": "code",
   "execution_count": null,
   "id": "85a9d1ca-2970-48b1-a6f9-5e86a84530d6",
   "metadata": {},
   "outputs": [],
   "source": []
  },
  {
   "cell_type": "code",
   "execution_count": null,
   "id": "81030bba-5780-46cd-8263-3c38c1f04675",
   "metadata": {
    "tags": []
   },
   "outputs": [],
   "source": [
    "# print the predicted_results\n",
    "train_predicts = pd.DataFrame(resultsTT, columns=headersTT)\n",
    "train_predicts.to_csv('Yin_performances_prdicting_trainingYs.csv', index=False)\n"
   ]
  },
  {
   "cell_type": "code",
   "execution_count": null,
   "id": "9b88bdeb-3e3a-4b4f-a7b6-6569ac006d7a",
   "metadata": {
    "tags": []
   },
   "outputs": [],
   "source": [
    "pwd"
   ]
  },
  {
   "cell_type": "code",
   "execution_count": null,
   "id": "5dd1ca59-629c-4f67-8484-c9299ed6f76a",
   "metadata": {
    "tags": []
   },
   "outputs": [],
   "source": [
    "def get_predictions(model, X_model_train, y_model_train, X_test, y_test):\n",
    "    train_preds = model.predict(X_model_train)\n",
    "    test_preds = model.predict(X_test)\n",
    "    return train_preds, test_preds\n",
    "# Create a list of models\n",
    "models = {'ABR': ABR, 'GBDT': GBDT, 'XGB': XGB, 'LGBM': LGBM, 'RF': RF, 'ET': ET, 'ID3': ID3, 'C4_5': C4_5, 'CART': CART}\n",
    "\n",
    "# Create a dictionary to store the predictions for each model\n",
    "predictions = {}\n",
    "\n",
    "# Loop through the models and get the predictions for each set\n",
    "for name, model in models.items():\n",
    "    train_preds, test_preds = get_predictions(model, X_model_train, y_model_train, X_test, y_test)\n",
    "    predictions[name] = test_preds\n",
    "    \n",
    "# Convert the dictionary to a DataFrame and save to a CSV file\n",
    "test_preds_alls_df = pd.DataFrame(predictions)\n",
    "test_preds_alls_df.to_csv('Yin_test_predsYs_alls.csv', index=False)\n",
    "\n"
   ]
  },
  {
   "cell_type": "code",
   "execution_count": null,
   "id": "9eb55b62-7bbe-4305-8f5c-2603adedcb77",
   "metadata": {
    "tags": []
   },
   "outputs": [],
   "source": [
    "predicted_train_y = pd.DataFrame(y_pred_train)\n",
    "predicted_train_y.to_csv('Yin_predicted_train_y.csv', index=False)  #this generates just one prediction, all models are supposed to give predictions           "
   ]
  },
  {
   "cell_type": "code",
   "execution_count": null,
   "id": "1b95d7cc-89bf-4a06-9bd7-41d397096410",
   "metadata": {
    "tags": []
   },
   "outputs": [],
   "source": []
  },
  {
   "cell_type": "code",
   "execution_count": null,
   "id": "cea10326-8d05-4c23-8856-c3eba1072634",
   "metadata": {
    "tags": []
   },
   "outputs": [],
   "source": [
    "\n",
    "# Define a function to get the predictions for each set\n",
    "def get_predictions1(model, X_model_train, y_model_train, X_test, y_test):\n",
    "    train_preds = model.predict(X_model_train)\n",
    "    test_preds = model.predict(X_test)\n",
    "    return train_preds, test_preds\n",
    "\n",
    "# Create a list of models\n",
    "models = {'ABR': ABR, 'GBDT': GBDT, 'XGB': XGB, 'LGBM': LGBM, 'RF': RF, 'ET': ET, 'ID3': ID3, 'C4_5': C4_5, 'CART': CART}\n",
    "\n",
    "# Create a dictionary to store the predictions for each model\n",
    "predictions1 = {}\n",
    "\n",
    "\n",
    "# Loop through the models and get the predictions for each set\n",
    "\n",
    "for name, model in models.items():\n",
    "    train_preds, test_preds = get_predictions1(model, X_model_train, y_model_train, X_test, y_test)\n",
    "    predictions1[name] = train_preds   \n",
    "\n",
    "# Convert the dictionary to a DataFrame and save to a CSV file\n",
    "train_predicts_alls_df = pd.DataFrame(predictions1)\n",
    "train_predicts_alls_df.to_csv('Yin_training_predictYs_as.csv', index=False)"
   ]
  },
  {
   "cell_type": "code",
   "execution_count": null,
   "id": "4a039d56-8be0-4168-a50d-b2b643fe0bb5",
   "metadata": {
    "tags": []
   },
   "outputs": [],
   "source": [
    "#Using standardized train values\n",
    "resultsSTT = []\n",
    "for name, model in models.items():\n",
    "    model.fit(X_model_train_transformed, y_model_train)\n",
    "\n",
    "    # Make predictions on the training set\n",
    "    y_pred_train_trans = model.predict(X_model_train_transformed)\n",
    "\n",
    "    # Calculate performance metrics\n",
    "    rmse = np.sqrt(mean_squared_error(y_model_train, y_pred_train_trans))\n",
    "    mae = mean_absolute_error(y_model_train, y_pred_train_trans)\n",
    "    vaf = 1 - (np.var(y_model_train - y_pred_train_trans) / np.var(y_model_train))\n",
    "    ns = 1 - mean_squared_error(y_model_train, y_pred_train_trans) / np.var(y_model_train)\n",
    "    wmape = np.mean(np.abs(y_model_train - y_pred_train_trans) / np.abs(y_model_train))\n",
    "    wmbe = np.mean(y_model_train - y_pred_train_trans)\n",
    "    r = np.corrcoef(y_model_train, y_pred_train_trans)[0][1]\n",
    "    r2 = r2_score(y_model_train, y_pred_train_trans)\n",
    "    resultsSTT.append([name, rmse, mae, vaf, ns, wmape, wmbe, r, r2])\n",
    "    \n",
    "    # Print the performance metrics\n",
    "    print(f\"{name} - Training Set Performance On Training set Transformed Data:\")\n",
    "    print(f\"RMSE: {rmse:.3f}\")\n",
    "    print(f\"MAE: {mae:.3f}\")\n",
    "    print(f\"VAF: {vaf:.3f}\")\n",
    "    print(f\"NS: {ns:.3f}\")\n",
    "    print(f\"WMAPE: {wmape:.3f}\")\n",
    "    print(f\"WMBE: {wmbe:.3f}\")\n",
    "    print(f\"R: {r:.3f}\")\n",
    "    print(f\"R^2: {r2:.3f}\\n\")\n",
    "\n",
    "# print the results\n",
    "headersSTT = ['Model', 'RMSE', 'MAE', 'VAF', 'NS', 'WMAPE', 'WMBE', 'R', 'R2']\n",
    "print(pd.DataFrame(resultsSTT, columns=headersSTT))"
   ]
  },
  {
   "cell_type": "code",
   "execution_count": null,
   "id": "3114ad7e-a017-47a8-a2be-e4a76e434c8a",
   "metadata": {
    "tags": []
   },
   "outputs": [],
   "source": [
    "# print the predicted_results_for the transformed training data\n",
    "train_trans_predicts = pd.DataFrame(resultsSTT, columns=headersSTT)\n",
    "train_trans_predicts.to_csv('Yin_training_trans_predicts.csv', index=False)\n",
    "predicted_train_y_trans = pd.DataFrame(y_pred_train_trans)\n",
    "predicted_train_y_trans.to_csv('Yin_predicted_train_y_trans.csv', index=False) "
   ]
  },
  {
   "cell_type": "code",
   "execution_count": null,
   "id": "d2ed3744-5ded-487b-8106-262ddd551704",
   "metadata": {
    "tags": []
   },
   "outputs": [],
   "source": [
    "pwd"
   ]
  },
  {
   "cell_type": "code",
   "execution_count": null,
   "id": "c63b315b-0f47-4aa1-a4d2-247aa3d8476b",
   "metadata": {
    "tags": []
   },
   "outputs": [],
   "source": [
    "\n",
    "# evaluate the models on testing set\n",
    "resultsTS = []\n",
    "for name, model in models.items():\n",
    "    model.fit(X_model_train, y_model_train)\n",
    "    y_pred_test = model.predict(X_test)\n",
    "    rmse = np.sqrt(mean_squared_error(y_test, y_pred_test))\n",
    "    mae = mean_absolute_error(y_test, y_pred_test)\n",
    "    vaf = 1 - np.var(y_test-y_pred_test)/np.var(y_test)\n",
    "    ns = 1 - np.sum((y_test-y_pred_test)**2)/np.sum((y_test-np.mean(y_pred_test))**2)\n",
    "    wmape = np.mean(np.abs((y_test - y_pred_test) / np.abs(y_test)))\n",
    "    wbme = np.mean(y_test - y_pred_test)\n",
    "    r = np.corrcoef(y_test, y_pred_test)[0,1]\n",
    "    r2 = r2_score(y_test, y_pred_test)\n",
    "    resultsTS.append([name, rmse, mae, vaf, ns, wmape, wbme, r, r2])\n",
    "    \n",
    "     # Print the performance metrics\n",
    "    print(f\"{name} - Testing Set Performance:\")\n",
    "    print(f\"RMSE: {rmse:.3f}\")\n",
    "    print(f\"MAE: {mae:.3f}\")\n",
    "    print(f\"VAF: {vaf:.3f}\")\n",
    "    print(f\"NS: {ns:.3f}\")\n",
    "    print(f\"WMAPE: {wmape:.3f}\")\n",
    "    print(f\"WMBE: {wmbe:.3f}\")\n",
    "    print(f\"R: {r:.3f}\")\n",
    "    print(f\"R^2: {r2:.3f}\\n\")\n",
    "\n",
    "# print the results\n",
    "headersTS = ['Model', 'RMSE', 'MAE', 'VAF', 'NS', 'WMAPE', 'WMBE', 'R', 'R2']\n",
    "print(pd.DataFrame(resultsTS, columns=headersTS))"
   ]
  },
  {
   "cell_type": "code",
   "execution_count": null,
   "id": "38766acb-7240-4577-b6ca-e7c647fd10f4",
   "metadata": {
    "tags": []
   },
   "outputs": [],
   "source": [
    "testing_predicts = pd.DataFrame(resultsTS, columns=headersTS)\n",
    "testing_predicts.to_csv('Yin_testing_predictions_metrics.csv', index=False)\n",
    "predicted_test_y = pd.DataFrame(y_pred_test)\n",
    "predicted_test_y.to_csv('Yin_predicted_test_values_all.csv', index=False)"
   ]
  },
  {
   "cell_type": "code",
   "execution_count": null,
   "id": "1d104cf0-3092-496c-ae63-1517fb2da067",
   "metadata": {
    "tags": []
   },
   "outputs": [],
   "source": [
    "pwd"
   ]
  },
  {
   "cell_type": "code",
   "execution_count": null,
   "id": "b14c77b5-67f6-4ab8-9746-3881d32ac2c8",
   "metadata": {},
   "outputs": [],
   "source": [
    "#Using standardized values of transformed testing set\n",
    "resultsTTS = []\n",
    "for name, model in models.items():\n",
    "    model.fit(X_model_train_transformed, y_model_train)\n",
    "\n",
    "    # Make predictions on the transformed testing set\n",
    "    y_pred_test_trans = model.predict(X_test_transformed)\n",
    "   \n",
    "\n",
    "\n",
    "    # Calculate performance metrics\n",
    "    rmse = np.sqrt(mean_squared_error(y_test, y_pred_test_trans))\n",
    "    mae = mean_absolute_error(y_test, y_pred_test_trans)\n",
    "    vaf = 1 - (np.var(y_test - y_pred_test_trans) / np.var(y_test))\n",
    "    ns = 1 - mean_squared_error(y_test, y_pred_test_trans) / np.var(y_test)\n",
    "    wmape = np.mean(np.abs(y_test - y_pred_test_trans) / np.abs(y_test))\n",
    "    wmbe = np.mean(y_test - y_pred_test_trans)\n",
    "    r = np.corrcoef(y_test, y_pred_test_trans)[0][1]\n",
    "    r2 = r2_score(y_test, y_pred_test_trans)\n",
    "    resultsTTS.append([name, rmse, mae, vaf, ns, wmape, wmbe, r, r2])\n",
    "    \n",
    "    # Print the performance metrics\n",
    "    print(f\"{name} - Testing Set Performance On Transformed Data:\")\n",
    "    print(f\"RMSE: {rmse:.3f}\")\n",
    "    print(f\"MAE: {mae:.3f}\")\n",
    "    print(f\"VAF: {vaf:.3f}\")\n",
    "    print(f\"NS: {ns:.3f}\")\n",
    "    print(f\"WMAPE: {wmape:.3f}\")\n",
    "    print(f\"WMBE: {wmbe:.3f}\")\n",
    "    print(f\"R: {r:.3f}\")\n",
    "    print(f\"R^2: {r2:.3f}\\n\")\n",
    "\n",
    "# print the results\n",
    "headersTTS = ['Model', 'RMSE', 'MAE', 'VAF', 'NS', 'WMAPE', 'WMBE', 'R', 'R2']\n",
    "print(pd.DataFrame(resultsTTS, columns=headersTTS))"
   ]
  },
  {
   "cell_type": "code",
   "execution_count": null,
   "id": "a50fa6e7-a013-47f8-b9ed-5330a4bd4f30",
   "metadata": {},
   "outputs": [],
   "source": [
    "# print the predicted_results_for the transformed testing data\n",
    "test_trans_predicts = pd.DataFrame(resultsTTS, columns=headersTTS)\n",
    "test_trans_predicts.to_csv('Yin_testing_trans_predicts_metrics.csv', index=False)\n",
    "predicted_test_y_trans = pd.DataFrame(y_pred_test_trans)\n",
    "predicted_test_y_trans.to_csv('Yin_predicted_test_y_trans_metrics.csv', index=False)"
   ]
  },
  {
   "cell_type": "code",
   "execution_count": null,
   "id": "ee26d85e-e8ad-44ea-9e57-945ed4c9b3ec",
   "metadata": {
    "tags": []
   },
   "outputs": [],
   "source": [
    "pwd"
   ]
  },
  {
   "cell_type": "code",
   "execution_count": null,
   "id": "bc26801f-9ae9-4211-96f5-ad5c9c1fd492",
   "metadata": {},
   "outputs": [],
   "source": []
  },
  {
   "cell_type": "code",
   "execution_count": null,
   "id": "106352c7-b381-49e8-80d5-9c214522cd88",
   "metadata": {},
   "outputs": [],
   "source": [
    "# Define a function (for the transfored training set) to get the predictions for each set\n",
    "def get_predictions(model, X_model_train_transformed, y_model_train, X_test_transformed, y_test):\n",
    "    train_preds_trans = model.predict(X_model_train_transformed)\n",
    "    test_preds_trans = model.predict(X_test_transformed)\n",
    "    return train_preds_trans, test_preds_trans\n",
    "\n",
    "# Create a list of models\n",
    "models = {'ABR': ABR, 'GBDT': GBDT, 'XGB': XGB, 'LGBM': LGBM, 'RF': RF, 'ET': ET, 'ID3': ID3, 'C4_5': C4_5, 'CART': CART}\n",
    "\n",
    "# Create a dictionary to store the predictions for each model\n",
    "predictions = {}\n",
    "\n",
    "\n",
    "# Loop through the models and get the predictions for each set\n",
    "\n",
    "for name, model in models.items():\n",
    "    train_preds_trans, test_preds_trans = get_predictions(model, X_model_train_transformed, y_model_train, X_test_transformed, y_test)\n",
    "    predictions[name] = train_preds_trans\n",
    "\n",
    "# Convert the dictionary to a DataFrame and save to a CSV file\n",
    "train_preds_trans_df = pd.DataFrame(predictions)\n",
    "train_preds_trans_df.to_csv('Yin_training_preds_transAllsYs.csv', index=False)\n"
   ]
  },
  {
   "cell_type": "code",
   "execution_count": null,
   "id": "0f74a994-338a-4106-b0a3-95c6016dbd79",
   "metadata": {
    "tags": []
   },
   "outputs": [],
   "source": [
    "# Define a function to get the predictions for each set\n",
    "def get_predictions(model, X_model_train, y_model_train, X_test, y_test):\n",
    "    train_preds = model.predict(X_model_train)\n",
    "    test_preds = model.predict(X_test)\n",
    "    return train_preds, test_preds\n",
    "\n",
    "# Create a list of models\n",
    "models = {'ABR': ABR, 'GBDT': GBDT, 'XGB': XGB, 'LGBM': LGBM, 'RF': RF, 'ET': ET, 'ID3': ID3, 'C4_5': C4_5, 'CART': CART}\n",
    "\n",
    "# Create a dictionary to store the predictions for each model\n",
    "predictions = {}\n",
    "\n",
    "\n",
    "# Loop through the models and get the predictions for each set\n",
    "for name, model in models.items():\n",
    "    train_preds, test_preds = get_predictions(model, X_model_train, y_model_train, X_test, y_test)\n",
    "    predictions[name] = test_preds\n",
    "   \n",
    "# Convert the dictionary to a DataFrame and save to a CSV file\n",
    "test_preds_alls_df = pd.DataFrame(predictions)\n",
    "test_preds_alls_df.to_csv('Yin_testing_preds_alls.csv', index=False)"
   ]
  },
  {
   "cell_type": "code",
   "execution_count": null,
   "id": "33c5555b-a4a1-4c68-a35a-2040dae1de3d",
   "metadata": {
    "tags": []
   },
   "outputs": [],
   "source": [
    "pwd"
   ]
  },
  {
   "cell_type": "code",
   "execution_count": null,
   "id": "e7826c86-8109-4347-972a-e0dbfce4a1e7",
   "metadata": {},
   "outputs": [],
   "source": [
    "# Define a function (for the transfored testing set) to get the predictions for each set\n",
    "def get_predictions(model, X_model_train_transformed, y_model_train, X_test_transformed, y_test):\n",
    "    train_preds_trans = model.predict(X_model_train_transformed)\n",
    "    test_preds_trans = model.predict(X_test_transformed)\n",
    "    return train_preds_trans, test_preds_trans\n",
    "\n",
    "# Create a list of models\n",
    "models = {'ABR': ABR, 'GBDT': GBDT, 'XGB': XGB, 'LGBM': LGBM, 'RF': RF, 'ET': ET, 'ID3': ID3, 'C4_5': C4_5, 'CART': CART}\n",
    "\n",
    "# Create a dictionary to store the predictions for each model\n",
    "predictions = {}\n",
    "\n",
    "\n",
    "# Loop through the models and get the predictions for each set\n",
    "for name, model in models.items():\n",
    "    train_preds_trans, test_preds_trans = get_predictions(model, X_model_train_transformed, y_model_train, X_test_transformed, y_test)\n",
    "    predictions[name] = test_preds_trans\n",
    "   \n",
    "\n",
    "# Convert the dictionary to a DataFrame and save to a CSV file\n",
    "test_preds_trans_df = pd.DataFrame(predictions)\n",
    "test_preds_trans_df.to_csv('Yin_testing_preds_trans.csv', index=False)\n"
   ]
  },
  {
   "cell_type": "code",
   "execution_count": null,
   "id": "a8c967ac-101d-44cb-abf3-4719e6f4fd53",
   "metadata": {
    "tags": []
   },
   "outputs": [],
   "source": [
    "pwd"
   ]
  },
  {
   "cell_type": "code",
   "execution_count": null,
   "id": "e1085c2e-311c-4949-b97e-f62724c49e50",
   "metadata": {
    "tags": []
   },
   "outputs": [],
   "source": [
    "\n",
    "\n",
    "#lssvm_train_trans_df = pd.DataFrame(lssvm.predict(X_model_train_transformed))\n",
    "#lssvm_train_trans_df.to_csv('lssvm_train_preds_trans.csv', index=False)\n",
    "#lssvm_test_trans_df = pd.DataFrame(lssvm.predict(X_test_transformed))\n",
    "#lssvm_test_trans_df.to_csv('lssvm_test_preds_trans.csv', index=False)\n",
    "#lssvm_val_trans_df = pd.DataFrame(lssvm.predict(X_val_transformed))\n",
    "#lssvm_val_trans_df.to_csv('lssvm_val_preds_trans.csv', index=False)\n",
    "\n",
    "\n",
    "\n"
   ]
  },
  {
   "cell_type": "code",
   "execution_count": null,
   "id": "53b594aa-6231-47bb-a7bd-e30eb9c946a6",
   "metadata": {},
   "outputs": [],
   "source": [
    "pwd"
   ]
  },
  {
   "cell_type": "code",
   "execution_count": null,
   "id": "101009cc-4008-406a-8814-177fcd771510",
   "metadata": {
    "tags": []
   },
   "outputs": [],
   "source": [
    "\n",
    "\n",
    "svm_train_df = pd.DataFrame(svm.predict(X_model_train))\n",
    "svm_train_df.to_csv('svm_train_preds.csv', index=False)\n",
    "svm_test_df = pd.DataFrame(svm.predict(X_test))\n",
    "svm_test_df.to_csv('svm_test_preds.csv', index=False)\n",
    "svm_val_df = pd.DataFrame(svm.predict(X_val))\n",
    "svm_val_df.to_csv('svm_val_preds.csv', index=False)\n",
    "\n",
    "gpr_train_df = pd.DataFrame(gpr.predict(X_model_train))\n",
    "gpr_train_df.to_csv('gpr_train_preds.csv', index=False)\n",
    "gpr_test_df = pd.DataFrame(gpr.predict(X_test))\n",
    "gpr_test_df.to_csv('gpr_test_preds.csv', index=False)\n",
    "gpr_val_df = pd.DataFrame(gpr.predict(X_val))\n",
    "gpr_val_df.to_csv('gpr_val_preds.csv', index=False)\n",
    "\n",
    "dt_train_df = pd.DataFrame(dt.predict(X_model_train))\n",
    "dt_train_df.to_csv('dt_train_preds.csv', index=False)\n",
    "dt_test_df = pd.DataFrame(dt.predict(X_test))\n",
    "dt_test_df.to_csv('dt_test_preds.csv', index=False)\n",
    "dt_val_df = pd.DataFrame(dt.predict(X_val))\n",
    "dt_val_df.to_csv('dt_val_preds.csv', index=False)\n",
    "\n",
    "et_train_df = pd.DataFrame(et.predict(X_model_train))\n",
    "et_train_df.to_csv('et_train_preds.csv', index=False)\n",
    "et_test_df = pd.DataFrame(et.predict(X_test))\n",
    "et_test_df.to_csv('et_test_preds.csv', index=False)\n",
    "et_val_df = pd.DataFrame(et.predict(X_val))\n",
    "et_val_df.to_csv('et_val_preds.csv', index=False)\n",
    "\n",
    "rf_train_df = pd.DataFrame(rf.predict(X_model_train))\n",
    "rf_train_df.to_csv('rf_train_preds.csv', index=False)\n",
    "rf_test_df = pd.DataFrame(rf.predict(X_test))\n",
    "rf_test_df.to_csv('rf_test_preds.csv', index=False)\n",
    "rf_val_df = pd.DataFrame(rf.predict(X_val))\n",
    "rf_val_df.to_csv('rf_val_preds.csv', index=False)\n",
    "\n",
    "gbr_train_df = pd.DataFrame(gbr.predict(X_model_train))\n",
    "gbr_train_df.to_csv('gbr_train_preds.csv', index=False)\n",
    "gbr_test_df = pd.DataFrame(gbr.predict(X_test))\n",
    "gbr_test_df.to_csv('gbr_test_preds.csv', index=False)\n",
    "gbr_val_df = pd.DataFrame(gbr.predict(X_val))\n",
    "gbr_val_df.to_csv('gbr_val_preds.csv', index=False)\n",
    "\n",
    "abr_train_df = pd.DataFrame(abr.predict(X_model_train))\n",
    "abr_train_df.to_csv('abr_train_preds.csv', index=False)\n",
    "abr_test_df = pd.DataFrame(abr.predict(X_test))\n",
    "abr_test_df.to_csv('abr_test_preds.csv', index=False)\n",
    "abr_val_df = pd.DataFrame(abr.predict(X_val))\n",
    "abr_val_df.to_csv('abr_val_preds.csv', index=False)\n",
    "\n",
    "mlr_train_df = pd.DataFrame(mlr.predict(X_model_train))\n",
    "mlr_train_df.to_csv('mlr_train_preds.csv', index=False)\n",
    "mlr_test_df = pd.DataFrame(mlr.predict(X_test))\n",
    "mlr_test_df.to_csv('mlr_test_preds.csv', index=False)\n",
    "mlr_val_df = pd.DataFrame(mlr.predict(X_val))\n",
    "mlr_val_df.to_csv('mlr_val_preds.csv', index=False)\n",
    "\n",
    "ann_train_df = pd.DataFrame(ann.predict(X_model_train))\n",
    "ann_train_df.to_csv('ann_train_preds.csv', index=False)\n",
    "ann_test_df = pd.DataFrame(ann.predict(X_test))\n",
    "ann_test_df.to_csv('ann_test_preds.csv', index=False)\n",
    "ann_val_df = pd.DataFrame(ann.predict(X_val))\n",
    "ann_val_df.to_csv('ann_val_preds.csv', index=False)\n",
    "\n",
    "gep_train_df = pd.DataFrame(gep.predict(X_model_train))\n",
    "gep_train_df.to_csv('gep_train_preds.csv', index=False)\n",
    "gep_test_df = pd.DataFrame(gep.predict(X_test))\n",
    "gep_test_df.to_csv('gep_test_preds.csv', index=False)\n",
    "gep_val_df = pd.DataFrame(gep.predict(X_val))\n",
    "gep_val_df.to_csv('gep_val_preds.csv', index=False)\n",
    "\n",
    "mpmr_train_df = pd.DataFrame(mpmr.predict(X_model_train))\n",
    "mpmr_train_df.to_csv('mpmr_train_preds.csv', index=False)\n",
    "mpmr_test_df = pd.DataFrame(mpmr.predict(X_test))\n",
    "mpmr_test_df.to_csv('mpmr_test_preds.csv', index=False)\n",
    "mpmr_val_df = pd.DataFrame(mpmr.predict(X_val))\n",
    "mpmr_val_df.to_csv('mpmr_val_preds.csv', index=False)\n",
    "\n",
    "lssvm_train_df = pd.DataFrame(lssvm.predict(X_model_train))\n",
    "lssvm_train_df.to_csv('lssvm_train_preds.csv', index=False)\n",
    "lssvm_test_df = pd.DataFrame(lssvm.predict(X_test))\n",
    "lssvm_test_df.to_csv('lssvm_test_preds.csv', index=False)\n",
    "lssvm_val_df = pd.DataFrame(lssvm.predict(X_val))\n",
    "lssvm_val_df.to_csv('lssvm_val_preds.csv', index=False)\n"
   ]
  },
  {
   "cell_type": "code",
   "execution_count": null,
   "id": "f9a5ee7b-0088-42c1-9315-ec7efb1b33ab",
   "metadata": {
    "tags": []
   },
   "outputs": [],
   "source": [
    "# Evaluate models on validation set\n",
    "rmse_val = {}\n",
    "mae_val = {}\n",
    "vaf_val = {}\n",
    "ns_val = {}\n",
    "wmape_val = {}\n",
    "mape_val = {}\n",
    "nmbe_val = {}\n",
    "r_val = {}\n",
    "r2_val = {}\n",
    "for name, model in models.items():\n",
    "    y_pred = model.predict(X_val)\n",
    "    rmse_val[name] = np.sqrt(mean_squared_error(y_val, y_pred))\n",
    "    mae_val[name] = mean_absolute_error(y_val, y_pred)\n",
    "    vaf_val[name] = explained_variance_score(y_val, y_pred)\n",
    "    ns_val[name] = 1 - (mean_squared_error(y_val, y_pred) / np.var(y_val))\n",
    "    wmape_val[name] = np.sum(np.abs(y_val - y_pred)) / np.sum(y_val)\n",
    "    mape_val[name] = np.mean(np.abs((y_val - y_pred) / y_val)) * 100\n",
    "    nmbe_val[name] = np.mean((y_val - y_pred) / y_val) * 100\n",
    "    r_val[name] = np.corrcoef(y_val, y_pred)[0,1]\n",
    "    r2_val[name] = r2_score(y_val, y_pred)\n",
    "\n",
    "for name, model in models.items():\n",
    "    print('RMSE value for', model, 'is', rmse_val[name])\n",
    "print (\"/n\")    \n",
    "for name, model in models.items():\n",
    "    print('MAE value for', model, 'is', mae_val[name])\n",
    "print (\"/n\") \n",
    "for name, model in models.items():\n",
    "    print('VAF value for', model, 'is', vaf_val[name])\n",
    "print (\"/n\")\n",
    "for name, model in models.items():\n",
    "    print('NS value for', model, 'is', ns_val[name])\n",
    "print (\"/n\")\n",
    "for name, model in models.items():\n",
    "    print('WMAPE value for', model, 'is', wmape_val[name])\n",
    "print (\"/n\")\n",
    "for name, model in models.items():\n",
    "    print('MAPE value for', model, 'is', mape_val[name])\n",
    "print (\"/n\")\n",
    "for name, model in models.items():\n",
    "    print('NMBE value for', model, 'is', nmbe_val[name])\n",
    "print (\"/n\")\n",
    "for name, model in models.items():\n",
    "    print('Rval value for', model, 'is', r_val[name])\n",
    "print (\"/n\")    \n",
    "for name, model in models.items():\n",
    "    print('R2_val value for', model, 'is', r2_val[name])\n",
    "\n",
    "print (\"/n\")    \n",
    "for name, model in models.items():\n",
    "    print('RMSE value for', model, 'is', rmse_val[name])\n",
    "    print('MAE value for', model, 'is', mae_val[name])\n",
    "    print('VAF value for', model, 'is', vaf_val[name])\n",
    "    print('NS value for', model, 'is', ns_val[name])\n",
    "    print('WMAPE value for', model, 'is', wmape_val[name])\n",
    "    print('MAPE value for', model, 'is', mape_val[name])\n",
    "    print('NMBE value for', model, 'is', nmbe_val[name])\n",
    "    print('Rval value for', model, 'is', r_val[name])\n",
    "    print('R2_val value for', model, 'is', r_val[name])"
   ]
  },
  {
   "cell_type": "code",
   "execution_count": null,
   "id": "5b3bdd96-3bc1-41d2-a006-50a24461fc02",
   "metadata": {},
   "outputs": [],
   "source": []
  },
  {
   "cell_type": "code",
   "execution_count": null,
   "id": "b42d083e-d7fc-4c9a-a603-6e3f01c5f280",
   "metadata": {
    "tags": []
   },
   "outputs": [],
   "source": [
    "values=[]\n",
    "names=[]\n",
    "def model_train_val_output(name, model, X_model_train, X_val, y_model_train, y_val):\n",
    "    model.fit(X_model_train, y_model_train)\n",
    "    y_pred = model.predict(X_val)\n",
    "    r2_value = r2_score(y_val, y_pred)\n",
    "    names.append(name)\n",
    "    values.append(r2_value)\n",
    "\n",
    "    return names, values"
   ]
  },
  {
   "cell_type": "code",
   "execution_count": null,
   "id": "e7a02d02-2741-4c0f-9d9e-be6eeb3fab8b",
   "metadata": {},
   "outputs": [],
   "source": []
  },
  {
   "cell_type": "code",
   "execution_count": null,
   "id": "f66f6c38-897c-44fd-8f34-9e4e75edd2c8",
   "metadata": {
    "tags": []
   },
   "outputs": [],
   "source": [
    "for name, model in  model_dict.items():\n",
    "    names,r2_score_val=model_train_val_output(name,model,X_model_train_transformed,X_val_transformed,y_model_train,y_val)\n",
    "\n"
   ]
  },
  {
   "cell_type": "code",
   "execution_count": null,
   "id": "3d004e5b-dca2-48eb-a2ca-05352f255e12",
   "metadata": {
    "tags": []
   },
   "outputs": [],
   "source": [
    "new_df=pd.DataFrame(names,columns=['Model_TT'])\n",
    "new_df['r2_score_transform']=r2_score_val\n"
   ]
  },
  {
   "cell_type": "code",
   "execution_count": null,
   "id": "582185ed-a3ec-43b4-9681-696a477c257f",
   "metadata": {
    "tags": []
   },
   "outputs": [],
   "source": [
    "new_df1=pd.DataFrame(names1,columns=['Model_TV'])\n",
    "new_df1['r3_score_transform']=r3_score_val"
   ]
  },
  {
   "cell_type": "code",
   "execution_count": null,
   "id": "c430146a-ea6b-4f69-a299-a2400b8deb66",
   "metadata": {
    "tags": []
   },
   "outputs": [],
   "source": [
    "values=[]\n",
    "names=[]\n",
    "def model_train_test_output(name, model, X_model_train, X_test, y_model_train, y_test):\n",
    "    model.fit(X_model_train, y_model_train)\n",
    "    y_pred = model.predict(X_test)\n",
    "    r2_value = r2_score(y_test, y_pred)\n",
    "    names.append(name)\n",
    "    values.append(r2_value)\n",
    "\n",
    "    return names,values\n",
    "#be like say one of these two up and down wey dem repeat na one for transform and other for score"
   ]
  },
  {
   "cell_type": "code",
   "execution_count": null,
   "id": "c9655d48-dbae-4b72-b1ab-36b5adc02da3",
   "metadata": {
    "tags": []
   },
   "outputs": [],
   "source": [
    "values1=[]\n",
    "names1=[]\n",
    "def model_train_val_output(name1, model, X_model_train, X_val, y_model_train, y_val):\n",
    "    model.fit(X_model_train, y_model_train)\n",
    "    y_pred1 = model.predict(X_val)\n",
    "    r3_value = r2_score(y_val, y_pred1)\n",
    "    names1.append(name1)\n",
    "    values1.append(r3_value)\n",
    "\n",
    "    return names1,values1"
   ]
  },
  {
   "cell_type": "code",
   "execution_count": null,
   "id": "2033092b-bbed-4085-b87c-a248a3e3a6d4",
   "metadata": {
    "tags": []
   },
   "outputs": [],
   "source": [
    "for name, model in  model_dict.items():\n",
    "    names,r2_score_val=model_train_test_output(name,model,X_model_train_transformed,X_test_transformed,y_model_train,y_test)\n",
    "for name1, model in  model_dict.items():\n",
    "    names1,r3_score_val=model_train_val_output(name1, model, X_model_train_transformed,X_val_transformed,y_model_train,y_val)"
   ]
  },
  {
   "cell_type": "code",
   "execution_count": null,
   "id": "68eb503d-7b83-4f15-97fb-4cf4f61529e8",
   "metadata": {
    "tags": []
   },
   "outputs": [],
   "source": [
    "new_df['r2_score']=r2_score_val\n",
    "new_df"
   ]
  },
  {
   "cell_type": "code",
   "execution_count": null,
   "id": "77cff303-6a54-4f00-9dce-f860260b7d42",
   "metadata": {},
   "outputs": [],
   "source": [
    "new_df1['r3_score']=r3_score_val\n",
    "new_df1"
   ]
  },
  {
   "cell_type": "code",
   "execution_count": null,
   "id": "d0a1a4b9-acf3-46e7-b635-25c6c5c6a48f",
   "metadata": {},
   "outputs": [],
   "source": []
  },
  {
   "cell_type": "code",
   "execution_count": null,
   "id": "dd9d7513-6422-4e4d-ba7d-d73b18a4ca99",
   "metadata": {
    "tags": []
   },
   "outputs": [],
   "source": [
    "rfr1=RandomForestRegressor()\n",
    "gbr1=GradientBoostingRegressor()"
   ]
  },
  {
   "cell_type": "code",
   "execution_count": null,
   "id": "d23c47e7-3685-4e4f-afcd-5692c541396b",
   "metadata": {
    "tags": []
   },
   "outputs": [],
   "source": [
    "params = {\n",
    "    'learning_rate' : [0.01, 0.1, 1.0,None],\n",
    "    'n_estimators' : [100, 150, 200,300,400,500],\n",
    "    'max_depth' : [3, 4, 5]\n",
    "}\n",
    "\n",
    "clf = GridSearchCV(gbr1, params,cv=10,n_jobs=-1,verbose=2,scoring='r2')\n",
    "clf.fit(X_model_train, y_model_train)"
   ]
  },
  {
   "cell_type": "code",
   "execution_count": null,
   "id": "9ed1c6a2-65e6-4041-9a26-fb4c65095573",
   "metadata": {},
   "outputs": [],
   "source": [
    "clf.best_params_\n"
   ]
  },
  {
   "cell_type": "code",
   "execution_count": null,
   "id": "bdf45c2f-62dd-446e-81c8-5e47be9c71d3",
   "metadata": {},
   "outputs": [],
   "source": [
    "clf.best_score_"
   ]
  },
  {
   "cell_type": "code",
   "execution_count": null,
   "id": "08c790a1-f9a3-44be-a6f9-8e1a58900fe1",
   "metadata": {},
   "outputs": [],
   "source": [
    "#RandomForestRegressor\n",
    "params = {\"n_estimators\": [150,200,250,400,500]\n",
    "             }\n",
    "\n",
    "clf = GridSearchCV(rfr1, params,cv=10,n_jobs=-1,verbose=2,scoring='r2')\n",
    "clf.fit(X_model_train, y_model_train)"
   ]
  },
  {
   "cell_type": "code",
   "execution_count": null,
   "id": "de8518d7-40e7-4279-b6e4-b3903dc2ac14",
   "metadata": {},
   "outputs": [],
   "source": [
    "clf.best_score_"
   ]
  },
  {
   "cell_type": "code",
   "execution_count": null,
   "id": "5c4da099-d476-4b9a-9bbc-96d405dd845c",
   "metadata": {
    "tags": []
   },
   "outputs": [],
   "source": [
    "clf.best_params_\n"
   ]
  },
  {
   "cell_type": "code",
   "execution_count": null,
   "id": "56e9d417-9d61-417d-8fdd-8a54c5313258",
   "metadata": {
    "tags": []
   },
   "outputs": [],
   "source": [
    "gbr=GradientBoostingRegressor(learning_rate=0.1,max_depth=4,n_estimators=400)\n",
    "gbr.fit(X_model_train, y_model_train)\n",
    "y_pred=gbr.predict(X_test)\n",
    "r2_score(y_test,y_pred)"
   ]
  },
  {
   "cell_type": "code",
   "execution_count": null,
   "id": "de68a1ea-8260-4914-9d48-bbce7ea811f8",
   "metadata": {},
   "outputs": [],
   "source": []
  },
  {
   "cell_type": "code",
   "execution_count": null,
   "id": "b6914d86-554e-4c59-93cb-16a8c73f3e17",
   "metadata": {},
   "outputs": [],
   "source": []
  },
  {
   "cell_type": "code",
   "execution_count": null,
   "id": "75cd4ed5-4d97-44a4-adcd-4f304de96a1b",
   "metadata": {
    "tags": []
   },
   "outputs": [],
   "source": [
    "import pandas as pd\n",
    "from sklearn.model_selection import train_test_split\n",
    "from sklearn.svm import SVR\n",
    "from sklearn.gaussian_process import GaussianProcessRegressor\n",
    "from sklearn.tree import DecisionTreeRegressor\n",
    "from sklearn.ensemble import RandomForestRegressor\n",
    "from sklearn.linear_model import LinearRegression\n",
    "from sklearn.neural_network import MLPRegressor\n",
    "from gplearn.genetic import SymbolicRegressor\n",
    "from mlxtend.regressor import StackingCVRegressor\n",
    "from sklearn.metrics import mean_squared_error, mean_absolute_error, r2_score, explained_variance_score\n",
    "import matplotlib.pyplot as plt\n",
    "import numpy as np\n",
    "\n",
    "\n",
    "# Define models\n",
    "svm = SVR(kernel='rbf', C=10, gamma=0.1, epsilon=.1)\n",
    "gpr = GaussianProcessRegressor()\n",
    "dt = DecisionTreeRegressor()\n",
    "rf = RandomForestRegressor()\n",
    "mlr = LinearRegression()\n",
    "ann = MLPRegressor(hidden_layer_sizes=(100,), activation='relu', solver='adam', max_iter=500)\n",
    "gep = SymbolicRegressor(generations=20, population_size=2000, tournament_size=20, stopping_criteria=0.01, p_crossover=0.7, p_subtree_mutation=0.1, p_hoist_mutation=0.05, p_point_mutation=0.1, verbose=1, random_state=42)\n",
    "mpmr = StackingCVRegressor(regressors=(svm, gpr, dt, rf, mlr, ann, gep), meta_regressor=rf, cv=5)\n",
    "lssvm = SVR(kernel='rbf', C=10, gamma=0.1, epsilon=.1)\n",
    "\n",
    "# Train models\n",
    "models = {'SVM': svm, 'GPR': gpr, 'DT': dt, 'RF': rf, 'MLR': mlr, 'ANN': ann, 'GEP': gep, 'MPMR': mpmr, 'LSSVM': lssvm}\n",
    "for name, model in models.items():\n",
    "    model.fit(X_model_train, y_model_train)\n",
    "\n",
    "# Evaluate models on validation set\n",
    "rmse_val = {}\n",
    "mae_val = {}\n",
    "vaf_val = {}\n",
    "ns_val = {}\n",
    "wmape_val = {}\n",
    "mape_val = {}\n",
    "nmbe_val = {}\n",
    "r_val = {}\n",
    "r2_val = {}\n",
    "for name, model in models.items():\n",
    "    y_pred = model.predict(X_val)\n",
    "    rmse_val[name] = np.sqrt(mean_squared_error(y_val, y_pred))\n",
    "    mae_val[name] = mean_absolute_error(y_val, y_pred)\n",
    "    vaf_val[name] = explained_variance_score(y_val, y_pred)\n",
    "    ns_val[name] = 1 - (mean_squared_error(y_val, y_pred) / np.var(y_val))\n",
    "    wmape_val[name] = np.sum(np.abs(y_val - y_pred)) / np.sum(y_val)\n",
    "    mape_val[name] = np.mean(np.abs((y_val - y_pred) / y_val)) * 100\n",
    "    nmbe_val[name] = np.mean((y_val - y_pred) / y_val) * 100\n",
    "    r_val[name] = np.corr\n",
    "\n"
   ]
  },
  {
   "cell_type": "code",
   "execution_count": null,
   "id": "1266f5d6-c1da-4e6e-b414-5cca4f7541f9",
   "metadata": {},
   "outputs": [],
   "source": []
  },
  {
   "cell_type": "code",
   "execution_count": null,
   "id": "5264c76b-5468-43b6-b0a8-fd65b92b4433",
   "metadata": {},
   "outputs": [],
   "source": [
    "from sklearn.model_selection import GridSearchCV\n",
    "from sklearn.svm import SVR\n",
    "\n",
    "# Define range of hyperparameters to explore\n",
    "param_grid = {'C': [0.1, 1, 10, 100]}\n",
    "\n",
    "# Split the training data into new training set and validation set\n",
    "X_new_train, X_val, y_new_train, y_val = train_test_split(X_train, y_train, test_size=0.3, random_state=42)\n",
    "\n",
    "# Initialize SVM model\n",
    "svm_model = SVR(kernel='linear')\n",
    "\n",
    "# Perform grid search over hyperparameters on the new training set and validation set\n",
    "grid_search = GridSearchCV(svm_model, param_grid, cv=5)\n",
    "grid_search.fit(X_new_train, y_new_train)\n",
    "\n",
    "# Get the best hyperparameters\n",
    "best_params = grid_search.best_params_\n",
    "\n",
    "# Train the model on the entire training set using the best hyperparameters\n",
    "final_svm_model = SVR(kernel='linear', C=best_params['C'])\n",
    "final_svm_model.fit(X_train, y_train)\n",
    "\n",
    "# Evaluate the final model on the test set\n",
    "y_pred = final_svm_model.predict(X_test)\n",
    "rmse = mean_squared_error(y_test, y_pred, squared=False)\n",
    "mae = mean_absolute_error(y_test, y_pred)\n",
    "vaf = explained_variance_score(y_test, y_pred)\n",
    "ns = 1 - (np.sum((y_test - y_pred)**2) / np.sum((y_test - np.mean(y_test))**2))\n",
    "wmape = np.mean(np.abs(y_test - y_pred) / y_test)\n",
    "mape = np.mean(np.abs(y_test - y_pred) / y_test) * 100\n",
    "nmbe = np.mean((y_test - y_pred) / y_test) * 100\n",
    "r = pearsonr(y_test, y_pred)[0]\n",
    "r2 = r2_score(y_test, y_pred)\n"
   ]
  },
  {
   "cell_type": "code",
   "execution_count": null,
   "id": "5e00f399-83f0-47ed-ae05-7b11dae54001",
   "metadata": {},
   "outputs": [],
   "source": [
    "#to Plot scatter one against another\n",
    "fig, ax = plt.subplots(figsize=(10,8))\n",
    "sns.scatterplot(y=\"Compressive Strength\", x=\"Cement\", hue=\"Water\", size=\"Age\", data=df, ax=ax, sizes=(50, 300),\n",
    "                palette='RdYlGn', alpha=0.9)\n",
    "ax.set_title(\"Compressive Strength vs Cement, Age, Water\")\n",
    "ax.legend()\n",
    "plt.show()"
   ]
  },
  {
   "cell_type": "code",
   "execution_count": null,
   "id": "e2114369-fc1d-458e-a167-bd6e85975a43",
   "metadata": {},
   "outputs": [],
   "source": []
  }
 ],
 "metadata": {
  "kernelspec": {
   "display_name": "Python 3 (ipykernel)",
   "language": "python",
   "name": "python3"
  },
  "language_info": {
   "codemirror_mode": {
    "name": "ipython",
    "version": 3
   },
   "file_extension": ".py",
   "mimetype": "text/x-python",
   "name": "python",
   "nbconvert_exporter": "python",
   "pygments_lexer": "ipython3",
   "version": "3.10.9"
  }
 },
 "nbformat": 4,
 "nbformat_minor": 5
}
