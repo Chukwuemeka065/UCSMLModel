{
 "cells": [
  {
   "cell_type": "code",
   "execution_count": 1,
   "id": "b269e50b-edd4-47c7-b0bf-2d50957cddd0",
   "metadata": {
    "tags": []
   },
   "outputs": [],
   "source": [
    "import pandas as pd\n",
    "import numpy as np\n",
    "import matplotlib.pyplot as plt\n",
    "%matplotlib inline\n",
    "import seaborn as sns"
   ]
  },
  {
   "cell_type": "code",
   "execution_count": 2,
   "id": "2e4c1549",
   "metadata": {},
   "outputs": [
    {
     "data": {
      "text/plain": [
       "'C:\\\\Users\\\\USER\\\\Documents\\\\Received\\\\PYTHON\\\\Xin_Yin\\\\WriteUp-Result_3-Research'"
      ]
     },
     "execution_count": 2,
     "metadata": {},
     "output_type": "execute_result"
    }
   ],
   "source": [
    "pwd"
   ]
  },
  {
   "cell_type": "code",
   "execution_count": 3,
   "id": "35359b11-e771-4468-af80-c42229439e3a",
   "metadata": {
    "tags": []
   },
   "outputs": [],
   "source": [
    "df=pd.read_csv(\"C:\\\\Users\\\\USER\\\\Documents\\\\Received\\\\PYTHON\\\\Xin_Yin\\\\WriteUp-Result_3-Research\\\\Yin_DatabaseFor_Rocks.csv\")"
   ]
  },
  {
   "cell_type": "code",
   "execution_count": 4,
   "id": "1304e564-c068-4c82-97a2-400d8c8a8909",
   "metadata": {
    "scrolled": true,
    "tags": []
   },
   "outputs": [
    {
     "data": {
      "text/html": [
       "<div>\n",
       "<style scoped>\n",
       "    .dataframe tbody tr th:only-of-type {\n",
       "        vertical-align: middle;\n",
       "    }\n",
       "\n",
       "    .dataframe tbody tr th {\n",
       "        vertical-align: top;\n",
       "    }\n",
       "\n",
       "    .dataframe thead th {\n",
       "        text-align: right;\n",
       "    }\n",
       "</style>\n",
       "<table border=\"1\" class=\"dataframe\">\n",
       "  <thead>\n",
       "    <tr style=\"text-align: right;\">\n",
       "      <th></th>\n",
       "      <th>SRn</th>\n",
       "      <th>Vp</th>\n",
       "      <th>Is</th>\n",
       "      <th>UCS</th>\n",
       "    </tr>\n",
       "  </thead>\n",
       "  <tbody>\n",
       "    <tr>\n",
       "      <th>0</th>\n",
       "      <td>69.0</td>\n",
       "      <td>5390</td>\n",
       "      <td>11.02</td>\n",
       "      <td>158.16</td>\n",
       "    </tr>\n",
       "    <tr>\n",
       "      <th>1</th>\n",
       "      <td>64.0</td>\n",
       "      <td>5440</td>\n",
       "      <td>8.08</td>\n",
       "      <td>125.28</td>\n",
       "    </tr>\n",
       "    <tr>\n",
       "      <th>2</th>\n",
       "      <td>68.0</td>\n",
       "      <td>5740</td>\n",
       "      <td>8.44</td>\n",
       "      <td>129.04</td>\n",
       "    </tr>\n",
       "    <tr>\n",
       "      <th>3</th>\n",
       "      <td>67.0</td>\n",
       "      <td>6310</td>\n",
       "      <td>9.20</td>\n",
       "      <td>142.40</td>\n",
       "    </tr>\n",
       "    <tr>\n",
       "      <th>4</th>\n",
       "      <td>65.0</td>\n",
       "      <td>4740</td>\n",
       "      <td>7.25</td>\n",
       "      <td>109.17</td>\n",
       "    </tr>\n",
       "    <tr>\n",
       "      <th>...</th>\n",
       "      <td>...</td>\n",
       "      <td>...</td>\n",
       "      <td>...</td>\n",
       "      <td>...</td>\n",
       "    </tr>\n",
       "    <tr>\n",
       "      <th>724</th>\n",
       "      <td>23.0</td>\n",
       "      <td>2633</td>\n",
       "      <td>2.28</td>\n",
       "      <td>17.26</td>\n",
       "    </tr>\n",
       "    <tr>\n",
       "      <th>725</th>\n",
       "      <td>24.0</td>\n",
       "      <td>2886</td>\n",
       "      <td>2.36</td>\n",
       "      <td>19.90</td>\n",
       "    </tr>\n",
       "    <tr>\n",
       "      <th>726</th>\n",
       "      <td>32.0</td>\n",
       "      <td>3045</td>\n",
       "      <td>2.64</td>\n",
       "      <td>32.44</td>\n",
       "    </tr>\n",
       "    <tr>\n",
       "      <th>727</th>\n",
       "      <td>35.0</td>\n",
       "      <td>3099</td>\n",
       "      <td>2.77</td>\n",
       "      <td>36.95</td>\n",
       "    </tr>\n",
       "    <tr>\n",
       "      <th>728</th>\n",
       "      <td>33.0</td>\n",
       "      <td>3105</td>\n",
       "      <td>2.85</td>\n",
       "      <td>41.46</td>\n",
       "    </tr>\n",
       "  </tbody>\n",
       "</table>\n",
       "<p>729 rows × 4 columns</p>\n",
       "</div>"
      ],
      "text/plain": [
       "      SRn    Vp     Is     UCS\n",
       "0    69.0  5390  11.02  158.16\n",
       "1    64.0  5440   8.08  125.28\n",
       "2    68.0  5740   8.44  129.04\n",
       "3    67.0  6310   9.20  142.40\n",
       "4    65.0  4740   7.25  109.17\n",
       "..    ...   ...    ...     ...\n",
       "724  23.0  2633   2.28   17.26\n",
       "725  24.0  2886   2.36   19.90\n",
       "726  32.0  3045   2.64   32.44\n",
       "727  35.0  3099   2.77   36.95\n",
       "728  33.0  3105   2.85   41.46\n",
       "\n",
       "[729 rows x 4 columns]"
      ]
     },
     "execution_count": 4,
     "metadata": {},
     "output_type": "execute_result"
    }
   ],
   "source": [
    "df"
   ]
  },
  {
   "cell_type": "code",
   "execution_count": 5,
   "id": "8a50baa5-3b87-4d80-8b92-47cad2219567",
   "metadata": {
    "tags": []
   },
   "outputs": [
    {
     "data": {
      "text/plain": [
       "(729, 4)"
      ]
     },
     "execution_count": 5,
     "metadata": {},
     "output_type": "execute_result"
    }
   ],
   "source": [
    "#Check the shape of the data at this point\n",
    "df.shape"
   ]
  },
  {
   "cell_type": "code",
   "execution_count": 6,
   "id": "39e0902c-529b-491e-994d-88c9d380092e",
   "metadata": {
    "tags": []
   },
   "outputs": [
    {
     "name": "stdout",
     "output_type": "stream",
     "text": [
      "<class 'pandas.core.frame.DataFrame'>\n",
      "RangeIndex: 729 entries, 0 to 728\n",
      "Data columns (total 4 columns):\n",
      " #   Column  Non-Null Count  Dtype  \n",
      "---  ------  --------------  -----  \n",
      " 0   SRn     729 non-null    float64\n",
      " 1   Vp      729 non-null    int64  \n",
      " 2   Is      729 non-null    float64\n",
      " 3   UCS     729 non-null    float64\n",
      "dtypes: float64(3), int64(1)\n",
      "memory usage: 22.9 KB\n"
     ]
    }
   ],
   "source": [
    "#information on the data\n",
    "df.info()"
   ]
  },
  {
   "cell_type": "code",
   "execution_count": 7,
   "id": "b3a5f0ab-6613-4215-831e-8934cb9d5ef6",
   "metadata": {
    "scrolled": true,
    "tags": []
   },
   "outputs": [
    {
     "data": {
      "text/html": [
       "<div>\n",
       "<style scoped>\n",
       "    .dataframe tbody tr th:only-of-type {\n",
       "        vertical-align: middle;\n",
       "    }\n",
       "\n",
       "    .dataframe tbody tr th {\n",
       "        vertical-align: top;\n",
       "    }\n",
       "\n",
       "    .dataframe thead th {\n",
       "        text-align: right;\n",
       "    }\n",
       "</style>\n",
       "<table border=\"1\" class=\"dataframe\">\n",
       "  <thead>\n",
       "    <tr style=\"text-align: right;\">\n",
       "      <th></th>\n",
       "      <th>SRn</th>\n",
       "      <th>Vp</th>\n",
       "      <th>Is</th>\n",
       "      <th>UCS</th>\n",
       "    </tr>\n",
       "  </thead>\n",
       "  <tbody>\n",
       "    <tr>\n",
       "      <th>count</th>\n",
       "      <td>729.000000</td>\n",
       "      <td>729.000000</td>\n",
       "      <td>729.000000</td>\n",
       "      <td>729.000000</td>\n",
       "    </tr>\n",
       "    <tr>\n",
       "      <th>mean</th>\n",
       "      <td>41.645432</td>\n",
       "      <td>4679.635117</td>\n",
       "      <td>4.338053</td>\n",
       "      <td>75.305366</td>\n",
       "    </tr>\n",
       "    <tr>\n",
       "      <th>std</th>\n",
       "      <td>11.877275</td>\n",
       "      <td>1387.795732</td>\n",
       "      <td>3.024891</td>\n",
       "      <td>44.779250</td>\n",
       "    </tr>\n",
       "    <tr>\n",
       "      <th>min</th>\n",
       "      <td>10.000000</td>\n",
       "      <td>375.000000</td>\n",
       "      <td>0.530000</td>\n",
       "      <td>2.030000</td>\n",
       "    </tr>\n",
       "    <tr>\n",
       "      <th>25%</th>\n",
       "      <td>33.000000</td>\n",
       "      <td>3722.000000</td>\n",
       "      <td>2.450000</td>\n",
       "      <td>42.790000</td>\n",
       "    </tr>\n",
       "    <tr>\n",
       "      <th>50%</th>\n",
       "      <td>41.000000</td>\n",
       "      <td>4922.000000</td>\n",
       "      <td>3.390000</td>\n",
       "      <td>63.680000</td>\n",
       "    </tr>\n",
       "    <tr>\n",
       "      <th>75%</th>\n",
       "      <td>50.000000</td>\n",
       "      <td>5685.000000</td>\n",
       "      <td>5.230000</td>\n",
       "      <td>102.500000</td>\n",
       "    </tr>\n",
       "    <tr>\n",
       "      <th>max</th>\n",
       "      <td>72.000000</td>\n",
       "      <td>7943.000000</td>\n",
       "      <td>23.100000</td>\n",
       "      <td>239.000000</td>\n",
       "    </tr>\n",
       "  </tbody>\n",
       "</table>\n",
       "</div>"
      ],
      "text/plain": [
       "              SRn           Vp          Is         UCS\n",
       "count  729.000000   729.000000  729.000000  729.000000\n",
       "mean    41.645432  4679.635117    4.338053   75.305366\n",
       "std     11.877275  1387.795732    3.024891   44.779250\n",
       "min     10.000000   375.000000    0.530000    2.030000\n",
       "25%     33.000000  3722.000000    2.450000   42.790000\n",
       "50%     41.000000  4922.000000    3.390000   63.680000\n",
       "75%     50.000000  5685.000000    5.230000  102.500000\n",
       "max     72.000000  7943.000000   23.100000  239.000000"
      ]
     },
     "execution_count": 7,
     "metadata": {},
     "output_type": "execute_result"
    }
   ],
   "source": [
    "#statistics about the data\n",
    "df.describe()"
   ]
  },
  {
   "cell_type": "code",
   "execution_count": 8,
   "id": "ce9eaf86-6e72-4b88-9364-0e0b55a8f7b1",
   "metadata": {
    "tags": []
   },
   "outputs": [
    {
     "data": {
      "text/plain": [
       "SRn    0\n",
       "Vp     0\n",
       "Is     0\n",
       "UCS    0\n",
       "dtype: int64"
      ]
     },
     "execution_count": 8,
     "metadata": {},
     "output_type": "execute_result"
    }
   ],
   "source": [
    "#check for null values\n",
    "df.isnull().sum()"
   ]
  },
  {
   "cell_type": "code",
   "execution_count": 9,
   "id": "f269af4f-346a-4c85-b151-f720ef1bb51e",
   "metadata": {
    "tags": []
   },
   "outputs": [
    {
     "data": {
      "text/plain": [
       "0"
      ]
     },
     "execution_count": 9,
     "metadata": {},
     "output_type": "execute_result"
    }
   ],
   "source": [
    "#check the presence of duplicate values\n",
    "df.duplicated().sum()"
   ]
  },
  {
   "cell_type": "code",
   "execution_count": 10,
   "id": "97bc2c0b-d9c6-4a69-b380-797b8c785451",
   "metadata": {
    "tags": []
   },
   "outputs": [
    {
     "data": {
      "text/plain": [
       "(729, 4)"
      ]
     },
     "execution_count": 10,
     "metadata": {},
     "output_type": "execute_result"
    }
   ],
   "source": [
    "#what is the current shape of the dataset\n",
    "df.shape\n"
   ]
  },
  {
   "cell_type": "code",
   "execution_count": 11,
   "id": "b5e4f041-57ae-4c6d-8a9f-4aab633ee7cf",
   "metadata": {
    "tags": []
   },
   "outputs": [
    {
     "data": {
      "image/png": "[encoded data removed]",
      "text/plain": [
       "<Figure size 1300x400 with 1 Axes>"
      ]
     },
     "metadata": {},
     "output_type": "display_data"
    },
    {
     "data": {
      "image/png": "[encoded data removed]",
      "text/plain": [
       "<Figure size 1300x400 with 1 Axes>"
      ]
     },
     "metadata": {},
     "output_type": "display_data"
    },
    {
     "data": {
      "image/png": "[encoded data removed]",
      "text/plain": [
       "<Figure size 1300x400 with 1 Axes>"
      ]
     },
     "metadata": {},
     "output_type": "display_data"
    },
    {
     "data": {
      "image/png": "[encoded data removed]",
      "text/plain": [
       "<Figure size 1300x400 with 1 Axes>"
      ]
     },
     "metadata": {},
     "output_type": "display_data"
    }
   ],
   "source": [
    "#EDA commences here\n",
    "for column in df.columns:\n",
    "    plt.figure(figsize=(13,4))\n",
    "    sns.boxplot(x=column,data=df);"
   ]
  },
  {
   "cell_type": "code",
   "execution_count": 12,
   "id": "92a81d25-b90b-4a3a-9165-c372321c1393",
   "metadata": {
    "tags": []
   },
   "outputs": [
    {
     "data": {
      "text/html": [
       "<div>\n",
       "<style scoped>\n",
       "    .dataframe tbody tr th:only-of-type {\n",
       "        vertical-align: middle;\n",
       "    }\n",
       "\n",
       "    .dataframe tbody tr th {\n",
       "        vertical-align: top;\n",
       "    }\n",
       "\n",
       "    .dataframe thead th {\n",
       "        text-align: right;\n",
       "    }\n",
       "</style>\n",
       "<table border=\"1\" class=\"dataframe\">\n",
       "  <thead>\n",
       "    <tr style=\"text-align: right;\">\n",
       "      <th></th>\n",
       "      <th>SRn</th>\n",
       "      <th>Vp</th>\n",
       "      <th>Is</th>\n",
       "      <th>UCS</th>\n",
       "    </tr>\n",
       "  </thead>\n",
       "  <tbody>\n",
       "    <tr>\n",
       "      <th>SRn</th>\n",
       "      <td>1.000000</td>\n",
       "      <td>0.430908</td>\n",
       "      <td>0.511204</td>\n",
       "      <td>0.685848</td>\n",
       "    </tr>\n",
       "    <tr>\n",
       "      <th>Vp</th>\n",
       "      <td>0.430908</td>\n",
       "      <td>1.000000</td>\n",
       "      <td>0.223489</td>\n",
       "      <td>0.637990</td>\n",
       "    </tr>\n",
       "    <tr>\n",
       "      <th>Is</th>\n",
       "      <td>0.511204</td>\n",
       "      <td>0.223489</td>\n",
       "      <td>1.000000</td>\n",
       "      <td>0.415398</td>\n",
       "    </tr>\n",
       "    <tr>\n",
       "      <th>UCS</th>\n",
       "      <td>0.685848</td>\n",
       "      <td>0.637990</td>\n",
       "      <td>0.415398</td>\n",
       "      <td>1.000000</td>\n",
       "    </tr>\n",
       "  </tbody>\n",
       "</table>\n",
       "</div>"
      ],
      "text/plain": [
       "          SRn        Vp        Is       UCS\n",
       "SRn  1.000000  0.430908  0.511204  0.685848\n",
       "Vp   0.430908  1.000000  0.223489  0.637990\n",
       "Is   0.511204  0.223489  1.000000  0.415398\n",
       "UCS  0.685848  0.637990  0.415398  1.000000"
      ]
     },
     "execution_count": 12,
     "metadata": {},
     "output_type": "execute_result"
    }
   ],
   "source": [
    "#what is the existing correlation among the independent variables\n",
    "df.corr()"
   ]
  },
  {
   "cell_type": "code",
   "execution_count": 13,
   "id": "c8ddbc55-e495-4f31-8ab7-a24eaa13b5df",
   "metadata": {
    "tags": []
   },
   "outputs": [
    {
     "data": {
      "text/plain": [
       "<Axes: >"
      ]
     },
     "execution_count": 13,
     "metadata": {},
     "output_type": "execute_result"
    },
    {
     "data": {
      "image/png": "[encoded data removed]",
      "text/plain": [
       "<Figure size 1100x900 with 2 Axes>"
      ]
     },
     "metadata": {},
     "output_type": "display_data"
    }
   ],
   "source": [
    "#produce a heatmap of the above result\n",
    "plt.figure(figsize=(11,9))\n",
    "sns.heatmap(data=df.corr(),annot=True)"
   ]
  },
  {
   "cell_type": "code",
   "execution_count": 14,
   "id": "702da4a3-312a-4615-a39e-4f9a4cc3087b",
   "metadata": {
    "tags": []
   },
   "outputs": [
    {
     "data": {
      "image/png": "[encoded data removed]",
      "text/plain": [
       "<Figure size 1100x900 with 4 Axes>"
      ]
     },
     "metadata": {},
     "output_type": "display_data"
    }
   ],
   "source": [
    "#conduct a univariate analysis\n",
    "\n",
    "#make a histogram\n",
    "df.hist(figsize=(11, 9));"
   ]
  },
  {
   "cell_type": "code",
   "execution_count": 15,
   "id": "fa1b3f27",
   "metadata": {},
   "outputs": [],
   "source": [
    "#attempt to make data normally distributed, split data first in train-val-test\n",
    "\n",
    "X=df.drop(['UCS'],axis=1) #X is \"remove the variable in '' \"\n",
    "y=df['UCS']"
   ]
  },
  {
   "cell_type": "code",
   "execution_count": null,
   "id": "2a901e2c",
   "metadata": {},
   "outputs": [],
   "source": []
  },
  {
   "cell_type": "code",
   "execution_count": 16,
   "id": "18996de1-bae0-4bbc-9eb9-9fe0f2377f9e",
   "metadata": {},
   "outputs": [],
   "source": [
    "\n",
    "Trainingset_XinYin=pd.read_csv(\"C:\\\\Users\\\\USER\\\\Documents\\\\Received\\\\PYTHON\\\\Xin_Yin\\\\WriteUp-Result_3-Research\\\\Book10-RF-Train-90-10.csv\")\n",
    "Testset_XinYin=pd.read_csv(\"C:\\\\Users\\\\USER\\\\Documents\\\\Received\\\\PYTHON\\\\Xin_Yin\\\\WriteUp-Result_3-Research\\\\Book10-RF-Test-90-10.csv\")\n"
   ]
  },
  {
   "cell_type": "code",
   "execution_count": 17,
   "id": "e94a359d",
   "metadata": {},
   "outputs": [
    {
     "data": {
      "text/html": [
       "<div>\n",
       "<style scoped>\n",
       "    .dataframe tbody tr th:only-of-type {\n",
       "        vertical-align: middle;\n",
       "    }\n",
       "\n",
       "    .dataframe tbody tr th {\n",
       "        vertical-align: top;\n",
       "    }\n",
       "\n",
       "    .dataframe thead th {\n",
       "        text-align: right;\n",
       "    }\n",
       "</style>\n",
       "<table border=\"1\" class=\"dataframe\">\n",
       "  <thead>\n",
       "    <tr style=\"text-align: right;\">\n",
       "      <th></th>\n",
       "      <th>SRn</th>\n",
       "      <th>Vp</th>\n",
       "      <th>Is</th>\n",
       "      <th>UCS</th>\n",
       "    </tr>\n",
       "  </thead>\n",
       "  <tbody>\n",
       "    <tr>\n",
       "      <th>0</th>\n",
       "      <td>36.00</td>\n",
       "      <td>6080</td>\n",
       "      <td>1.37</td>\n",
       "      <td>59.73</td>\n",
       "    </tr>\n",
       "    <tr>\n",
       "      <th>1</th>\n",
       "      <td>26.90</td>\n",
       "      <td>758</td>\n",
       "      <td>1.03</td>\n",
       "      <td>6.50</td>\n",
       "    </tr>\n",
       "    <tr>\n",
       "      <th>2</th>\n",
       "      <td>21.00</td>\n",
       "      <td>2370</td>\n",
       "      <td>1.10</td>\n",
       "      <td>18.00</td>\n",
       "    </tr>\n",
       "    <tr>\n",
       "      <th>3</th>\n",
       "      <td>46.00</td>\n",
       "      <td>4480</td>\n",
       "      <td>1.33</td>\n",
       "      <td>71.50</td>\n",
       "    </tr>\n",
       "    <tr>\n",
       "      <th>4</th>\n",
       "      <td>32.00</td>\n",
       "      <td>5051</td>\n",
       "      <td>2.86</td>\n",
       "      <td>59.53</td>\n",
       "    </tr>\n",
       "    <tr>\n",
       "      <th>...</th>\n",
       "      <td>...</td>\n",
       "      <td>...</td>\n",
       "      <td>...</td>\n",
       "      <td>...</td>\n",
       "    </tr>\n",
       "    <tr>\n",
       "      <th>651</th>\n",
       "      <td>49.00</td>\n",
       "      <td>5988</td>\n",
       "      <td>4.92</td>\n",
       "      <td>168.70</td>\n",
       "    </tr>\n",
       "    <tr>\n",
       "      <th>652</th>\n",
       "      <td>55.00</td>\n",
       "      <td>5400</td>\n",
       "      <td>5.61</td>\n",
       "      <td>51.30</td>\n",
       "    </tr>\n",
       "    <tr>\n",
       "      <th>653</th>\n",
       "      <td>62.00</td>\n",
       "      <td>6750</td>\n",
       "      <td>8.60</td>\n",
       "      <td>239.00</td>\n",
       "    </tr>\n",
       "    <tr>\n",
       "      <th>654</th>\n",
       "      <td>52.55</td>\n",
       "      <td>6074</td>\n",
       "      <td>4.49</td>\n",
       "      <td>49.22</td>\n",
       "    </tr>\n",
       "    <tr>\n",
       "      <th>655</th>\n",
       "      <td>50.00</td>\n",
       "      <td>5380</td>\n",
       "      <td>3.49</td>\n",
       "      <td>155.60</td>\n",
       "    </tr>\n",
       "  </tbody>\n",
       "</table>\n",
       "<p>656 rows × 4 columns</p>\n",
       "</div>"
      ],
      "text/plain": [
       "       SRn    Vp    Is     UCS\n",
       "0    36.00  6080  1.37   59.73\n",
       "1    26.90   758  1.03    6.50\n",
       "2    21.00  2370  1.10   18.00\n",
       "3    46.00  4480  1.33   71.50\n",
       "4    32.00  5051  2.86   59.53\n",
       "..     ...   ...   ...     ...\n",
       "651  49.00  5988  4.92  168.70\n",
       "652  55.00  5400  5.61   51.30\n",
       "653  62.00  6750  8.60  239.00\n",
       "654  52.55  6074  4.49   49.22\n",
       "655  50.00  5380  3.49  155.60\n",
       "\n",
       "[656 rows x 4 columns]"
      ]
     },
     "execution_count": 17,
     "metadata": {},
     "output_type": "execute_result"
    }
   ],
   "source": [
    "Trainingset_XinYin"
   ]
  },
  {
   "cell_type": "code",
   "execution_count": 18,
   "id": "15a58f18",
   "metadata": {},
   "outputs": [
    {
     "data": {
      "text/html": [
       "<div>\n",
       "<style scoped>\n",
       "    .dataframe tbody tr th:only-of-type {\n",
       "        vertical-align: middle;\n",
       "    }\n",
       "\n",
       "    .dataframe tbody tr th {\n",
       "        vertical-align: top;\n",
       "    }\n",
       "\n",
       "    .dataframe thead th {\n",
       "        text-align: right;\n",
       "    }\n",
       "</style>\n",
       "<table border=\"1\" class=\"dataframe\">\n",
       "  <thead>\n",
       "    <tr style=\"text-align: right;\">\n",
       "      <th></th>\n",
       "      <th>SRn</th>\n",
       "      <th>Vp</th>\n",
       "      <th>Is</th>\n",
       "      <th>UCS</th>\n",
       "    </tr>\n",
       "  </thead>\n",
       "  <tbody>\n",
       "    <tr>\n",
       "      <th>0</th>\n",
       "      <td>49.00</td>\n",
       "      <td>2583</td>\n",
       "      <td>4.34</td>\n",
       "      <td>38.30</td>\n",
       "    </tr>\n",
       "    <tr>\n",
       "      <th>1</th>\n",
       "      <td>47.10</td>\n",
       "      <td>3612</td>\n",
       "      <td>5.38</td>\n",
       "      <td>50.30</td>\n",
       "    </tr>\n",
       "    <tr>\n",
       "      <th>2</th>\n",
       "      <td>26.00</td>\n",
       "      <td>727</td>\n",
       "      <td>0.97</td>\n",
       "      <td>4.90</td>\n",
       "    </tr>\n",
       "    <tr>\n",
       "      <th>3</th>\n",
       "      <td>19.90</td>\n",
       "      <td>436</td>\n",
       "      <td>0.78</td>\n",
       "      <td>2.99</td>\n",
       "    </tr>\n",
       "    <tr>\n",
       "      <th>4</th>\n",
       "      <td>52.70</td>\n",
       "      <td>4545</td>\n",
       "      <td>5.17</td>\n",
       "      <td>57.40</td>\n",
       "    </tr>\n",
       "    <tr>\n",
       "      <th>...</th>\n",
       "      <td>...</td>\n",
       "      <td>...</td>\n",
       "      <td>...</td>\n",
       "      <td>...</td>\n",
       "    </tr>\n",
       "    <tr>\n",
       "      <th>68</th>\n",
       "      <td>17.00</td>\n",
       "      <td>3791</td>\n",
       "      <td>1.68</td>\n",
       "      <td>25.33</td>\n",
       "    </tr>\n",
       "    <tr>\n",
       "      <th>69</th>\n",
       "      <td>49.00</td>\n",
       "      <td>4530</td>\n",
       "      <td>2.43</td>\n",
       "      <td>80.50</td>\n",
       "    </tr>\n",
       "    <tr>\n",
       "      <th>70</th>\n",
       "      <td>48.30</td>\n",
       "      <td>4650</td>\n",
       "      <td>5.61</td>\n",
       "      <td>62.30</td>\n",
       "    </tr>\n",
       "    <tr>\n",
       "      <th>71</th>\n",
       "      <td>26.00</td>\n",
       "      <td>3120</td>\n",
       "      <td>1.20</td>\n",
       "      <td>37.00</td>\n",
       "    </tr>\n",
       "    <tr>\n",
       "      <th>72</th>\n",
       "      <td>64.43</td>\n",
       "      <td>5945</td>\n",
       "      <td>10.02</td>\n",
       "      <td>167.17</td>\n",
       "    </tr>\n",
       "  </tbody>\n",
       "</table>\n",
       "<p>73 rows × 4 columns</p>\n",
       "</div>"
      ],
      "text/plain": [
       "      SRn    Vp     Is     UCS\n",
       "0   49.00  2583   4.34   38.30\n",
       "1   47.10  3612   5.38   50.30\n",
       "2   26.00   727   0.97    4.90\n",
       "3   19.90   436   0.78    2.99\n",
       "4   52.70  4545   5.17   57.40\n",
       "..    ...   ...    ...     ...\n",
       "68  17.00  3791   1.68   25.33\n",
       "69  49.00  4530   2.43   80.50\n",
       "70  48.30  4650   5.61   62.30\n",
       "71  26.00  3120   1.20   37.00\n",
       "72  64.43  5945  10.02  167.17\n",
       "\n",
       "[73 rows x 4 columns]"
      ]
     },
     "execution_count": 18,
     "metadata": {},
     "output_type": "execute_result"
    }
   ],
   "source": [
    "Testset_XinYin"
   ]
  },
  {
   "cell_type": "code",
   "execution_count": 19,
   "id": "290f0561-f16d-4082-9e6a-4d7c9cc1f8a0",
   "metadata": {
    "tags": []
   },
   "outputs": [],
   "source": [
    "\n",
    "X_model_train=Trainingset_XinYin.drop(['UCS'],axis=1) #X is \"remove the variable in '' \"\n",
    "y_model_train=Trainingset_XinYin['UCS']\n",
    "X_test=Testset_XinYin.drop(['UCS'],axis=1) #X is \"remove the variable in '' \"\n",
    "y_test=Testset_XinYin['UCS']"
   ]
  },
  {
   "cell_type": "code",
   "execution_count": 20,
   "id": "323cbd2e-aa69-4cc5-a113-e653ab12373b",
   "metadata": {
    "tags": []
   },
   "outputs": [
    {
     "name": "stdout",
     "output_type": "stream",
     "text": [
      "x train data (656, 3)\n",
      "y train data (656,)\n",
      "x test data  (73, 3)\n",
      "y test data  (73,)\n"
     ]
    }
   ],
   "source": [
    "print('x train data {}'.format(X_model_train.shape))\n",
    "print('y train data {}'.format(y_model_train.shape))\n",
    "print('x test data  {}'.format(X_test.shape))\n",
    "print('y test data  {}'.format(y_test.shape))\n",
    "\n",
    "\n"
   ]
  },
  {
   "cell_type": "code",
   "execution_count": 21,
   "id": "506991ff-1205-4cca-b1e9-5275891c94dc",
   "metadata": {
    "tags": []
   },
   "outputs": [
    {
     "data": {
      "text/plain": [
       "SRn    0.198226\n",
       "Vp    -0.384381\n",
       "Is     2.219237\n",
       "dtype: float64"
      ]
     },
     "execution_count": 21,
     "metadata": {},
     "output_type": "execute_result"
    }
   ],
   "source": [
    "X_model_train.skew()"
   ]
  },
  {
   "cell_type": "code",
   "execution_count": 22,
   "id": "e8659e24-607a-432a-bc98-e1d304afe045",
   "metadata": {
    "scrolled": true,
    "tags": []
   },
   "outputs": [
    {
     "data": {
      "text/plain": [
       "SRn    0.508018\n",
       "Vp    -0.627608\n",
       "Is     1.356120\n",
       "dtype: float64"
      ]
     },
     "execution_count": 22,
     "metadata": {},
     "output_type": "execute_result"
    }
   ],
   "source": [
    "X_test.skew()"
   ]
  },
  {
   "cell_type": "code",
   "execution_count": 23,
   "id": "3e1a75ce-3d26-4da0-ac93-e8761a6c20b1",
   "metadata": {
    "tags": []
   },
   "outputs": [],
   "source": [
    "#ChuksData_df = pd.DataFrame({'X_model_train': [X_model_train], 'y_model_train' : [y_model_train], 'X_test' : [X_test], 'y_test' : [y_test]})\n",
    "#pd.DataFrame(X_model_train, y_model_train).to_csv('training.csv')\n",
    "training_data_x = X_model_train\n",
    "test_data_x = X_test\n",
    "training_data_y = y_model_train\n",
    "test_data_y = y_test\n",
    "training_data_x.to_csv('yin_training_data_x.csv', index=False)\n",
    "test_data_x.to_csv('yin_test_data_x.csv', index=False)\n",
    "training_data_y.to_csv('yin_training_data_y.csv', index=False)\n",
    "test_data_y.to_csv('yin_test_data_y.csv', index=False)"
   ]
  },
  {
   "cell_type": "code",
   "execution_count": 24,
   "id": "2d1c4fc3-e4a4-4b1f-9c08-bf8ec562d0c5",
   "metadata": {
    "tags": []
   },
   "outputs": [
    {
     "data": {
      "image/png": "[encoded data removed]",
      "text/plain": [
       "<Figure size 1100x500 with 4 Axes>"
      ]
     },
     "metadata": {},
     "output_type": "display_data"
    }
   ],
   "source": [
    "X_model_train.hist(figsize=(11,5));"
   ]
  },
  {
   "cell_type": "code",
   "execution_count": 25,
   "id": "44db0b8d",
   "metadata": {},
   "outputs": [],
   "source": [
    "from sklearn.preprocessing import PowerTransformer\n",
    "pt=PowerTransformer()\n",
    "X_model_train_transformed_arr=pt.fit_transform(X_model_train)\n",
    "X_test_transformed_arr=pt.fit_transform(X_test)"
   ]
  },
  {
   "cell_type": "code",
   "execution_count": 26,
   "id": "189353fd-a232-4092-9b3f-08f248a67abb",
   "metadata": {
    "tags": []
   },
   "outputs": [],
   "source": [
    "X_model_train_transformed=pd.DataFrame(X_model_train_transformed_arr,columns=X_model_train.columns)\n",
    "X_test_transformed=pd.DataFrame(X_test_transformed_arr, columns=['SRn', 'Vp', 'Is'])\n",
    "from scipy import stats"
   ]
  },
  {
   "cell_type": "code",
   "execution_count": 27,
   "id": "8371308f-1701-4b36-b9c6-c668f84b02d2",
   "metadata": {
    "tags": []
   },
   "outputs": [
    {
     "data": {
      "image/png": "[encoded data removed]",
      "text/plain": [
       "<Figure size 1600x500 with 4 Axes>"
      ]
     },
     "metadata": {},
     "output_type": "display_data"
    },
    {
     "data": {
      "image/png": "[encoded data removed]",
      "text/plain": [
       "<Figure size 1600x500 with 4 Axes>"
      ]
     },
     "metadata": {},
     "output_type": "display_data"
    },
    {
     "data": {
      "image/png": "[encoded data removed]",
      "text/plain": [
       "<Figure size 1600x500 with 4 Axes>"
      ]
     },
     "metadata": {},
     "output_type": "display_data"
    }
   ],
   "source": [
    "#visualising their respective QQPlots\n",
    "for col in X.columns:\n",
    "    plt.figure(figsize=(16,5))\n",
    "    plt.subplot(2,2,1)\n",
    "    stats.probplot(x=X_model_train[col],dist='norm',plot=plt)\n",
    "    plt.title(col)\n",
    "    plt.subplot(2,2,2)\n",
    "    stats.probplot(x=X_model_train_transformed[col],dist='norm',plot=plt)\n",
    "    plt.title(label=col+' After Transformation')\n",
    "    plt.subplot(2,2,3)\n",
    "    sns.kdeplot(x=X[col])\n",
    "    plt.subplot(2,2,4)\n",
    "    sns.kdeplot(x=X_model_train_transformed[col])\n",
    "    plt.show()"
   ]
  },
  {
   "cell_type": "code",
   "execution_count": 28,
   "id": "e74d07f4-a81d-4dbf-928a-687a7af58dea",
   "metadata": {
    "tags": []
   },
   "outputs": [
    {
     "data": {
      "text/plain": [
       "SRn   -0.024905\n",
       "Vp    -0.083833\n",
       "Is     0.007844\n",
       "dtype: float64"
      ]
     },
     "execution_count": 28,
     "metadata": {},
     "output_type": "execute_result"
    }
   ],
   "source": [
    "X_model_train_transformed.skew()"
   ]
  },
  {
   "cell_type": "code",
   "execution_count": 29,
   "id": "1e93d05d-5397-4420-b57c-994877fa6114",
   "metadata": {
    "tags": []
   },
   "outputs": [
    {
     "data": {
      "text/html": [
       "<div>\n",
       "<style scoped>\n",
       "    .dataframe tbody tr th:only-of-type {\n",
       "        vertical-align: middle;\n",
       "    }\n",
       "\n",
       "    .dataframe tbody tr th {\n",
       "        vertical-align: top;\n",
       "    }\n",
       "\n",
       "    .dataframe thead th {\n",
       "        text-align: right;\n",
       "    }\n",
       "</style>\n",
       "<table border=\"1\" class=\"dataframe\">\n",
       "  <thead>\n",
       "    <tr style=\"text-align: right;\">\n",
       "      <th></th>\n",
       "      <th>SRn</th>\n",
       "      <th>Vp</th>\n",
       "      <th>Is</th>\n",
       "    </tr>\n",
       "  </thead>\n",
       "  <tbody>\n",
       "    <tr>\n",
       "      <th>0</th>\n",
       "      <td>-0.466198</td>\n",
       "      <td>1.037591</td>\n",
       "      <td>-1.778043</td>\n",
       "    </tr>\n",
       "    <tr>\n",
       "      <th>1</th>\n",
       "      <td>-1.311547</td>\n",
       "      <td>-2.578997</td>\n",
       "      <td>-2.276044</td>\n",
       "    </tr>\n",
       "    <tr>\n",
       "      <th>2</th>\n",
       "      <td>-1.910070</td>\n",
       "      <td>-1.767446</td>\n",
       "      <td>-2.163981</td>\n",
       "    </tr>\n",
       "    <tr>\n",
       "      <th>3</th>\n",
       "      <td>0.385142</td>\n",
       "      <td>-0.296266</td>\n",
       "      <td>-1.831073</td>\n",
       "    </tr>\n",
       "    <tr>\n",
       "      <th>4</th>\n",
       "      <td>-0.827989</td>\n",
       "      <td>0.160704</td>\n",
       "      <td>-0.421415</td>\n",
       "    </tr>\n",
       "    <tr>\n",
       "      <th>...</th>\n",
       "      <td>...</td>\n",
       "      <td>...</td>\n",
       "      <td>...</td>\n",
       "    </tr>\n",
       "    <tr>\n",
       "      <th>651</th>\n",
       "      <td>0.628227</td>\n",
       "      <td>0.956548</td>\n",
       "      <td>0.542726</td>\n",
       "    </tr>\n",
       "    <tr>\n",
       "      <th>652</th>\n",
       "      <td>1.100170</td>\n",
       "      <td>0.450684</td>\n",
       "      <td>0.762150</td>\n",
       "    </tr>\n",
       "    <tr>\n",
       "      <th>653</th>\n",
       "      <td>1.629752</td>\n",
       "      <td>1.642589</td>\n",
       "      <td>1.427823</td>\n",
       "    </tr>\n",
       "    <tr>\n",
       "      <th>654</th>\n",
       "      <td>0.909623</td>\n",
       "      <td>1.032291</td>\n",
       "      <td>0.386136</td>\n",
       "    </tr>\n",
       "    <tr>\n",
       "      <th>655</th>\n",
       "      <td>0.708155</td>\n",
       "      <td>0.433855</td>\n",
       "      <td>-0.058822</td>\n",
       "    </tr>\n",
       "  </tbody>\n",
       "</table>\n",
       "<p>656 rows × 3 columns</p>\n",
       "</div>"
      ],
      "text/plain": [
       "          SRn        Vp        Is\n",
       "0   -0.466198  1.037591 -1.778043\n",
       "1   -1.311547 -2.578997 -2.276044\n",
       "2   -1.910070 -1.767446 -2.163981\n",
       "3    0.385142 -0.296266 -1.831073\n",
       "4   -0.827989  0.160704 -0.421415\n",
       "..        ...       ...       ...\n",
       "651  0.628227  0.956548  0.542726\n",
       "652  1.100170  0.450684  0.762150\n",
       "653  1.629752  1.642589  1.427823\n",
       "654  0.909623  1.032291  0.386136\n",
       "655  0.708155  0.433855 -0.058822\n",
       "\n",
       "[656 rows x 3 columns]"
      ]
     },
     "execution_count": 29,
     "metadata": {},
     "output_type": "execute_result"
    }
   ],
   "source": [
    "X_model_train_transformed"
   ]
  },
  {
   "cell_type": "code",
   "execution_count": 30,
   "id": "b275f87f-ed8f-41d5-b1a3-df8c153a4ebe",
   "metadata": {
    "tags": []
   },
   "outputs": [
    {
     "data": {
      "text/plain": [
       "SRn    0.508018\n",
       "Vp    -0.627608\n",
       "Is     1.356120\n",
       "dtype: float64"
      ]
     },
     "execution_count": 30,
     "metadata": {},
     "output_type": "execute_result"
    }
   ],
   "source": [
    "#Similarly for test data\n",
    "X_test.skew()"
   ]
  },
  {
   "cell_type": "code",
   "execution_count": 31,
   "id": "c9f54eea-6f41-49ab-99e5-ae34c7b64dad",
   "metadata": {
    "tags": []
   },
   "outputs": [
    {
     "data": {
      "text/html": [
       "<div>\n",
       "<style scoped>\n",
       "    .dataframe tbody tr th:only-of-type {\n",
       "        vertical-align: middle;\n",
       "    }\n",
       "\n",
       "    .dataframe tbody tr th {\n",
       "        vertical-align: top;\n",
       "    }\n",
       "\n",
       "    .dataframe thead th {\n",
       "        text-align: right;\n",
       "    }\n",
       "</style>\n",
       "<table border=\"1\" class=\"dataframe\">\n",
       "  <thead>\n",
       "    <tr style=\"text-align: right;\">\n",
       "      <th></th>\n",
       "      <th>SRn</th>\n",
       "      <th>Vp</th>\n",
       "      <th>Is</th>\n",
       "    </tr>\n",
       "  </thead>\n",
       "  <tbody>\n",
       "    <tr>\n",
       "      <th>0</th>\n",
       "      <td>0.832676</td>\n",
       "      <td>-0.690875</td>\n",
       "      <td>0.608922</td>\n",
       "    </tr>\n",
       "    <tr>\n",
       "      <th>1</th>\n",
       "      <td>0.699869</td>\n",
       "      <td>-0.134307</td>\n",
       "      <td>0.909853</td>\n",
       "    </tr>\n",
       "    <tr>\n",
       "      <th>2</th>\n",
       "      <td>-1.067694</td>\n",
       "      <td>-1.600553</td>\n",
       "      <td>-1.293481</td>\n",
       "    </tr>\n",
       "    <tr>\n",
       "      <th>3</th>\n",
       "      <td>-1.737422</td>\n",
       "      <td>-1.723636</td>\n",
       "      <td>-1.509346</td>\n",
       "    </tr>\n",
       "    <tr>\n",
       "      <th>4</th>\n",
       "      <td>1.082505</td>\n",
       "      <td>0.391274</td>\n",
       "      <td>0.854075</td>\n",
       "    </tr>\n",
       "    <tr>\n",
       "      <th>...</th>\n",
       "      <td>...</td>\n",
       "      <td>...</td>\n",
       "      <td>...</td>\n",
       "    </tr>\n",
       "    <tr>\n",
       "      <th>68</th>\n",
       "      <td>-2.099469</td>\n",
       "      <td>-0.034870</td>\n",
       "      <td>-0.664861</td>\n",
       "    </tr>\n",
       "    <tr>\n",
       "      <th>69</th>\n",
       "      <td>0.832676</td>\n",
       "      <td>0.382689</td>\n",
       "      <td>-0.188426</td>\n",
       "    </tr>\n",
       "    <tr>\n",
       "      <th>70</th>\n",
       "      <td>0.784121</td>\n",
       "      <td>0.451488</td>\n",
       "      <td>0.968465</td>\n",
       "    </tr>\n",
       "    <tr>\n",
       "      <th>71</th>\n",
       "      <td>-1.067694</td>\n",
       "      <td>-0.403811</td>\n",
       "      <td>-1.063435</td>\n",
       "    </tr>\n",
       "    <tr>\n",
       "      <th>72</th>\n",
       "      <td>1.809689</td>\n",
       "      <td>1.209484</td>\n",
       "      <td>1.769228</td>\n",
       "    </tr>\n",
       "  </tbody>\n",
       "</table>\n",
       "<p>73 rows × 3 columns</p>\n",
       "</div>"
      ],
      "text/plain": [
       "         SRn        Vp        Is\n",
       "0   0.832676 -0.690875  0.608922\n",
       "1   0.699869 -0.134307  0.909853\n",
       "2  -1.067694 -1.600553 -1.293481\n",
       "3  -1.737422 -1.723636 -1.509346\n",
       "4   1.082505  0.391274  0.854075\n",
       "..       ...       ...       ...\n",
       "68 -2.099469 -0.034870 -0.664861\n",
       "69  0.832676  0.382689 -0.188426\n",
       "70  0.784121  0.451488  0.968465\n",
       "71 -1.067694 -0.403811 -1.063435\n",
       "72  1.809689  1.209484  1.769228\n",
       "\n",
       "[73 rows x 3 columns]"
      ]
     },
     "execution_count": 31,
     "metadata": {},
     "output_type": "execute_result"
    }
   ],
   "source": [
    "X_test_transformed"
   ]
  },
  {
   "cell_type": "code",
   "execution_count": 32,
   "id": "7fa41c55-1e9c-410e-92ec-f8c4d9ba2f8a",
   "metadata": {
    "tags": []
   },
   "outputs": [],
   "source": [
    "\n",
    "X_model_train_transformed.to_csv('Yin_X_model_train_transformed.csv', index=False) "
   ]
  },
  {
   "cell_type": "code",
   "execution_count": 33,
   "id": "0b6172e2-f75b-446e-bc6b-410222a6449e",
   "metadata": {
    "tags": []
   },
   "outputs": [],
   "source": [
    "X_test_transformed.to_csv('Yin_X_test_transformed.csv', index=False) "
   ]
  },
  {
   "cell_type": "code",
   "execution_count": 34,
   "id": "6486cebf-c50d-4bac-a2aa-e0a35f70488b",
   "metadata": {
    "tags": []
   },
   "outputs": [
    {
     "data": {
      "text/plain": [
       "'C:\\\\Users\\\\USER\\\\Documents\\\\Received\\\\PYTHON\\\\Xin Yin\\\\WriteUp-Result 3-Research'"
      ]
     },
     "execution_count": 34,
     "metadata": {},
     "output_type": "execute_result"
    }
   ],
   "source": [
    "pwd"
   ]
  },
  {
   "cell_type": "code",
   "execution_count": null,
   "id": "92d5b66d-fed8-4636-957a-e05529b13cf2",
   "metadata": {},
   "outputs": [],
   "source": []
  },
  {
   "cell_type": "code",
   "execution_count": 35,
   "id": "7a60daf8-edbe-442e-90b8-88c8b5e17e08",
   "metadata": {},
   "outputs": [],
   "source": [
    "#Model Building\n"
   ]
  },
  {
   "cell_type": "code",
   "execution_count": 36,
   "id": "8bafe2db-d80a-4de0-9850-dcf663e347df",
   "metadata": {
    "scrolled": true
   },
   "outputs": [],
   "source": [
    "from sklearn.ensemble import AdaBoostRegressor, GradientBoostingRegressor, RandomForestRegressor, ExtraTreesRegressor\n",
    "from lightgbm import LGBMRegressor\n",
    "from xgboost import XGBRegressor\n",
    "from sklearn.tree import DecisionTreeRegressor\n",
    "from sklearn.tree import export_graphviz\n",
    "from sklearn.metrics import mean_squared_error, mean_absolute_error, r2_score, explained_variance_score\n",
    "from sklearn.model_selection import KFold, GridSearchCV, RandomizedSearchCV, cross_val_score #for grid search\n",
    "from bayes_opt import BayesianOptimization #for Bayesian Optimization\n",
    "import pyswarms as ps #For Particle Swarm Algorithm (PSO)\n",
    "from pyswarms.utils.search.grid_search import GridSearch\n",
    "from scipy.optimize import differential_evolution #for Genetic Algorithms and Differential Evolution\n",
    "from sklearn.metrics import accuracy_score\n",
    "#numpy for BOA, WOA, ABCA, "
   ]
  },
  {
   "cell_type": "code",
   "execution_count": 37,
   "id": "2df5c35d-cc0b-48dc-a210-231e5eaa5cb4",
   "metadata": {},
   "outputs": [],
   "source": [
    "ABR = AdaBoostRegressor(random_state=42)\n",
    "GBDT = GradientBoostingRegressor(random_state=42)\n",
    "XGB = XGBRegressor(objective='reg:squarederror', random_state=42)\n",
    "LGBM = LGBMRegressor(random_state=42)\n",
    "RF = RandomForestRegressor(random_state=42)\n",
    "ET = ExtraTreesRegressor(random_state=42)\n",
    "ID3 = DecisionTreeRegressor(criterion='friedman_mse', random_state=42) #Iterative Dichotomiser 3 #a variation of standard decision tree algorithm, To specify the algorithm to be used, we can use the \"criterion\" parameter\n",
    "C4_5 = DecisionTreeRegressor(criterion='friedman_mse', splitter='best', max_features=None, random_state=42) #a variation of standard decision tree algorithm, To specify the algorithm to be used, we can use the \"criterion\" parameter\n",
    "CART = DecisionTreeRegressor(criterion='absolute_error', random_state=42) #Classification and Regression Trees\n",
    "\n",
    "# Train models\n",
    "\n",
    "models = {'ABR': ABR, 'GBDT': GBDT, 'XGB': XGB, 'LGBM': LGBM, 'RF': RF, 'ET': ET, 'ID3': ID3, 'C4_5': C4_5, 'CART': CART}\n",
    "\n"
   ]
  },
  {
   "cell_type": "code",
   "execution_count": 38,
   "id": "706cacd6-248b-4e23-a1d1-81337f302c3e",
   "metadata": {
    "tags": []
   },
   "outputs": [
    {
     "name": "stdout",
     "output_type": "stream",
     "text": [
      "ABR - Training Set Performance:\n",
      "RMSE: 25.905\n",
      "MAE: 21.881\n",
      "VAF: 0.670\n",
      "NS: 0.662\n",
      "WMAPE: 0.475\n",
      "WMBE: -4.161\n",
      "R: 0.834\n",
      "R^2: 0.662\n",
      "\n",
      "GBDT - Training Set Performance:\n",
      "RMSE: 19.317\n",
      "MAE: 14.931\n",
      "VAF: 0.812\n",
      "NS: 0.812\n",
      "WMAPE: 0.267\n",
      "WMBE: 0.000\n",
      "R: 0.903\n",
      "R^2: 0.812\n",
      "\n",
      "XGB - Training Set Performance:\n",
      "RMSE: 2.931\n",
      "MAE: 2.037\n",
      "VAF: 0.996\n",
      "NS: 0.996\n",
      "WMAPE: 0.035\n",
      "WMBE: 0.003\n",
      "R: 0.998\n",
      "R^2: 0.996\n",
      "\n",
      "LGBM - Training Set Performance:\n",
      "RMSE: 14.027\n",
      "MAE: 10.612\n",
      "VAF: 0.901\n",
      "NS: 0.901\n",
      "WMAPE: 0.191\n",
      "WMBE: 0.000\n",
      "R: 0.951\n",
      "R^2: 0.901\n",
      "\n",
      "RF - Training Set Performance:\n",
      "RMSE: 9.885\n",
      "MAE: 7.417\n",
      "VAF: 0.951\n",
      "NS: 0.951\n",
      "WMAPE: 0.137\n",
      "WMBE: -0.333\n",
      "R: 0.979\n",
      "R^2: 0.951\n",
      "\n",
      "ET - Training Set Performance:\n",
      "RMSE: 0.373\n",
      "MAE: 0.021\n",
      "VAF: 1.000\n",
      "NS: 1.000\n",
      "WMAPE: 0.000\n",
      "WMBE: -0.000\n",
      "R: 1.000\n",
      "R^2: 1.000\n",
      "\n",
      "ID3 - Training Set Performance:\n",
      "RMSE: 0.373\n",
      "MAE: 0.021\n",
      "VAF: 1.000\n",
      "NS: 1.000\n",
      "WMAPE: 0.000\n",
      "WMBE: 0.000\n",
      "R: 1.000\n",
      "R^2: 1.000\n",
      "\n",
      "C4_5 - Training Set Performance:\n",
      "RMSE: 0.373\n",
      "MAE: 0.021\n",
      "VAF: 1.000\n",
      "NS: 1.000\n",
      "WMAPE: 0.000\n",
      "WMBE: 0.000\n",
      "R: 1.000\n",
      "R^2: 1.000\n",
      "\n",
      "CART - Training Set Performance:\n",
      "RMSE: 0.373\n",
      "MAE: 0.021\n",
      "VAF: 1.000\n",
      "NS: 1.000\n",
      "WMAPE: 0.000\n",
      "WMBE: 0.000\n",
      "R: 1.000\n",
      "R^2: 1.000\n",
      "\n",
      "  Model       RMSE        MAE       VAF        NS     WMAPE          WMBE  \\\n",
      "0   ABR  25.905278  21.881272  0.670440  0.661714  0.475446 -4.160743e+00   \n",
      "1  GBDT  19.316590  14.931411  0.811909  0.811909  0.266823  3.726017e-15   \n",
      "2   XGB   2.930755   2.037417  0.995670  0.995670  0.035068  2.706690e-03   \n",
      "3  LGBM  14.027442  10.611730  0.900811  0.900811  0.191260  7.762990e-08   \n",
      "4    RF   9.884907   7.417296  0.950801  0.950745  0.137183 -3.332290e-01   \n",
      "5    ET   0.372706   0.020579  0.999930  0.999930  0.000220 -1.848115e-15   \n",
      "6   ID3   0.372706   0.020579  0.999930  0.999930  0.000220  0.000000e+00   \n",
      "7  C4_5   0.372706   0.020579  0.999930  0.999930  0.000220  0.000000e+00   \n",
      "8  CART   0.372706   0.020579  0.999930  0.999930  0.000220  0.000000e+00   \n",
      "\n",
      "          R        R2  \n",
      "0  0.834030  0.661714  \n",
      "1  0.903309  0.811909  \n",
      "2  0.998021  0.995670  \n",
      "3  0.951020  0.900811  \n",
      "4  0.978525  0.950745  \n",
      "5  0.999965  0.999930  \n",
      "6  0.999965  0.999930  \n",
      "7  0.999965  0.999930  \n",
      "8  0.999965  0.999930  \n"
     ]
    }
   ],
   "source": [
    "resultsTT = []\n",
    "for name, model in models.items():\n",
    "    model.fit(X_model_train, y_model_train)\n",
    "\n",
    "    # Make predictions on the training set\n",
    "    y_pred_train = model.predict(X_model_train)\n",
    "\n",
    "    # Calculate performance metrics\n",
    "    rmse = np.sqrt(mean_squared_error(y_model_train, y_pred_train))\n",
    "    mae = mean_absolute_error(y_model_train, y_pred_train)\n",
    "    vaf = 1 - (np.var(y_model_train - y_pred_train) / np.var(y_model_train))\n",
    "    ns = 1 - mean_squared_error(y_model_train, y_pred_train) / np.var(y_model_train)\n",
    "    wmape = np.mean(np.abs(y_model_train - y_pred_train) / np.abs(y_model_train))\n",
    "    wmbe = np.mean(y_model_train - y_pred_train)\n",
    "    r = np.corrcoef(y_model_train, y_pred_train)[0][1]\n",
    "    r2 = r2_score(y_model_train, y_pred_train)\n",
    "    resultsTT.append([name, rmse, mae, vaf, ns, wmape, wmbe, r, r2])\n",
    "    \n",
    "    # Print the performance metrics\n",
    "    print(f\"{name} - Training Set Performance:\")\n",
    "    print(f\"RMSE: {rmse:.3f}\")\n",
    "    print(f\"MAE: {mae:.3f}\")\n",
    "    print(f\"VAF: {vaf:.3f}\")\n",
    "    print(f\"NS: {ns:.3f}\")\n",
    "    print(f\"WMAPE: {wmape:.3f}\")\n",
    "    print(f\"WMBE: {wmbe:.3f}\")\n",
    "    print(f\"R: {r:.3f}\")\n",
    "    print(f\"R^2: {r2:.3f}\\n\")\n",
    "\n",
    "    \n",
    "# print the results\n",
    "headersTT = ['Model', 'RMSE', 'MAE', 'VAF', 'NS', 'WMAPE', 'WMBE', 'R', 'R2']\n",
    "print(pd.DataFrame(resultsTT, columns=headersTT))"
   ]
  },
  {
   "cell_type": "code",
   "execution_count": null,
   "id": "85a9d1ca-2970-48b1-a6f9-5e86a84530d6",
   "metadata": {},
   "outputs": [],
   "source": []
  },
  {
   "cell_type": "code",
   "execution_count": 39,
   "id": "81030bba-5780-46cd-8263-3c38c1f04675",
   "metadata": {
    "tags": []
   },
   "outputs": [],
   "source": [
    "# print the predicted_results\n",
    "train_predicts = pd.DataFrame(resultsTT, columns=headersTT)\n",
    "train_predicts.to_csv('Yin_performances_predictings_trainingYs.csv', index=False)\n"
   ]
  },
  {
   "cell_type": "code",
   "execution_count": 40,
   "id": "9b88bdeb-3e3a-4b4f-a7b6-6569ac006d7a",
   "metadata": {
    "tags": []
   },
   "outputs": [
    {
     "data": {
      "text/plain": [
       "'C:\\\\Users\\\\USER\\\\Documents\\\\Received\\\\PYTHON\\\\Xin Yin\\\\WriteUp-Result 3-Research'"
      ]
     },
     "execution_count": 40,
     "metadata": {},
     "output_type": "execute_result"
    }
   ],
   "source": [
    "pwd"
   ]
  },
  {
   "cell_type": "code",
   "execution_count": 41,
   "id": "5dd1ca59-629c-4f67-8484-c9299ed6f76a",
   "metadata": {
    "tags": []
   },
   "outputs": [],
   "source": [
    "def get_predictions(model, X_model_train, y_model_train, X_test, y_test):\n",
    "    train_preds = model.predict(X_model_train)\n",
    "    test_preds = model.predict(X_test)\n",
    "    return train_preds, test_preds\n",
    "# Create a list of models\n",
    "models = {'ABR': ABR, 'GBDT': GBDT, 'XGB': XGB, 'LGBM': LGBM, 'RF': RF, 'ET': ET, 'ID3': ID3, 'C4_5': C4_5, 'CART': CART}\n",
    "\n",
    "# Create a dictionary to store the predictions for each model\n",
    "predictions = {}\n",
    "\n",
    "# Loop through the models and get the predictions for each set\n",
    "for name, model in models.items():\n",
    "    train_preds, test_preds = get_predictions(model, X_model_train, y_model_train, X_test, y_test)\n",
    "    predictions[name] = test_preds\n",
    "    \n",
    "# Convert the dictionary to a DataFrame and save to a CSV file\n",
    "test_preds_alls_df = pd.DataFrame(predictions)\n",
    "test_preds_alls_df.to_csv('Yin_test_preds-Ys_alls.csv', index=False)\n",
    "\n"
   ]
  },
  {
   "cell_type": "code",
   "execution_count": 42,
   "id": "9eb55b62-7bbe-4305-8f5c-2603adedcb77",
   "metadata": {
    "tags": []
   },
   "outputs": [],
   "source": [
    "predicted_train_y = pd.DataFrame(y_pred_train)\n",
    "predicted_train_y.to_csv('Yin_predicted-train_y.csv', index=False)  #this generates just one prediction, all models are supposed to give predictions           "
   ]
  },
  {
   "cell_type": "code",
   "execution_count": null,
   "id": "1b95d7cc-89bf-4a06-9bd7-41d397096410",
   "metadata": {
    "tags": []
   },
   "outputs": [],
   "source": []
  },
  {
   "cell_type": "code",
   "execution_count": 43,
   "id": "cea10326-8d05-4c23-8856-c3eba1072634",
   "metadata": {
    "tags": []
   },
   "outputs": [],
   "source": [
    "\n",
    "# Define a function to get the predictions for each set\n",
    "def get_predictions1(model, X_model_train, y_model_train, X_test, y_test):\n",
    "    train_preds = model.predict(X_model_train)\n",
    "    test_preds = model.predict(X_test)\n",
    "    return train_preds, test_preds\n",
    "\n",
    "# Create a list of models\n",
    "models = {'ABR': ABR, 'GBDT': GBDT, 'XGB': XGB, 'LGBM': LGBM, 'RF': RF, 'ET': ET, 'ID3': ID3, 'C4_5': C4_5, 'CART': CART}\n",
    "\n",
    "# Create a dictionary to store the predictions for each model\n",
    "predictions1 = {}\n",
    "\n",
    "\n",
    "# Loop through the models and get the predictions for each set\n",
    "\n",
    "for name, model in models.items():\n",
    "    train_preds, test_preds = get_predictions1(model, X_model_train, y_model_train, X_test, y_test)\n",
    "    predictions1[name] = train_preds   \n",
    "\n",
    "# Convert the dictionary to a DataFrame and save to a CSV file\n",
    "train_predicts_alls_df = pd.DataFrame(predictions1)\n",
    "train_predicts_alls_df.to_csv('Yin_training-predictYs_as.csv', index=False)"
   ]
  },
  {
   "cell_type": "code",
   "execution_count": 44,
   "id": "d2ed3744-5ded-487b-8106-262ddd551704",
   "metadata": {
    "tags": []
   },
   "outputs": [
    {
     "data": {
      "text/plain": [
       "'C:\\\\Users\\\\USER\\\\Documents\\\\Received\\\\PYTHON\\\\Xin Yin\\\\WriteUp-Result 3-Research'"
      ]
     },
     "execution_count": 44,
     "metadata": {},
     "output_type": "execute_result"
    }
   ],
   "source": [
    "pwd"
   ]
  },
  {
   "cell_type": "code",
   "execution_count": 45,
   "id": "c63b315b-0f47-4aa1-a4d2-247aa3d8476b",
   "metadata": {
    "tags": []
   },
   "outputs": [
    {
     "name": "stdout",
     "output_type": "stream",
     "text": [
      "ABR - Testing Set Performance:\n",
      "RMSE: 20.292\n",
      "MAE: 17.101\n",
      "VAF: 0.847\n",
      "NS: 0.793\n",
      "WMAPE: 1.636\n",
      "WMBE: 0.000\n",
      "R: 0.943\n",
      "R^2: 0.778\n",
      "\n",
      "GBDT - Testing Set Performance:\n",
      "RMSE: 8.982\n",
      "MAE: 6.821\n",
      "VAF: 0.958\n",
      "NS: 0.957\n",
      "WMAPE: 0.278\n",
      "WMBE: 0.000\n",
      "R: 0.979\n",
      "R^2: 0.957\n",
      "\n",
      "XGB - Testing Set Performance:\n",
      "RMSE: 10.531\n",
      "MAE: 7.350\n",
      "VAF: 0.944\n",
      "NS: 0.941\n",
      "WMAPE: 0.340\n",
      "WMBE: 0.000\n",
      "R: 0.978\n",
      "R^2: 0.940\n",
      "\n",
      "LGBM - Testing Set Performance:\n",
      "RMSE: 8.857\n",
      "MAE: 7.012\n",
      "VAF: 0.960\n",
      "NS: 0.958\n",
      "WMAPE: 0.526\n",
      "WMBE: 0.000\n",
      "R: 0.980\n",
      "R^2: 0.958\n",
      "\n",
      "RF - Testing Set Performance:\n",
      "RMSE: 5.385\n",
      "MAE: 3.993\n",
      "VAF: 0.986\n",
      "NS: 0.984\n",
      "WMAPE: 0.320\n",
      "WMBE: 0.000\n",
      "R: 0.993\n",
      "R^2: 0.984\n",
      "\n",
      "ET - Testing Set Performance:\n",
      "RMSE: 5.202\n",
      "MAE: 4.066\n",
      "VAF: 0.986\n",
      "NS: 0.985\n",
      "WMAPE: 0.224\n",
      "WMBE: 0.000\n",
      "R: 0.993\n",
      "R^2: 0.985\n",
      "\n",
      "ID3 - Testing Set Performance:\n",
      "RMSE: 13.983\n",
      "MAE: 9.028\n",
      "VAF: 0.896\n",
      "NS: 0.895\n",
      "WMAPE: 0.296\n",
      "WMBE: 0.000\n",
      "R: 0.949\n",
      "R^2: 0.895\n",
      "\n",
      "C4_5 - Testing Set Performance:\n",
      "RMSE: 13.983\n",
      "MAE: 9.028\n",
      "VAF: 0.896\n",
      "NS: 0.895\n",
      "WMAPE: 0.296\n",
      "WMBE: 0.000\n",
      "R: 0.949\n",
      "R^2: 0.895\n",
      "\n",
      "CART - Testing Set Performance:\n",
      "RMSE: 16.695\n",
      "MAE: 11.165\n",
      "VAF: 0.855\n",
      "NS: 0.851\n",
      "WMAPE: 0.313\n",
      "WMBE: 0.000\n",
      "R: 0.935\n",
      "R^2: 0.850\n",
      "\n",
      "  Model       RMSE        MAE       VAF        NS     WMAPE       WMBE  \\\n",
      "0   ABR  20.291715  17.101116  0.846568  0.792501  1.635621 -11.257590   \n",
      "1  GBDT   8.981743   6.820611  0.957985  0.956634  0.277899  -1.619937   \n",
      "2   XGB  10.531038   7.349575  0.943970  0.940517  0.339519  -2.611613   \n",
      "3  LGBM   8.857200   7.012045  0.959646  0.957848  0.526360  -1.867311   \n",
      "4    RF   5.385061   3.993000  0.985821  0.984412  0.320045  -1.630898   \n",
      "5    ET   5.202391   4.065570  0.986118  0.985440  0.224290  -1.130319   \n",
      "6   ID3  13.983467   9.027849  0.895822  0.894852  0.296463  -1.419082   \n",
      "7  C4_5  13.983467   9.027849  0.895822  0.894852  0.296463  -1.419082   \n",
      "8  CART  16.695322  11.164753  0.855193  0.850734  0.313013   3.120370   \n",
      "\n",
      "          R        R2  \n",
      "0  0.943130  0.778344  \n",
      "1  0.978816  0.956573  \n",
      "2  0.978111  0.940299  \n",
      "3  0.979615  0.957769  \n",
      "4  0.992943  0.984389  \n",
      "5  0.993134  0.985430  \n",
      "6  0.949286  0.894738  \n",
      "7  0.949286  0.894738  \n",
      "8  0.934972  0.849952  \n"
     ]
    }
   ],
   "source": [
    "\n",
    "# evaluate the models on testing set\n",
    "resultsTS = []\n",
    "for name, model in models.items():\n",
    "    model.fit(X_model_train, y_model_train)\n",
    "    y_pred_test = model.predict(X_test)\n",
    "    rmse = np.sqrt(mean_squared_error(y_test, y_pred_test))\n",
    "    mae = mean_absolute_error(y_test, y_pred_test)\n",
    "    vaf = 1 - np.var(y_test-y_pred_test)/np.var(y_test)\n",
    "    ns = 1 - np.sum((y_test-y_pred_test)**2)/np.sum((y_test-np.mean(y_pred_test))**2)\n",
    "    wmape = np.mean(np.abs((y_test - y_pred_test) / np.abs(y_test)))\n",
    "    wbme = np.mean(y_test - y_pred_test)\n",
    "    r = np.corrcoef(y_test, y_pred_test)[0,1]\n",
    "    r2 = r2_score(y_test, y_pred_test)\n",
    "    resultsTS.append([name, rmse, mae, vaf, ns, wmape, wbme, r, r2])\n",
    "    \n",
    "     # Print the performance metrics\n",
    "    print(f\"{name} - Testing Set Performance:\")\n",
    "    print(f\"RMSE: {rmse:.3f}\")\n",
    "    print(f\"MAE: {mae:.3f}\")\n",
    "    print(f\"VAF: {vaf:.3f}\")\n",
    "    print(f\"NS: {ns:.3f}\")\n",
    "    print(f\"WMAPE: {wmape:.3f}\")\n",
    "    print(f\"WMBE: {wmbe:.3f}\")\n",
    "    print(f\"R: {r:.3f}\")\n",
    "    print(f\"R^2: {r2:.3f}\\n\")\n",
    "\n",
    "# print the results\n",
    "headersTS = ['Model', 'RMSE', 'MAE', 'VAF', 'NS', 'WMAPE', 'WMBE', 'R', 'R2']\n",
    "print(pd.DataFrame(resultsTS, columns=headersTS))"
   ]
  },
  {
   "cell_type": "code",
   "execution_count": null,
   "id": "d6ce2c8e",
   "metadata": {},
   "outputs": [],
   "source": []
  },
  {
   "cell_type": "code",
   "execution_count": 46,
   "id": "38766acb-7240-4577-b6ca-e7c647fd10f4",
   "metadata": {
    "tags": []
   },
   "outputs": [],
   "source": [
    "testing_predicts = pd.DataFrame(resultsTS, columns=headersTS)\n",
    "testing_predicts.to_csv('Yin_testing-predictions_metrics.csv', index=False)\n",
    "predicted_test_y = pd.DataFrame(y_pred_test)\n",
    "predicted_test_y.to_csv('Yin_predicted-test_values_all.csv', index=False)"
   ]
  },
  {
   "cell_type": "code",
   "execution_count": 47,
   "id": "1d104cf0-3092-496c-ae63-1517fb2da067",
   "metadata": {
    "tags": []
   },
   "outputs": [
    {
     "data": {
      "text/plain": [
       "'C:\\\\Users\\\\USER\\\\Documents\\\\Received\\\\PYTHON\\\\Xin Yin\\\\WriteUp-Result 3-Research'"
      ]
     },
     "execution_count": 47,
     "metadata": {},
     "output_type": "execute_result"
    }
   ],
   "source": [
    "pwd"
   ]
  },
  {
   "cell_type": "code",
   "execution_count": null,
   "id": "bc26801f-9ae9-4211-96f5-ad5c9c1fd492",
   "metadata": {},
   "outputs": [],
   "source": []
  },
  {
   "cell_type": "code",
   "execution_count": 48,
   "id": "0f74a994-338a-4106-b0a3-95c6016dbd79",
   "metadata": {
    "tags": []
   },
   "outputs": [],
   "source": [
    "# Define a function to get the predictions for each set\n",
    "def get_predictions(model, X_model_train, y_model_train, X_test, y_test):\n",
    "    train_preds = model.predict(X_model_train)\n",
    "    test_preds = model.predict(X_test)\n",
    "    return train_preds, test_preds\n",
    "\n",
    "# Create a list of models\n",
    "models = {'ABR': ABR, 'GBDT': GBDT, 'XGB': XGB, 'LGBM': LGBM, 'RF': RF, 'ET': ET, 'ID3': ID3, 'C4_5': C4_5, 'CART': CART}\n",
    "\n",
    "# Create a dictionary to store the predictions for each model\n",
    "predictions = {}\n",
    "\n",
    "\n",
    "# Loop through the models and get the predictions for each set\n",
    "for name, model in models.items():\n",
    "    train_preds, test_preds = get_predictions(model, X_model_train, y_model_train, X_test, y_test)\n",
    "    predictions[name] = test_preds\n",
    "   \n",
    "# Convert the dictionary to a DataFrame and save to a CSV file\n",
    "test_preds_alls_df = pd.DataFrame(predictions)\n",
    "test_preds_alls_df.to_csv('Yin_testing-preds_alls.csv', index=False)"
   ]
  },
  {
   "cell_type": "code",
   "execution_count": 49,
   "id": "33c5555b-a4a1-4c68-a35a-2040dae1de3d",
   "metadata": {
    "tags": []
   },
   "outputs": [
    {
     "data": {
      "text/plain": [
       "'C:\\\\Users\\\\USER\\\\Documents\\\\Received\\\\PYTHON\\\\Xin Yin\\\\WriteUp-Result 3-Research'"
      ]
     },
     "execution_count": 49,
     "metadata": {},
     "output_type": "execute_result"
    }
   ],
   "source": [
    "pwd"
   ]
  },
  {
   "cell_type": "code",
   "execution_count": 50,
   "id": "e1085c2e-311c-4949-b97e-f62724c49e50",
   "metadata": {
    "tags": []
   },
   "outputs": [],
   "source": [
    "\n",
    "\n",
    "#lssvm_train_trans_df = pd.DataFrame(lssvm.predict(X_model_train_transformed))\n",
    "#lssvm_train_trans_df.to_csv('lssvm_train_preds_trans.csv', index=False)\n",
    "#lssvm_test_trans_df = pd.DataFrame(lssvm.predict(X_test_transformed))\n",
    "#lssvm_test_trans_df.to_csv('lssvm_test_preds_trans.csv', index=False)\n",
    "#lssvm_val_trans_df = pd.DataFrame(lssvm.predict(X_val_transformed))\n",
    "#lssvm_val_trans_df.to_csv('lssvm_val_preds_trans.csv', index=False)\n",
    "\n",
    "\n",
    "\n"
   ]
  },
  {
   "cell_type": "code",
   "execution_count": 51,
   "id": "ef86b0d4",
   "metadata": {},
   "outputs": [
    {
     "data": {
      "text/html": [
       "<style>#sk-container-id-1 {color: black;background-color: white;}#sk-container-id-1 pre{padding: 0;}#sk-container-id-1 div.sk-toggleable {background-color: white;}#sk-container-id-1 label.sk-toggleable__label {cursor: pointer;display: block;width: 100%;margin-bottom: 0;padding: 0.3em;box-sizing: border-box;text-align: center;}#sk-container-id-1 label.sk-toggleable__label-arrow:before {content: \"▸\";float: left;margin-right: 0.25em;color: #696969;}#sk-container-id-1 label.sk-toggleable__label-arrow:hover:before {color: black;}#sk-container-id-1 div.sk-estimator:hover label.sk-toggleable__label-arrow:before {color: black;}#sk-container-id-1 div.sk-toggleable__content {max-height: 0;max-width: 0;overflow: hidden;text-align: left;background-color: #f0f8ff;}#sk-container-id-1 div.sk-toggleable__content pre {margin: 0.2em;color: black;border-radius: 0.25em;background-color: #f0f8ff;}#sk-container-id-1 input.sk-toggleable__control:checked~div.sk-toggleable__content {max-height: 200px;max-width: 100%;overflow: auto;}#sk-container-id-1 input.sk-toggleable__control:checked~label.sk-toggleable__label-arrow:before {content: \"▾\";}#sk-container-id-1 div.sk-estimator input.sk-toggleable__control:checked~label.sk-toggleable__label {background-color: #d4ebff;}#sk-container-id-1 div.sk-label input.sk-toggleable__control:checked~label.sk-toggleable__label {background-color: #d4ebff;}#sk-container-id-1 input.sk-hidden--visually {border: 0;clip: rect(1px 1px 1px 1px);clip: rect(1px, 1px, 1px, 1px);height: 1px;margin: -1px;overflow: hidden;padding: 0;position: absolute;width: 1px;}#sk-container-id-1 div.sk-estimator {font-family: monospace;background-color: #f0f8ff;border: 1px dotted black;border-radius: 0.25em;box-sizing: border-box;margin-bottom: 0.5em;}#sk-container-id-1 div.sk-estimator:hover {background-color: #d4ebff;}#sk-container-id-1 div.sk-parallel-item::after {content: \"\";width: 100%;border-bottom: 1px solid gray;flex-grow: 1;}#sk-container-id-1 div.sk-label:hover label.sk-toggleable__label {background-color: #d4ebff;}#sk-container-id-1 div.sk-serial::before {content: \"\";position: absolute;border-left: 1px solid gray;box-sizing: border-box;top: 0;bottom: 0;left: 50%;z-index: 0;}#sk-container-id-1 div.sk-serial {display: flex;flex-direction: column;align-items: center;background-color: white;padding-right: 0.2em;padding-left: 0.2em;position: relative;}#sk-container-id-1 div.sk-item {position: relative;z-index: 1;}#sk-container-id-1 div.sk-parallel {display: flex;align-items: stretch;justify-content: center;background-color: white;position: relative;}#sk-container-id-1 div.sk-item::before, #sk-container-id-1 div.sk-parallel-item::before {content: \"\";position: absolute;border-left: 1px solid gray;box-sizing: border-box;top: 0;bottom: 0;left: 50%;z-index: -1;}#sk-container-id-1 div.sk-parallel-item {display: flex;flex-direction: column;z-index: 1;position: relative;background-color: white;}#sk-container-id-1 div.sk-parallel-item:first-child::after {align-self: flex-end;width: 50%;}#sk-container-id-1 div.sk-parallel-item:last-child::after {align-self: flex-start;width: 50%;}#sk-container-id-1 div.sk-parallel-item:only-child::after {width: 0;}#sk-container-id-1 div.sk-dashed-wrapped {border: 1px dashed gray;margin: 0 0.4em 0.5em 0.4em;box-sizing: border-box;padding-bottom: 0.4em;background-color: white;}#sk-container-id-1 div.sk-label label {font-family: monospace;font-weight: bold;display: inline-block;line-height: 1.2em;}#sk-container-id-1 div.sk-label-container {text-align: center;}#sk-container-id-1 div.sk-container {/* jupyter's `normalize.less` sets `[hidden] { display: none; }` but bootstrap.min.css set `[hidden] { display: none !important; }` so we also need the `!important` here to be able to override the default hidden behavior on the sphinx rendered scikit-learn.org. See: https://github.com/scikit-learn/scikit-learn/issues/21755 */display: inline-block !important;position: relative;}#sk-container-id-1 div.sk-text-repr-fallback {display: none;}</style><div id=\"sk-container-id-1\" class=\"sk-top-container\"><div class=\"sk-text-repr-fallback\"><pre>AdaBoostRegressor(random_state=42)</pre><b>In a Jupyter environment, please rerun this cell to show the HTML representation or trust the notebook. <br />On GitHub, the HTML representation is unable to render, please try loading this page with nbviewer.org.</b></div><div class=\"sk-container\" hidden><div class=\"sk-item\"><div class=\"sk-estimator sk-toggleable\"><input class=\"sk-toggleable__control sk-hidden--visually\" id=\"sk-estimator-id-1\" type=\"checkbox\" checked><label for=\"sk-estimator-id-1\" class=\"sk-toggleable__label sk-toggleable__label-arrow\">AdaBoostRegressor</label><div class=\"sk-toggleable__content\"><pre>AdaBoostRegressor(random_state=42)</pre></div></div></div></div></div>"
      ],
      "text/plain": [
       "AdaBoostRegressor(random_state=42)"
      ]
     },
     "execution_count": 51,
     "metadata": {},
     "output_type": "execute_result"
    }
   ],
   "source": [
    "#to discover what the initial hyperparameters were:\n",
    "ABR.fit(X_model_train, y_model_train)"
   ]
  },
  {
   "cell_type": "code",
   "execution_count": 52,
   "id": "b6215544",
   "metadata": {
    "scrolled": true
   },
   "outputs": [
    {
     "ename": "ModuleNotFoundError",
     "evalue": "No module named 'skopt'",
     "output_type": "error",
     "traceback": [
      "\u001b[1;31m---------------------------------------------------------------------------\u001b[0m",
      "\u001b[1;31mModuleNotFoundError\u001b[0m                       Traceback (most recent call last)",
      "Cell \u001b[1;32mIn[52], line 1\u001b[0m\n\u001b[1;32m----> 1\u001b[0m \u001b[38;5;28;01mfrom\u001b[39;00m \u001b[38;5;21;01mskopt\u001b[39;00m \u001b[38;5;28;01mimport\u001b[39;00m BayesSearchCV\n\u001b[0;32m      2\u001b[0m \u001b[38;5;28;01mfrom\u001b[39;00m \u001b[38;5;21;01mskopt\u001b[39;00m\u001b[38;5;21;01m.\u001b[39;00m\u001b[38;5;21;01mspace\u001b[39;00m \u001b[38;5;28;01mimport\u001b[39;00m Real, Categorical, Integer\n\u001b[0;32m      3\u001b[0m \u001b[38;5;28;01mfrom\u001b[39;00m \u001b[38;5;21;01msklearn\u001b[39;00m\u001b[38;5;21;01m.\u001b[39;00m\u001b[38;5;21;01mmodel_selection\u001b[39;00m \u001b[38;5;28;01mimport\u001b[39;00m cross_val_score\n",
      "\u001b[1;31mModuleNotFoundError\u001b[0m: No module named 'skopt'"
     ]
    }
   ],
   "source": [
    "from skopt import BayesSearchCV\n",
    "from skopt.space import Real, Categorical, Integer\n",
    "from sklearn.model_selection import cross_val_score\n",
    "\n",
    "\n",
    "# Define the objective function to be optimized\n",
    "def optimize_DecisionTreeRegressor(max_depth, min_samples_split, min_samples_leaf, max_features, max_leaf_nodes,):\n",
    "    # Create the DecisionTreeRegressor model with given hyperparameters\n",
    "    model = DecisionTreeRegressor( max_depth=int(max_depth), min_samples_split=int(min_samples_split), min_samples_leaf=int(min_samples_leaf), max_features=int(max_features), max_leaf_nodes=int(max_leaf_nodes))\n",
    "    # Calculate the cross-validation scores of the model\n",
    "    scores = cross_val_score(model, X_model_train, y_model_train, cv=10, scoring='neg_mean_squared_error')\n",
    "    # Return the average score across all cross-validation folds\n",
    "    return np.mean(scores)\n",
    "\n",
    "\n",
    "\n",
    "#start = time.time()\n",
    "# Define the search space for the hyperparameters\n",
    "pbounds = {'max_depth': (1, 200), 'min_samples_split': (1, 2 ), 'min_samples_leaf': (1, 20), 'max_features': (1, 4), 'max_leaf_nodes': (10,100),}\n",
    "\n",
    "\n",
    "     \n",
    "# Create the Bayesian optimization object with the objective function and search space\n",
    "optimizer = BayesianOptimization(f=optimize_DecisionTreeRegressor, pbounds=pbounds, random_state=42)\n",
    "\n",
    "# Perform the optimization\n",
    "optimizer.maximize(init_points=10, n_iter=50)\n",
    "\n",
    "# Get the best hyperparameters\n",
    "#est_n_estimators = optimizer.max['params']['n_estimators']\n",
    "#best_min_child_samples = optimizer.max['params']['min_child_samples']\n",
    "best_max_depth = optimizer.max['params']['max_depth']\n",
    "best_min_samples_split = optimizer.max['params']['min_samples_split']\n",
    "best_min_samples_leaf = optimizer.max['params']['min_samples_leaf']\n",
    "#est_max_features = optimizer.max['params']['max_features']\n",
    "#best_learning_rate = optimizer.max['params']['learning_rate']\n",
    "best_max_leaf_nodes = optimizer.max['params']['max_leaf_nodes']\n",
    "#est_boostrap = optimizer.max['params']['boostrap']\n",
    "#best_reg_alpha = optimizer.max['params']['reg_alpha']\n",
    "#best_colsample_bytree = optimizer.max['params']['colsample_bytree']\n",
    "# Print the best hyperparameters\n",
    "#rint(f\"Best n_estimators: {best_n_estimators}\")\n",
    "print(f\"Best max_depth: {best_max_depth}\")\n",
    "print(f\"Best min_samples_split: {best_min_samples_split}\")\n",
    "\n",
    "#print(f\"Best min_child_samples: {best_min_child_samples}\")\n",
    "print(f\"Best min_samples_leaf: {best_min_samples_leaf}\")\n",
    "#rint(f\"Best max_features: {best_max_features}\")\n",
    "#print(f\"Best learning_rate: {best_learning_rate}\")\n",
    "print(f\"Best max_leaf_nodes: {best_max_leaf_nodes}\")\n",
    "#rint(f\"Best boostrap: {best_boostrap}\")\n",
    "#print(f\"Best reg_alpha: {best_reg_alpha}\")\n",
    "#print(f\"Best colsample_bytree: {best_colsample_bytree}\")\n",
    "\n",
    "\n",
    "\n",
    "\n",
    "# Use the best hyperparameters to train the final model\n",
    "model = DecisionTreeRegressor(max_depth=int(best_max_depth), min_samples_split=int(best_min_samples_split), min_samples_leaf=int(best_min_samples_leaf), max_leaf_nodes=int(best_max_leaf_nodes), random_state=42)\n",
    "model.fit(X_model_train, y_model_train)\n",
    "y_pred_train = model.predict(X_model_train)\n",
    "y_pred_test=model.predict(X_test)\n",
    "Trainingset_rmse = np.sqrt(mean_squared_error(y_model_train, y_pred_train))\n",
    "Testset_rmse = np.sqrt(mean_squared_error(y_test, y_pred_test))\n",
    "print(\"RMSE on Training Set for the new model is\", Trainingset_rmse)\n",
    "print(\"RMSE on Test Set for the new model is\", Testset_rmse)\n",
    "#print(\"This process consumed %s minutes:\" % ((time.time() - start)/60))"
   ]
  },
  {
   "cell_type": "code",
   "execution_count": null,
   "id": "26b5968b",
   "metadata": {},
   "outputs": [],
   "source": [
    "#Best n_estimators: 1941.3242117158889, Best learning_rate: 0.03037864935284442, RMSE for the new model is 25.412847319624795\n",
    "#BasedOn BayesianOptimization\n",
    "ABR = AdaBoostRegressor(learning_rate=0.03037864935284442, n_estimators=971, random_state=42)\n",
    "GBDT = GradientBoostingRegressor(n_estimators= int(71.89269734799326), max_depth= int(8.242220351700581), min_samples_split= int(2.308285809742533), min_samples_leaf= int(9.767095449614672), random_state=42)\n",
    "XGB = XGBRegressor(n_estimators = int(306.9098001650474), max_depth = int(10.0), min_child_weight = (10.0), reg_lambda = (1.0), learning_rate = (0.01), gamma = (1.0),  subsample = (1.0), reg_alpha = (1.0), colsample_bytree = (1.0), objective='reg:squarederror', random_state=42)\n",
    "LGBM = LGBMRegressor(n_estimators = int(27.57525722125984), num_leaves = int(178.38937797472082), max_depth = int(13.437060376068947), min_child_weight = (0.6486966429940462), reg_lambda = (0.018175963826942976), learning_rate = (0.27025371225996475), min_data_in_leaf = int(12.734588444634852), subsample = (0.8961175313237542), reg_alpha = (0.31808734945593653), colsample_bytree = (0.8981035311266471),    random_state=42)\n",
    "RF = RandomForestRegressor(n_estimators = int(224.2536150863089), max_depth = int (100.0), min_samples_split = int(1.0), min_samples_leaf = int(1.0), max_features = int(4.0), random_state=42)\n",
    "ET = ExtraTreesRegressor(n_estimators = int(270.8714437424529), max_depth = int(31.730510436614694), min_samples_split= int(3.6499521339233754), min_samples_leaf = int(1.7099839564601607), random_state=42)\n",
    "ID3 = DecisionTreeRegressor(max_depth = int(81.08719353205689), min_samples_split= int(1.0),  min_samples_leaf = int(13.03277896427914), max_leaf_nodes = int(62.143548464469966), criterion='friedman_mse', random_state=42) #Iterative Dichotomiser 3 #a variation of standard decision tree algorithm, To specify the algorithm to be used, we can use the \"criterion\" parameter\n",
    "C4_5 = DecisionTreeRegressor(max_depth = int(81.08719353205689), min_samples_split= int(1.0),  min_samples_leaf = int(13.03277896427914), max_leaf_nodes = int(62.143548464469966), criterion='friedman_mse', splitter='best', max_features=None, random_state=42) #a variation of standard decision tree algorithm, To specify the algorithm to be used, we can use the \"criterion\" parameter\n",
    "CART = DecisionTreeRegressor(max_depth = int(81.08719353205689), min_samples_split= int(1.0),  min_samples_leaf = int(13.03277896427914), max_leaf_nodes = int(62.143548464469966), criterion='absolute_error', random_state=42) #Classification and Regression Trees\n",
    "\n",
    "# Train models\n",
    "\n",
    "models = {'ABR': ABR, 'GBDT': GBDT, 'XGB': XGB, 'LGBM': LGBM, 'RF': RF, 'ET': ET, 'ID3': ID3, 'C4_5': C4_5, 'CART': CART}\n",
    "resultsBT = []\n",
    "for name, model in models.items():\n",
    "    model.fit(X_model_train, y_model_train)\n",
    "\n",
    "    # Make predictions on the training set\n",
    "    y_pred_train = model.predict(X_model_train)\n",
    "\n",
    "    # Calculate performance metrics\n",
    "    rmse = np.sqrt(mean_squared_error(y_model_train, y_pred_train))\n",
    "    mae = mean_absolute_error(y_model_train, y_pred_train)\n",
    "    vaf = 1 - (np.var(y_model_train - y_pred_train) / np.var(y_model_train))\n",
    "    ns = 1 - mean_squared_error(y_model_train, y_pred_train) / np.var(y_model_train)\n",
    "    wmape = np.mean(np.abs(y_model_train - y_pred_train) / np.abs(y_model_train))\n",
    "    wmbe = np.mean(y_model_train - y_pred_train)\n",
    "    r = np.corrcoef(y_model_train, y_pred_train)[0][1]\n",
    "    r2 = r2_score(y_model_train, y_pred_train)\n",
    "    resultsBT.append([name, rmse, mae, vaf, ns, wmape, wmbe, r, r2])\n",
    "    \n",
    "    # Print the performance metrics\n",
    "    print(f\"{name} - Training Set Performance:\")\n",
    "    print(f\"RMSE: {rmse:.3f}\")\n",
    "    print(f\"MAE: {mae:.3f}\")\n",
    "    print(f\"VAF: {vaf:.3f}\")\n",
    "    print(f\"NS: {ns:.3f}\")\n",
    "    print(f\"WMAPE: {wmape:.3f}\")\n",
    "    print(f\"WMBE: {wmbe:.3f}\")\n",
    "    print(f\"R: {r:.3f}\")\n",
    "    print(f\"R^2: {r2:.3f}\\n\")\n",
    "\n",
    "    \n",
    "# print the results\n",
    "headersBT = ['Model', 'RMSE', 'MAE', 'VAF', 'NS', 'WMAPE', 'WMBE', 'R', 'R2']\n",
    "print(pd.DataFrame(resultsBT, columns=headersBT))"
   ]
  },
  {
   "cell_type": "code",
   "execution_count": null,
   "id": "47335249",
   "metadata": {},
   "outputs": [],
   "source": [
    "testing_predicts = pd.DataFrame(resultsBT, columns=headersBT)\n",
    "testing_predicts.to_csv('Yin_Optimizedtraining_predictions_metrics.csv', index=False)\n",
    "#predicted_test_y = pd.DataFrame(y_pred_test)\n",
    "#predicted_test_y.to_csv('Yin_predicted_test_values_all.csv', index=False)"
   ]
  },
  {
   "cell_type": "code",
   "execution_count": null,
   "id": "df89bb71",
   "metadata": {},
   "outputs": [],
   "source": [
    "# evaluate the models on testing set\n",
    "resultsBS = []\n",
    "for name, model in models.items():\n",
    "    model.fit(X_model_train, y_model_train)\n",
    "    y_pred_test = model.predict(X_test)\n",
    "    rmse = np.sqrt(mean_squared_error(y_test, y_pred_test))\n",
    "    mae = mean_absolute_error(y_test, y_pred_test)\n",
    "    vaf = 1 - np.var(y_test-y_pred_test)/np.var(y_test)\n",
    "    ns = 1 - np.sum((y_test-y_pred_test)**2)/np.sum((y_test-np.mean(y_pred_test))**2)\n",
    "    wmape = np.mean(np.abs((y_test - y_pred_test) / np.abs(y_test)))\n",
    "    wbme = np.mean(y_test - y_pred_test)\n",
    "    r = np.corrcoef(y_test, y_pred_test)[0,1]\n",
    "    r2 = r2_score(y_test, y_pred_test)\n",
    "    resultsBS.append([name, rmse, mae, vaf, ns, wmape, wbme, r, r2])\n",
    "    \n",
    "     # Print the performance metrics\n",
    "    print(f\"{name} - Testing Set Performance:\")\n",
    "    print(f\"RMSE: {rmse:.3f}\")\n",
    "    print(f\"MAE: {mae:.3f}\")\n",
    "    print(f\"VAF: {vaf:.3f}\")\n",
    "    print(f\"NS: {ns:.3f}\")\n",
    "    print(f\"WMAPE: {wmape:.3f}\")\n",
    "    print(f\"WMBE: {wmbe:.3f}\")\n",
    "    print(f\"R: {r:.3f}\")\n",
    "    print(f\"R^2: {r2:.3f}\\n\")\n",
    "\n",
    "# print the results\n",
    "headersBS = ['Model', 'RMSE', 'MAE', 'VAF', 'NS', 'WMAPE', 'WMBE', 'R', 'R2']\n",
    "print(pd.DataFrame(resultsBS, columns=headersBS))"
   ]
  },
  {
   "cell_type": "code",
   "execution_count": null,
   "id": "cc5f172b",
   "metadata": {},
   "outputs": [],
   "source": [
    "testing_predicts = pd.DataFrame(resultsBS, columns=headersBS)\n",
    "testing_predicts.to_csv('Yin_Optimizedtesting_prdictions_metrics.csv', index=False)"
   ]
  },
  {
   "cell_type": "code",
   "execution_count": null,
   "id": "1f5743a3",
   "metadata": {},
   "outputs": [],
   "source": []
  },
  {
   "cell_type": "code",
   "execution_count": null,
   "id": "6c97f1fd",
   "metadata": {},
   "outputs": [],
   "source": [
    "\n",
    "# Define a function to get the predictions for each set\n",
    "def get_predictions1(model, X_model_train, y_model_train, X_test, y_test):\n",
    "    train_preds = model.predict(X_model_train)\n",
    "    test_preds = model.predict(X_test)\n",
    "    return train_preds, test_preds\n",
    "\n",
    "# Create a list of models\n",
    "models = {'ABR': ABR, 'GBDT': GBDT, 'XGB': XGB, 'LGBM': LGBM, 'RF': RF, 'ET': ET, 'ID3': ID3, 'C4_5': C4_5, 'CART': CART}\n",
    "\n",
    "# Create a dictionary to store the predictions for each model\n",
    "predictions1 = {}\n",
    "\n",
    "\n",
    "# Loop through the models and get the predictions for each set\n",
    "\n",
    "for name, model in models.items():\n",
    "    train_preds, test_preds = get_predictions1(model, X_model_train, y_model_train, X_test, y_test)\n",
    "    predictions1[name] = train_preds   \n",
    "\n",
    "# Convert the dictionary to a DataFrame and save to a CSV file\n",
    "train_predicts_alls_df = pd.DataFrame(predictions1)\n",
    "train_predicts_alls_df.to_csv('Yin_Opttraining-predictYs.csv', index=False)\n",
    "\n",
    "testing_predicts = pd.DataFrame(resultsBS, columns=headersBS)\n",
    "testing_predicts.to_csv('Yin_Opttesting-predictions_metrics.csv', index=False)\n",
    "predicted_test_y = pd.DataFrame(y_pred_test)\n",
    "predicted_test_y.to_csv('Yin_Optpredicted-test_values_all.csv', index=False)\n",
    "\n",
    "# Define a function to get the predictions for each set\n",
    "def get_predictions(model, X_model_train, y_model_train, X_test, y_test):\n",
    "    train_preds = model.predict(X_model_train)\n",
    "    test_preds = model.predict(X_test)\n",
    "    return train_preds, test_preds\n",
    "\n",
    "# Create a list of models\n",
    "models = {'ABR': ABR, 'GBDT': GBDT, 'XGB': XGB, 'LGBM': LGBM, 'RF': RF, 'ET': ET, 'ID3': ID3, 'C4_5': C4_5, 'CART': CART}\n",
    "\n",
    "# Create a dictionary to store the predictions for each model\n",
    "predictions = {}\n",
    "\n",
    "\n",
    "# Loop through the models and get the predictions for each set\n",
    "for name, model in models.items():\n",
    "    train_preds, test_preds = get_predictions(model, X_model_train, y_model_train, X_test, y_test)\n",
    "    predictions[name] = test_preds\n",
    "   \n",
    "# Convert the dictionary to a DataFrame and save to a CSV file\n",
    "test_preds_alls_df = pd.DataFrame(predictions)\n",
    "test_preds_alls_df.to_csv('Yin_Optimizedtesting-preds_alls.csv', index=False)"
   ]
  },
  {
   "cell_type": "code",
   "execution_count": 57,
   "id": "14823934",
   "metadata": {
    "scrolled": true
   },
   "outputs": [
    {
     "name": "stdout",
     "output_type": "stream",
     "text": [
      "Running on local URL:  http://127.0.0.1:7863\n",
      "Running on public URL: https://d8faefe341f846a3bb.gradio.live\n",
      "\n",
      "This share link expires in 72 hours. For free permanent hosting and GPU upgrades (NEW!), check out Spaces: https://huggingface.co/spaces\n"
     ]
    },
    {
     "data": {
      "text/html": [
       "<div><iframe src=\"https://d8faefe341f846a3bb.gradio.live\" width=\"100%\" height=\"500\" allow=\"autoplay; camera; microphone; clipboard-read; clipboard-write;\" frameborder=\"0\" allowfullscreen></iframe></div>"
      ],
      "text/plain": [
       "<IPython.core.display.HTML object>"
      ]
     },
     "metadata": {},
     "output_type": "display_data"
    },
    {
     "data": {
      "text/plain": []
     },
     "execution_count": 57,
     "metadata": {},
     "output_type": "execute_result"
    }
   ],
   "source": [
    "import joblib\n",
    "\n",
    "# Train and save your scikit-learn model\n",
    "model = RandomForestRegressor(n_estimators = int(224.2536150863089), max_depth = int (100.0), min_samples_split = int(1.0), min_samples_leaf = int(1.0), max_features = int(4.0), random_state=42)  # Your trained scikit-learn model\n",
    "joblib.dump(model, \"model.joblib\")\n",
    "\n",
    "\n",
    "import gradio as gr\n",
    "import warnings\n",
    "warnings.filterwarnings('ignore')\n",
    "\n",
    "RF = RandomForestRegressor(n_estimators = int(224.2536150863089), max_depth = int (100.0), min_samples_split = int(1.0), min_samples_leaf = int(1.0), max_features = int(4.0), random_state=42)\n",
    "ET = ExtraTreesRegressor(n_estimators = int(270.8714437424529), max_depth = int(31.730510436614694), min_samples_split= int(3.6499521339233754), min_samples_leaf = int(1.7099839564601607), random_state=42)\n",
    "RF = joblib.load(\"model.joblib\")\n",
    "\n",
    "RF.fit(X_model_train, y_model_train)\n",
    "\n",
    "def UniaxialCompressiveStrength(SRn, Vp, Is):\n",
    "    X = np.array([SRn, Vp, Is])\n",
    "    prediction = RF.predict(X.reshape(1, -1))\n",
    "    return prediction\n",
    "\n",
    "outputs = gr.outputs.Textbox()\n",
    "app = gr.Interface(fn=UniaxialCompressiveStrength, inputs=['number','number','number'], outputs=outputs,description=\"This is a Uniaxial Compressive Strength Prediction Model\")\n",
    "app.launch(share=True)\n",
    "\n",
    "#To provide a shareable link\n",
    "#app.launch(share=True)"
   ]
  },
  {
   "cell_type": "code",
   "execution_count": 59,
   "id": "ae172386",
   "metadata": {},
   "outputs": [
    {
     "data": {
      "text/plain": [
       "'C:\\\\Users\\\\USER\\\\Documents\\\\Received\\\\PYTHON\\\\Xin Yin\\\\WriteUp-Result 3-Research'"
      ]
     },
     "execution_count": 59,
     "metadata": {},
     "output_type": "execute_result"
    }
   ],
   "source": [
    "pwd"
   ]
  },
  {
   "cell_type": "code",
   "execution_count": null,
   "id": "f62aeef4",
   "metadata": {},
   "outputs": [],
   "source": [
    "import streamlit as st\n",
    " \n",
    "st.title('Uniaxial Compressive Strength prediction')\n",
    " \n",
    "st.write('---')\n",
    " \n",
    "# SRn \n",
    "SRn = st.number_input('SRn')\n",
    " \n",
    "# Vp\n",
    "Vp = st.radio('Vp', min_value=0, step=1)\n",
    " \n",
    "# Is\n",
    "Is = st.number_input('Is', min_value=0, step=1)\n",
    " \n",
    "RF = RandomForestRegressor(n_estimators = int(224.2536150863089), max_depth = int (100.0), min_samples_split = int(1.0), min_samples_leaf = int(1.0), max_features = int(4.0), random_state=42)\n",
    "ET = ExtraTreesRegressor(n_estimators = int(270.8714437424529), max_depth = int(31.730510436614694), min_samples_split= int(3.6499521339233754), min_samples_leaf = int(1.7099839564601607), random_state=42)\n",
    "\n",
    "RF.fit(X_model_train, y_model_train)\n",
    "\n",
    "input_data =  np.array([SRn, Vp_(m/s), Is_(Mpa)])\n",
    "predict_UCS = RF.predict(input_data)\n",
    "st.subheader('UCS in MPa is:', predict_UCS)\n",
    "\n",
    "'''  \n",
    "def UniaxialCompressiveStrength(SRn, Vp, Is):\n",
    "    X = np.array([SRn, Vp, Is])\n",
    "    prediction = RF.predict(X.reshape(1, -1))\n",
    "    return prediction\n",
    "\n",
    "if st.button('Predict Uniaxial Compressive Strength'):\n",
    "    UCS = predict(np.array([[SRn, Vp, Is]]))\n",
    "    st.text(UCS[0])\n",
    "\n",
    "\n",
    "'''"
   ]
  },
  {
   "cell_type": "code",
   "execution_count": null,
   "id": "0cd05e14",
   "metadata": {},
   "outputs": [],
   "source": [
    "streamlit run app.py"
   ]
  },
  {
   "cell_type": "code",
   "execution_count": null,
   "id": "2d125b72",
   "metadata": {},
   "outputs": [],
   "source": [
    "import PySimpleGUI as sg\n",
    "\n",
    "\n",
    "# Define the layout of the GUI\n",
    "layout = [\n",
    "    [sg.Text(\"SRn\"), sg.Input(key=\"-INPUT1-\")],\n",
    "    [sg.Text(\"Vp (m/s)\"), sg.Input(key=\"-INPUT2-\")],\n",
    "    [sg.Text(\"Is (Mpa)\"), sg.Input(key=\"-INPUT3-\")],\n",
    "    [sg.Button(\"Predict UCS (Mpa)\"), sg.Button(\"Exit\")],\n",
    "    [sg.Text(\"Prediction of UCS (MPa): \"), sg.Text(size=(20, 1), key=\"-OUTPUT-\")]\n",
    "]\n",
    "\n",
    "# Define the layout of the GUI\n",
    "layout = [\n",
    "    [sg.Text(\"SRn:\"), sg.InputText(key='input1')],\n",
    "    [sg.Text(\"Vp (m/s):\"), sg.InputText(key='input2')],\n",
    "    [sg.Text(\"Is (Mpa):\"), sg.InputText(key='input3')],\n",
    "    [sg.Button(\"Predict\"), sg.Button(\"Exit\")],\n",
    "    [sg.Text(\"UCS (Mpa) Prediction:\", size=(40, 1), key='output')]\n",
    "]\n",
    "\n",
    "# Create the window\n",
    "window = sg.Window(\"Uniaxial Compressive Strength Predictor\", layout)\n",
    "\n",
    "\n",
    "\n",
    "# Event loop to handle user interactions\n",
    "while True:\n",
    "    event, values = window.read()\n",
    "    if event == sg.WINDOW_CLOSED or event == 'Exit':\n",
    "        break\n",
    "    elif event == 'Predict':\n",
    "        # Get the input values\n",
    "        input1 = float(values['input1'])\n",
    "        input2 = float(values['input2'])\n",
    "        input3 = float(values['input3'])\n",
    "\n",
    "        # Load your trained regressor model\n",
    "        model = RandomForestRegressor()  # Replace with your trained model\n",
    "        RF = RandomForestRegressor(n_estimators = int(224.2536150863089), max_depth = int (100.0), min_samples_split = int(1.0), min_samples_leaf = int(1.0), max_features = int(4.0), random_state=42)\n",
    "        RF.fit(X_model_train, y_model_train)\n",
    "        \n",
    "        # Perform the prediction\n",
    "        prediction = RF.predict([[input1, input2, input3]])\n",
    "\n",
    "        # Update the output text\n",
    "        window['output'].update(f\"Prediction: {prediction[0]}\")\n",
    "\n",
    "# Close the window\n",
    "window.close()\n",
    "\n",
    "\n",
    "'''\n",
    "# Load your trained regressor model\n",
    "RF = RandomForestRegressor(n_estimators = int(224.2536150863089), max_depth = int (100.0), min_samples_split = int(1.0), min_samples_leaf = int(1.0), max_features = int(4.0), random_state=42)\n",
    "ET = ExtraTreesRegressor(n_estimators = int(270.8714437424529), max_depth = int(31.730510436614694), min_samples_split= int(3.6499521339233754), min_samples_leaf = int(1.7099839564601607), random_state=42)\n",
    "\n",
    "RF.fit(X_model_train, y_model_train)\n",
    "\n",
    "def UniaxialCompressiveStrength(SRn, Vp, Is):\n",
    "    X = np.array([SRn, Vp, Is])\n",
    "    prediction = RF.predict(X.reshape(1, -1))\n",
    "    return prediction\n",
    "\n",
    "# Event loop to process GUI events\n",
    "while True:\n",
    "    event, values = window.read()\n",
    "\n",
    "    # Exit the program if the window is closed or \"Exit\" button is clicked\n",
    "    if event == sg.WINDOW_CLOSED or event == \"Exit\":\n",
    "        break\n",
    "\n",
    "    # Perform the prediction when the \"Predict\" button is clicked\n",
    "    if event == \"Predict\":\n",
    "        try:\n",
    "            # Get the input values from the GUI\n",
    "            input1 = float(values[\"-INPUT1-\"])\n",
    "            input2 = float(values[\"-INPUT2-\"])\n",
    "            input3 = float(values[\"-INPUT3-\"])\n",
    "\n",
    "            # Perform the prediction\n",
    "            prediction = RF.predict([[input1, input2, input3]])\n",
    "\n",
    "            # Update the output label with the prediction\n",
    "            window[\"-OUTPUT-\"].update(f\"Prediction: {prediction[0]}\")\n",
    "\n",
    "        except ValueError:\n",
    "            sg.popup(\"Invalid input. Please enter numeric values.\")\n",
    "\n",
    "# Close the window\n",
    "window.close()\n",
    "\n",
    "\n",
    "\n",
    "\n",
    "'''\n"
   ]
  },
  {
   "cell_type": "code",
   "execution_count": null,
   "id": "d122a24f",
   "metadata": {},
   "outputs": [],
   "source": [
    "import PySimpleGUI as sg\n",
    "\n",
    "sg.Window(title=\"Welcome to this ML model GUI\", layout=[[]], margins=(100, 50)).read()\n",
    "layout = [[sg.Text(\"Uniaxial Compressive Strength Prediction for Rocks\")], [sg.Button(\"OK\")]]\n",
    "\n",
    "\n",
    "RF = RandomForestRegressor(n_estimators = int(224.2536150863089), max_depth = int (100.0), min_samples_split = int(1.0), min_samples_leaf = int(1.0), max_features = int(4.0), random_state=42)\n",
    "ET = ExtraTreesRegressor(n_estimators = int(270.8714437424529), max_depth = int(31.730510436614694), min_samples_split= int(3.6499521339233754), min_samples_leaf = int(1.7099839564601607), random_state=42)\n",
    "\n",
    "RF.fit(X_model_train, y_model_train)\n",
    "\n",
    "def UniaxialCompressiveStrength(SRn, Vp, Is):\n",
    "    X = np.array([SRn, Vp, Is])\n",
    "    prediction = RF.predict(X.reshape(1, -1))\n",
    "    return prediction\n",
    "\n",
    "def uniaxialcompressivestrength(SRn, Vp, Is):\n",
    "#turning the arguments into a numpy array  \n",
    " x = np.array([SRn, Vp(m/s), Is])\n",
    "\n",
    " prediction = model.predict(x.reshape(1, -1))\n",
    "\n",
    " return prediction\n",
    "\n",
    "outputs = sg.outputs.Textbox()\n",
    "\n",
    "app = sg.Interface(fn=diabetes, inputs=['number','number','number'], outputs=outputs,description=\"This is a Uniaxial Compressive Strength Prediction model\")\n"
   ]
  },
  {
   "cell_type": "code",
   "execution_count": null,
   "id": "10e2fab1",
   "metadata": {},
   "outputs": [],
   "source": [
    "import tkinter as tk\n",
    "from tkinter import messagebox\n",
    "\n",
    "\n",
    "# Create the main application window\n",
    "window = tk.Tk()\n",
    "window.title(\"Uniaxial Compressive Strength Predictor GUI\")\n",
    "\n",
    "# Create input labels\n",
    "label1 = tk.Label(window, text=\"SRn:\")\n",
    "label1.pack()\n",
    "input1 = tk.Entry(window)\n",
    "input1.pack()\n",
    "\n",
    "label2 = tk.Label(window, text=\"Vp (m/s):\")\n",
    "label2.pack()\n",
    "input2 = tk.Entry(window)\n",
    "input2.pack()\n",
    "\n",
    "label3 = tk.Label(window, text=\"Is (Mpa):\")\n",
    "label3.pack()\n",
    "input3 = tk.Entry(window)\n",
    "input3.pack()\n",
    "\n",
    "# Create output label\n",
    "output_label = tk.Label(window, text=\"UCS (Mpa):\")\n",
    "output_label.pack()\n",
    "\n",
    "# Load your trained regressor model\n",
    "#regressor = RandomForestRegressor()  # Replace with your trained regressor model\n",
    "RF = RandomForestRegressor(n_estimators = int(224.2536150863089), max_depth = int (100.0), min_samples_split = int(1.0), min_samples_leaf = int(1.0), max_features = int(4.0), random_state=42)\n",
    "ET = ExtraTreesRegressor(n_estimators = int(270.8714437424529), max_depth = int(31.730510436614694), min_samples_split= int(3.6499521339233754), min_samples_leaf = int(1.7099839564601607), random_state=42)\n",
    "\n",
    "RF.fit(X_model_train, y_model_train)\n",
    "\n",
    "#input_data =  np.array([SRn, Vp_(m/s), Is_(Mpa)])\n",
    "#predict_UCS = RF.predict(input_data)\n",
    "\n",
    "# Train the model on your training data\n",
    "# X_train, y_train = load_training_data()  # Replace with your training data\n",
    "# regressor.fit(X_train, y_train)\n",
    "\n",
    "# Function to handle button click event\n",
    "def predict():\n",
    "    try:\n",
    "        # Get input values\n",
    "        value1 = float(input1.get())\n",
    "        value2 = float(input2.get())\n",
    "        value3 = float(input3.get())\n",
    "\n",
    "        # Perform prediction using the regressor model\n",
    "        input_data = np.array([[value1, value2, value3]])\n",
    "        prediction = RF.predict(input_data)\n",
    "\n",
    "        # Update the output label\n",
    "        output_label.config(text=\"UCS Prediction (Mpa): \" + str(prediction))\n",
    "\n",
    "    except ValueError:\n",
    "        messagebox.showerror(\"Error\", \"Invalid input values. Please enter numeric values.\")\n",
    "\n",
    "# Create predict button\n",
    "predict_button = tk.Button(window, text=\"Predict\", command=predict)\n",
    "predict_button.pack()\n",
    "\n",
    "# Run the GUI application\n",
    "window.mainloop()\n"
   ]
  },
  {
   "cell_type": "code",
   "execution_count": null,
   "id": "bb0848ab",
   "metadata": {},
   "outputs": [],
   "source": [
    "from tkinter import *\n",
    "from tkinter import messagebox\n",
    "from tkinter.tix import *\n",
    "import pandas as pd\n",
    "from sklearn.linear_model import LinearRegression\n",
    "import matplotlib.pyplot as plt\n",
    "from matplotlib.backends.backend_tkagg import FigureCanvasTkAgg\n",
    "import os\n",
    "\n",
    "\n",
    "window = Tk()\n",
    "window.title(\"Uniaxial Compressive Strength Prediction\")\n",
    "window.geometry(\"800x500\")\n",
    "\n",
    "tip = Balloon(window)\n",
    "\n",
    "lblsrn = Label(window,text=\"SRn: \",anchor=\"w\")\n",
    "lblsrn.place(x=50,y=50,width=100)\n",
    "\n",
    "\n",
    "txtsrn = Entry(window)\n",
    "txtsrn.place(x=150,y=50,width=100)\n",
    "SRn = txtsrn\n",
    "\n",
    "lblvp = Label(window,text=\"Vp (m/s): \",anchor=\"w\")\n",
    "lblvp.place(x=50,y=75,width=100)\n",
    "\n",
    "\n",
    "txtvp = Entry(window)\n",
    "txtvp.place(x=150,y=75,width=100)\n",
    "Vp = txtvp\n",
    "\n",
    "lblIs = Label(window,text=\"Is (Mpa): \",anchor=\"w\")\n",
    "lblIs.place(x=50,y=75,width=100)\n",
    "\n",
    "txtIs = Entry(window)\n",
    "txtIs.place(x=150,y=75,width=100)\n",
    "Is = txtIs\n",
    "\n",
    "btnadd = Button(window,text=\"Add/Update\",command=add)\n",
    "btnadd.place(x=50,y=100,width=100)\n",
    "\n",
    "btndelete = Button(window,text=\"Delete\",command=delete)\n",
    "btndelete.place(x=150,y=100,width=100)\n",
    "\n",
    "btnclear = Button(window,text=\"Clear\",command=clearplot)\n",
    "btnclear.place(x=150,y=125,width=100)\n",
    "\n",
    "btnsave = Button(window,text=\"Save Data\",command=savedata)\n",
    "btnsave.place(x=50,y=150,width=100)\n",
    "\n",
    "btnopen = Button(window,text=\"Open Data\",command=opendata)\n",
    "btnopen.place(x=150,y=150,width=100)\n",
    "\n",
    "\n",
    "\n",
    "\n",
    "window.mainloop()\n",
    "\n",
    "RF = RandomForestRegressor(n_estimators = int(224.2536150863089), max_depth = int (100.0), min_samples_split = int(1.0), min_samples_leaf = int(1.0), max_features = int(4.0), random_state=42)\n",
    "ET = ExtraTreesRegressor(n_estimators = int(270.8714437424529), max_depth = int(31.730510436614694), min_samples_split= int(3.6499521339233754), min_samples_leaf = int(1.7099839564601607), random_state=42)\n",
    "\n",
    "RF.fit(X_model_train, y_model_train)\n",
    "\n",
    "input_data =  np.array([SRn, Vp, Is])\n",
    "predict_UCS = RF.predict(input_data)\n",
    "\n",
    "lblpredict_UCS = Label(window,text=\"UCS (MPa): \",anchor=\"w\")\n",
    "lblpredict_UCS.place(x=50,y=350,width=100)\n",
    "\n",
    "txtpredict_UCS = Entry(window)\n",
    "txtpredict_UCS.place(x=150,y=350,width=100)\n",
    "\n",
    "\n",
    "def delete():\n",
    "  try:\n",
    "     d = lstdistance.get(lstdistance.curselection())\n",
    "     if d in distances:\n",
    "        i = distances.index(d)\n",
    "        del distances[i]\n",
    "        del fares[i]\n",
    "        lstdistance.delete(i)\n",
    "        lstfare.delete(i)\n",
    "        lstpredfare.delete(i)\n",
    "        plot()\n",
    "  except:\n",
    "        pass\n",
    "\n",
    "\n",
    "def savedata():\n",
    "  pd.DataFrame(data).to_csv(\"data.csv\",index=False)\n",
    "\n",
    "def opendata():\n",
    "      if os.path.exists(\"data.csv\"):\n",
    "          data = pd.read_csv(\"data.csv\")\n",
    "          values = data.values\n",
    "          lstdistance.delete(0,END)\n",
    "          lstfare.delete(0,END)\n",
    "          distances.clear()\n",
    "          fares.clear()\n",
    "          for row in values:\n",
    "               lstdistance.insert(END,row[0])\n",
    "               distances.append(str(row[0]))\n",
    "               lstfare.insert(END,row[1])\n",
    "               fares.append(str(row[1]))\n",
    "      else:\n",
    "          messagebox.showerror(\"Error\",\"No data found to load\")"
   ]
  },
  {
   "cell_type": "code",
   "execution_count": null,
   "id": "c0fd8de5",
   "metadata": {},
   "outputs": [],
   "source": [
    "# import necessary libraries\n",
    "\n",
    "from skopt import BayesSearchCV\n",
    "from skopt.space import Real, Categorical, Integer\n",
    "from sklearn.model_selection import cross_val_score\n",
    "\n",
    "# define hyperparameter search space for each model\n",
    "ada_params = {'n_estimators': Integer(10, 1000),\n",
    "              'learning_rate': Real(0.01, 1.0)}\n",
    "\n",
    "gbdt_params = {'n_estimators': Integer(10, 1000),\n",
    "               'max_depth': Integer(2, 10),\n",
    "               'min_samples_split': Integer(2, 10)}\n",
    "    learning rate, max_features, max_samples_leaf\n",
    "\n",
    "xgb_params = {'n_estimators': Integer(10, 1000),\n",
    "              'max_depth': Integer(2, 10),\n",
    "              'learning_rate': Real(0.01, 1.0)}\n",
    "\n",
    "lgb_params = {'n_estimators': Integer(10, 1000),\n",
    "              'max_depth': Integer(2, 10),\n",
    "              'learning_rate': Real(0.01, 1.0)}\n",
    "\n",
    "rf_params = {'n_estimators': Integer(10, 1000),\n",
    "             'max_depth': Integer(2, 10),\n",
    "             'min_samples_split': Integer(2, 10)}\n",
    "\n",
    "et_params = {'n_estimators': Integer(10, 1000),\n",
    "             'max_depth': Integer(2, 10),\n",
    "             'min_samples_split': Integer(2, 10)}\n",
    "# Define parameter space for each model\n",
    "adaboost_params = [Integer(50, 500, name='n_estimators'),\n",
    "                   Real(0.01, 1.0, name='learning_rate')]\n",
    "\n",
    "gbdt_params = [Integer(50, 500, name='n_estimators'),\n",
    "               Real(0.01, 1.0, name='learning_rate'),\n",
    "               Integer(2, 10, name='max_depth')]\n",
    "\n",
    "xgboost_params = [Integer(50, 500, name='n_estimators'),\n",
    "                  Real(0.01, 1.0, name='learning_rate'),\n",
    "                  Real(0.1, 10.0, name='gamma'),\n",
    "                  Integer(1, 10, name='max_depth')]\n",
    "\n",
    "lgbm_params = [Integer(50, 500, name='n_estimators'),\n",
    "               Real(0.01, 1.0, name='learning_rate'),\n",
    "               Integer(2, 10, name='max_depth')]\n",
    "\n",
    "rf_params = [Integer(10, 100, name='n_estimators'),\n",
    "             Integer(2, 10, name='max_depth')]\n",
    "\n",
    "et_params = [Integer(10, 100, name='n_estimators'),\n",
    "             Integer(2, 10, name='max_depth')]\n",
    "\n",
    "id3_params = [Integer(1, 10, name='max_depth')]\n",
    "\n",
    "c45_params = [Integer(1, 10, name='max_depth')]\n",
    "\n",
    "cart_params = [Integer(1, 10, name='max_depth')]\n",
    "# create the models\n",
    "ada = AdaBoostRegressor()\n",
    "gbdt = GradientBoostingRegressor()\n",
    "xgb = XGBRegressor()\n",
    "lgb = LGBMRegressor()\n",
    "rf = RandomForestRegressor()\n",
    "et = ExtraTreesRegressor()\n",
    "\n",
    "# create the parameter search space\n",
    "model_params = {'adaboost': ada_params,\n",
    "                'gbdt': gbdt_params,\n",
    "                'xgboost': xgb_params,\n",
    "                'lightgbm': lgb_params,\n",
    "                'rf': rf_params,\n",
    "                'et': et_params}\n",
    "\n",
    "# create the model search space\n",
    "model_space = {'adaboost': ada,\n",
    "               'gbdt': gbdt,\n",
    "               'xgboost': xgb,\n",
    "               'lightgbm': lgb,\n",
    "               'rf': rf,\n",
    "               'et': et}\n",
    "\n",
    "# create the bayesian optimizer object\n",
    "optimizer = BayesSearchCV[estimator==model_space,\n",
    "                          search_spaces==model_params,\n",
    "                          n_jobs==-1,\n",
    "                          cv==10]\n",
    "\n",
    "\n",
    "# fit the optimizer on the training data\n",
    "optimizer.fit(model_train_X, model_train_y)\n",
    "\n",
    "# print the best hyperparameters and corresponding score\n",
    "print(\"Best Hyperparameters: \", optimizer.best_params_)\n",
    "print(\"Best Score: \", optimizer.best_score_)\n"
   ]
  },
  {
   "cell_type": "code",
   "execution_count": null,
   "id": "6c9cf51d",
   "metadata": {},
   "outputs": [],
   "source": [
    "\n",
    "from skopt import BayesSearchCV\n",
    "from sklearn.ensemble import AdaBoostRegressor\n",
    "from sklearn.metrics import make_scorer, mean_squared_error\n",
    "\n",
    "# define the model\n",
    "model = AdaBoostRegressor()\n",
    "\n",
    "# define the parameter search space\n",
    "search_spaces = {\n",
    "    'n_estimators': (10, 100),\n",
    "    'learning_rate': (0.01, 1.0, 'log-uniform'),\n",
    "    'loss': ['linear', 'square', 'exponential'],\n",
    "    'random_state': [42]\n",
    "}\n",
    "\n",
    "# define the objective function to minimize\n",
    "mse = make_scorer(mean_squared_error, greater_is_better=False)\n",
    "opt = BayesSearchCV(model, search_spaces, cv=10, n_jobs=-1, scoring=mse)\n",
    "\n",
    "# fit the optimizer to the data\n",
    "opt.fit(X_model_train, y_model_train)\n",
    "\n",
    "# print the best hyperparameters and their corresponding score\n",
    "print(\"Best Hyperparameters:\", opt.best_params_)\n",
    "print(\"Best Score:\", -opt.best_score_)\n",
    "\n",
    "\n",
    "# Evaluate the model on the test set\n",
    "y_pred = model.predict(X_test)\n",
    "rmse = np.sqrt(mean_squared_error(y_test, y_pred))\n",
    "r2 = r2_score(y_test, y_pred)\n",
    "print(f\"Test RMSE: {rmse:.2f}, Test R2: {r2:.2f}\")"
   ]
  },
  {
   "cell_type": "code",
   "execution_count": null,
   "id": "d991ca49",
   "metadata": {},
   "outputs": [],
   "source": [
    "#Bayesian Optimization\n",
    "#First, we need to define the objective function that we want to optimize. In this case, we want to optimize the mean squared error (MSE) of the models using 10-fold cross-validation:\n",
    "\n",
    "\n",
    "from skopt import gp_minimize\n",
    "from skopt.space import Real, Integer\n",
    "from skopt.utils import use_named_args\n",
    "from skopt.callbacks import CheckpointSaver, DeltaYStopper\n",
    "from sklearn.metrics import make_scorer\n",
    "\n",
    "\n",
    "# Define scoring function (negative mean squared error)\n",
    "scoring_func = make_scorer(lambda y_true, y_pred: -mean_squared_error(y_true, y_pred))\n",
    "\n",
    "# Define parameter space for each model\n",
    "adaboost_params = [Integer(50, 500, name='n_estimators'),\n",
    "                   Real(0.01, 1.0, name='learning_rate')]\n",
    "\n",
    "gbdt_params = [Integer(50, 500, name='n_estimators'),\n",
    "               Real(0.01, 1.0, name='learning_rate'),\n",
    "               Integer(2, 10, name='max_depth')]\n",
    "\n",
    "xgboost_params = [Integer(50, 500, name='n_estimators'),\n",
    "                  Real(0.01, 1.0, name='learning_rate'),\n",
    "                  Real(0.1, 10.0, name='gamma'),\n",
    "                  Integer(1, 10, name='max_depth')]\n",
    "\n",
    "lgbm_params = [Integer(50, 500, name='n_estimators'),\n",
    "               Real(0.01, 1.0, name='learning_rate'),\n",
    "               Integer(2, 10, name='max_depth')]\n",
    "\n",
    "rf_params = [Integer(10, 100, name='n_estimators'),\n",
    "             Integer(2, 10, name='max_depth')]\n",
    "\n",
    "et_params = [Integer(10, 100, name='n_estimators'),\n",
    "             Integer(2, 10, name='max_depth')]\n",
    "\n",
    "id3_params = [Integer(1, 10, name='max_depth')]\n",
    "\n",
    "c45_params = [Integer(1, 10, name='max_depth')]\n",
    "\n",
    "cart_params = [Integer(1, 10, name='max_depth')]\n",
    "\n",
    "\n",
    "# Define the objective function to optimize hyperparameters\n",
    "def objective_function_adaboost(n_estimators, learning_rate):\n",
    "    model = AdaBoostRegressor(n_estimators=int(n_estimators), learning_rate=learning_rate, random_state=0)\n",
    "    score = -1.0 * np.mean(cross_val_score(model, X_train, y_train, cv=10, scoring='neg_mean_squared_error'))\n",
    "    return score\n",
    "print(\"ABR\", scoring_func)\n",
    "\n",
    "def objective_function_gbdt(n_estimators, learning_rate, max_depth):\n",
    "    model = GradientBoostingRegressor(n_estimators=int(n_estimators), learning_rate=learning_rate, max_depth=int(max_depth), random_state=0)\n",
    "    score = -1.0 * np.mean(cross_val_score(model, X_train, y_train, cv=10, scoring='neg_mean_squared_error'))\n",
    "    return score\n",
    "\n",
    "def objective_function_xgboost(n_estimators, learning_rate, max_depth, min_child_weight, subsample, colsample_bytree):\n",
    "    model = XGBRegressor(n_estimators=int(n_estimators), learning_rate=learning_rate, max_depth=int(max_depth), min_child_weight=min_child_weight, subsample=subsample, colsample_bytree=colsample_bytree, random_state=0)\n",
    "    score = -1.0 * np.mean(cross_val_score(model, X_train, y_train, cv=10, scoring='neg_mean_squared_error'))\n",
    "    return score\n",
    "\n",
    "def objective_function_lightgbm(n_estimators, learning_rate, max_depth, min_child_weight, subsample, colsample_bytree):\n",
    "    model = LGBMRegressor(n_estimators=int(n_estimators), learning_rate=learning_rate, max_depth=int(max_depth), min_child_weight=min_child_weight, subsample=subsample, colsample_bytree=colsample_bytree, random_state=0)\n",
    "    score = -1.0 * np.mean(cross_val_score(model, X_train, y_train, cv=10, scoring='neg_mean_squared_error'))\n",
    "    return score\n",
    "\n",
    "def objective_function_rf(n_estimators, max_depth, min_samples_split, min_samples_leaf):\n",
    "    model = RandomForestRegressor(n_estimators=int(n_estimators), max_depth=int(max_depth), min_samples_split=int(min_samples_split), min_samples_leaf=int(min_samples_leaf), random_state=0)\n",
    "    score = -1.0 * np.mean(cross_val_score(model, X_train, y_train, cv=10, scoring='neg_mean_squared_error'))\n",
    "    return score\n",
    "\n",
    "def objective_function_et(n_estimators, max_depth, min_samples_split, min_samples_leaf):\n",
    "    model = ExtraTreesRegressor(n_estimators=int(n_estimators), max_depth=int(max_depth), min_samples_split=int(min_samples_split), min_samples_leaf=int(min_samples_leaf), random_state=0)\n",
    "    score = -1.0 * np.mean(cross_val_score(model, X_train, y_train, cv=10, scoring='neg_mean_squared_error'))\n",
    "    return score\n",
    "\n",
    "def objective_function_id3(max_depth):\n",
    "    model = DecisionTreeRegressor(criterion='mse', max_depth=int(max_depth), random_state=0)\n",
    "    score = -1.0 * np.mean(cross_val_score(model, X_train, y_train, cv=10, scoring='neg_mean_squared_error'))\n",
    "    return score\n",
    "\n",
    "def objective_function_c45(max_depth):\n",
    "    model = DecisionTreeRegressor(criterion='mae', max_depth=int(max_depth), random_state=0)\n",
    "    score = -1.0 * np.mean(cross_val_score(model, X_train, y_train, cv=10, scoring='neg_mean_squared_error'))\n",
    "    return score\n",
    "\n"
   ]
  },
  {
   "cell_type": "code",
   "execution_count": null,
   "id": "ca42b150",
   "metadata": {},
   "outputs": [],
   "source": []
  },
  {
   "cell_type": "code",
   "execution_count": null,
   "id": "7b2e9bc4",
   "metadata": {},
   "outputs": [],
   "source": []
  },
  {
   "cell_type": "code",
   "execution_count": null,
   "id": "91f86392",
   "metadata": {},
   "outputs": [],
   "source": []
  },
  {
   "cell_type": "code",
   "execution_count": null,
   "id": "44661197",
   "metadata": {},
   "outputs": [],
   "source": []
  },
  {
   "cell_type": "code",
   "execution_count": null,
   "id": "371041f5",
   "metadata": {},
   "outputs": [],
   "source": []
  },
  {
   "cell_type": "code",
   "execution_count": null,
   "id": "41609b96",
   "metadata": {},
   "outputs": [],
   "source": []
  },
  {
   "cell_type": "code",
   "execution_count": null,
   "id": "ce8a1c76",
   "metadata": {},
   "outputs": [],
   "source": []
  },
  {
   "cell_type": "code",
   "execution_count": null,
   "id": "0a92e40a",
   "metadata": {},
   "outputs": [],
   "source": []
  },
  {
   "cell_type": "code",
   "execution_count": null,
   "id": "2c1beaa2",
   "metadata": {},
   "outputs": [],
   "source": []
  },
  {
   "cell_type": "code",
   "execution_count": null,
   "id": "53b594aa-6231-47bb-a7bd-e30eb9c946a6",
   "metadata": {},
   "outputs": [],
   "source": [
    "pwd"
   ]
  },
  {
   "cell_type": "code",
   "execution_count": null,
   "id": "101009cc-4008-406a-8814-177fcd771510",
   "metadata": {
    "tags": []
   },
   "outputs": [],
   "source": [
    "\n",
    "\n",
    "svm_train_df = pd.DataFrame(svm.predict(X_model_train))\n",
    "svm_train_df.to_csv('svm_train_preds.csv', index=False)\n",
    "svm_test_df = pd.DataFrame(svm.predict(X_test))\n",
    "svm_test_df.to_csv('svm_test_preds.csv', index=False)\n",
    "svm_val_df = pd.DataFrame(svm.predict(X_val))\n",
    "svm_val_df.to_csv('svm_val_preds.csv', index=False)\n",
    "\n",
    "gpr_train_df = pd.DataFrame(gpr.predict(X_model_train))\n",
    "gpr_train_df.to_csv('gpr_train_preds.csv', index=False)\n",
    "gpr_test_df = pd.DataFrame(gpr.predict(X_test))\n",
    "gpr_test_df.to_csv('gpr_test_preds.csv', index=False)\n",
    "gpr_val_df = pd.DataFrame(gpr.predict(X_val))\n",
    "gpr_val_df.to_csv('gpr_val_preds.csv', index=False)\n",
    "\n",
    "dt_train_df = pd.DataFrame(dt.predict(X_model_train))\n",
    "dt_train_df.to_csv('dt_train_preds.csv', index=False)\n",
    "dt_test_df = pd.DataFrame(dt.predict(X_test))\n",
    "dt_test_df.to_csv('dt_test_preds.csv', index=False)\n",
    "dt_val_df = pd.DataFrame(dt.predict(X_val))\n",
    "dt_val_df.to_csv('dt_val_preds.csv', index=False)\n",
    "\n",
    "et_train_df = pd.DataFrame(et.predict(X_model_train))\n",
    "et_train_df.to_csv('et_train_preds.csv', index=False)\n",
    "et_test_df = pd.DataFrame(et.predict(X_test))\n",
    "et_test_df.to_csv('et_test_preds.csv', index=False)\n",
    "et_val_df = pd.DataFrame(et.predict(X_val))\n",
    "et_val_df.to_csv('et_val_preds.csv', index=False)\n",
    "\n",
    "rf_train_df = pd.DataFrame(rf.predict(X_model_train))\n",
    "rf_train_df.to_csv('rf_train_preds.csv', index=False)\n",
    "rf_test_df = pd.DataFrame(rf.predict(X_test))\n",
    "rf_test_df.to_csv('rf_test_preds.csv', index=False)\n",
    "rf_val_df = pd.DataFrame(rf.predict(X_val))\n",
    "rf_val_df.to_csv('rf_val_preds.csv', index=False)\n",
    "\n",
    "gbr_train_df = pd.DataFrame(gbr.predict(X_model_train))\n",
    "gbr_train_df.to_csv('gbr_train_preds.csv', index=False)\n",
    "gbr_test_df = pd.DataFrame(gbr.predict(X_test))\n",
    "gbr_test_df.to_csv('gbr_test_preds.csv', index=False)\n",
    "gbr_val_df = pd.DataFrame(gbr.predict(X_val))\n",
    "gbr_val_df.to_csv('gbr_val_preds.csv', index=False)\n",
    "\n",
    "abr_train_df = pd.DataFrame(abr.predict(X_model_train))\n",
    "abr_train_df.to_csv('abr_train_preds.csv', index=False)\n",
    "abr_test_df = pd.DataFrame(abr.predict(X_test))\n",
    "abr_test_df.to_csv('abr_test_preds.csv', index=False)\n",
    "abr_val_df = pd.DataFrame(abr.predict(X_val))\n",
    "abr_val_df.to_csv('abr_val_preds.csv', index=False)\n",
    "\n",
    "mlr_train_df = pd.DataFrame(mlr.predict(X_model_train))\n",
    "mlr_train_df.to_csv('mlr_train_preds.csv', index=False)\n",
    "mlr_test_df = pd.DataFrame(mlr.predict(X_test))\n",
    "mlr_test_df.to_csv('mlr_test_preds.csv', index=False)\n",
    "mlr_val_df = pd.DataFrame(mlr.predict(X_val))\n",
    "mlr_val_df.to_csv('mlr_val_preds.csv', index=False)\n",
    "\n",
    "ann_train_df = pd.DataFrame(ann.predict(X_model_train))\n",
    "ann_train_df.to_csv('ann_train_preds.csv', index=False)\n",
    "ann_test_df = pd.DataFrame(ann.predict(X_test))\n",
    "ann_test_df.to_csv('ann_test_preds.csv', index=False)\n",
    "ann_val_df = pd.DataFrame(ann.predict(X_val))\n",
    "ann_val_df.to_csv('ann_val_preds.csv', index=False)\n",
    "\n",
    "gep_train_df = pd.DataFrame(gep.predict(X_model_train))\n",
    "gep_train_df.to_csv('gep_train_preds.csv', index=False)\n",
    "gep_test_df = pd.DataFrame(gep.predict(X_test))\n",
    "gep_test_df.to_csv('gep_test_preds.csv', index=False)\n",
    "gep_val_df = pd.DataFrame(gep.predict(X_val))\n",
    "gep_val_df.to_csv('gep_val_preds.csv', index=False)\n",
    "\n",
    "mpmr_train_df = pd.DataFrame(mpmr.predict(X_model_train))\n",
    "mpmr_train_df.to_csv('mpmr_train_preds.csv', index=False)\n",
    "mpmr_test_df = pd.DataFrame(mpmr.predict(X_test))\n",
    "mpmr_test_df.to_csv('mpmr_test_preds.csv', index=False)\n",
    "mpmr_val_df = pd.DataFrame(mpmr.predict(X_val))\n",
    "mpmr_val_df.to_csv('mpmr_val_preds.csv', index=False)\n",
    "\n",
    "lssvm_train_df = pd.DataFrame(lssvm.predict(X_model_train))\n",
    "lssvm_train_df.to_csv('lssvm_train_preds.csv', index=False)\n",
    "lssvm_test_df = pd.DataFrame(lssvm.predict(X_test))\n",
    "lssvm_test_df.to_csv('lssvm_test_preds.csv', index=False)\n",
    "lssvm_val_df = pd.DataFrame(lssvm.predict(X_val))\n",
    "lssvm_val_df.to_csv('lssvm_val_preds.csv', index=False)\n"
   ]
  },
  {
   "cell_type": "code",
   "execution_count": null,
   "id": "f9a5ee7b-0088-42c1-9315-ec7efb1b33ab",
   "metadata": {
    "tags": []
   },
   "outputs": [],
   "source": [
    "# Evaluate models on validation set\n",
    "rmse_val = {}\n",
    "mae_val = {}\n",
    "vaf_val = {}\n",
    "ns_val = {}\n",
    "wmape_val = {}\n",
    "mape_val = {}\n",
    "nmbe_val = {}\n",
    "r_val = {}\n",
    "r2_val = {}\n",
    "for name, model in models.items():\n",
    "    y_pred = model.predict(X_val)\n",
    "    rmse_val[name] = np.sqrt(mean_squared_error(y_val, y_pred))\n",
    "    mae_val[name] = mean_absolute_error(y_val, y_pred)\n",
    "    vaf_val[name] = explained_variance_score(y_val, y_pred)\n",
    "    ns_val[name] = 1 - (mean_squared_error(y_val, y_pred) / np.var(y_val))\n",
    "    wmape_val[name] = np.sum(np.abs(y_val - y_pred)) / np.sum(y_val)\n",
    "    mape_val[name] = np.mean(np.abs((y_val - y_pred) / y_val)) * 100\n",
    "    nmbe_val[name] = np.mean((y_val - y_pred) / y_val) * 100\n",
    "    r_val[name] = np.corrcoef(y_val, y_pred)[0,1]\n",
    "    r2_val[name] = r2_score(y_val, y_pred)\n",
    "\n",
    "for name, model in models.items():\n",
    "    print('RMSE value for', model, 'is', rmse_val[name])\n",
    "print (\"/n\")    \n",
    "for name, model in models.items():\n",
    "    print('MAE value for', model, 'is', mae_val[name])\n",
    "print (\"/n\") \n",
    "for name, model in models.items():\n",
    "    print('VAF value for', model, 'is', vaf_val[name])\n",
    "print (\"/n\")\n",
    "for name, model in models.items():\n",
    "    print('NS value for', model, 'is', ns_val[name])\n",
    "print (\"/n\")\n",
    "for name, model in models.items():\n",
    "    print('WMAPE value for', model, 'is', wmape_val[name])\n",
    "print (\"/n\")\n",
    "for name, model in models.items():\n",
    "    print('MAPE value for', model, 'is', mape_val[name])\n",
    "print (\"/n\")\n",
    "for name, model in models.items():\n",
    "    print('NMBE value for', model, 'is', nmbe_val[name])\n",
    "print (\"/n\")\n",
    "for name, model in models.items():\n",
    "    print('Rval value for', model, 'is', r_val[name])\n",
    "print (\"/n\")    \n",
    "for name, model in models.items():\n",
    "    print('R2_val value for', model, 'is', r2_val[name])\n",
    "\n",
    "print (\"/n\")    \n",
    "for name, model in models.items():\n",
    "    print('RMSE value for', model, 'is', rmse_val[name])\n",
    "    print('MAE value for', model, 'is', mae_val[name])\n",
    "    print('VAF value for', model, 'is', vaf_val[name])\n",
    "    print('NS value for', model, 'is', ns_val[name])\n",
    "    print('WMAPE value for', model, 'is', wmape_val[name])\n",
    "    print('MAPE value for', model, 'is', mape_val[name])\n",
    "    print('NMBE value for', model, 'is', nmbe_val[name])\n",
    "    print('Rval value for', model, 'is', r_val[name])\n",
    "    print('R2_val value for', model, 'is', r_val[name])"
   ]
  },
  {
   "cell_type": "code",
   "execution_count": null,
   "id": "5b3bdd96-3bc1-41d2-a006-50a24461fc02",
   "metadata": {},
   "outputs": [],
   "source": []
  },
  {
   "cell_type": "code",
   "execution_count": null,
   "id": "b42d083e-d7fc-4c9a-a603-6e3f01c5f280",
   "metadata": {
    "tags": []
   },
   "outputs": [],
   "source": [
    "values=[]\n",
    "names=[]\n",
    "def model_train_val_output(name, model, X_model_train, X_val, y_model_train, y_val):\n",
    "    model.fit(X_model_train, y_model_train)\n",
    "    y_pred = model.predict(X_val)\n",
    "    r2_value = r2_score(y_val, y_pred)\n",
    "    names.append(name)\n",
    "    values.append(r2_value)\n",
    "\n",
    "    return names, values"
   ]
  },
  {
   "cell_type": "code",
   "execution_count": null,
   "id": "e7a02d02-2741-4c0f-9d9e-be6eeb3fab8b",
   "metadata": {},
   "outputs": [],
   "source": []
  },
  {
   "cell_type": "code",
   "execution_count": null,
   "id": "f66f6c38-897c-44fd-8f34-9e4e75edd2c8",
   "metadata": {
    "tags": []
   },
   "outputs": [],
   "source": [
    "for name, model in  model_dict.items():\n",
    "    names,r2_score_val=model_train_val_output(name,model,X_model_train_transformed,X_val_transformed,y_model_train,y_val)\n",
    "\n"
   ]
  },
  {
   "cell_type": "code",
   "execution_count": null,
   "id": "3d004e5b-dca2-48eb-a2ca-05352f255e12",
   "metadata": {
    "tags": []
   },
   "outputs": [],
   "source": [
    "new_df=pd.DataFrame(names,columns=['Model_TT'])\n",
    "new_df['r2_score_transform']=r2_score_val\n"
   ]
  },
  {
   "cell_type": "code",
   "execution_count": null,
   "id": "582185ed-a3ec-43b4-9681-696a477c257f",
   "metadata": {
    "tags": []
   },
   "outputs": [],
   "source": [
    "new_df1=pd.DataFrame(names1,columns=['Model_TV'])\n",
    "new_df1['r3_score_transform']=r3_score_val"
   ]
  },
  {
   "cell_type": "code",
   "execution_count": null,
   "id": "c430146a-ea6b-4f69-a299-a2400b8deb66",
   "metadata": {
    "tags": []
   },
   "outputs": [],
   "source": [
    "values=[]\n",
    "names=[]\n",
    "def model_train_test_output(name, model, X_model_train, X_test, y_model_train, y_test):\n",
    "    model.fit(X_model_train, y_model_train)\n",
    "    y_pred = model.predict(X_test)\n",
    "    r2_value = r2_score(y_test, y_pred)\n",
    "    names.append(name)\n",
    "    values.append(r2_value)\n",
    "\n",
    "    return names,values\n",
    "#be like say one of these two up and down wey dem repeat na one for transform and other for score"
   ]
  },
  {
   "cell_type": "code",
   "execution_count": null,
   "id": "c9655d48-dbae-4b72-b1ab-36b5adc02da3",
   "metadata": {
    "tags": []
   },
   "outputs": [],
   "source": [
    "values1=[]\n",
    "names1=[]\n",
    "def model_train_val_output(name1, model, X_model_train, X_val, y_model_train, y_val):\n",
    "    model.fit(X_model_train, y_model_train)\n",
    "    y_pred1 = model.predict(X_val)\n",
    "    r3_value = r2_score(y_val, y_pred1)\n",
    "    names1.append(name1)\n",
    "    values1.append(r3_value)\n",
    "\n",
    "    return names1,values1"
   ]
  },
  {
   "cell_type": "code",
   "execution_count": null,
   "id": "2033092b-bbed-4085-b87c-a248a3e3a6d4",
   "metadata": {
    "tags": []
   },
   "outputs": [],
   "source": [
    "for name, model in  model_dict.items():\n",
    "    names,r2_score_val=model_train_test_output(name,model,X_model_train_transformed,X_test_transformed,y_model_train,y_test)\n",
    "for name1, model in  model_dict.items():\n",
    "    names1,r3_score_val=model_train_val_output(name1, model, X_model_train_transformed,X_val_transformed,y_model_train,y_val)"
   ]
  },
  {
   "cell_type": "code",
   "execution_count": null,
   "id": "68eb503d-7b83-4f15-97fb-4cf4f61529e8",
   "metadata": {
    "tags": []
   },
   "outputs": [],
   "source": [
    "new_df['r2_score']=r2_score_val\n",
    "new_df"
   ]
  },
  {
   "cell_type": "code",
   "execution_count": null,
   "id": "77cff303-6a54-4f00-9dce-f860260b7d42",
   "metadata": {},
   "outputs": [],
   "source": [
    "new_df1['r3_score']=r3_score_val\n",
    "new_df1"
   ]
  },
  {
   "cell_type": "code",
   "execution_count": null,
   "id": "d0a1a4b9-acf3-46e7-b635-25c6c5c6a48f",
   "metadata": {},
   "outputs": [],
   "source": []
  },
  {
   "cell_type": "code",
   "execution_count": null,
   "id": "dd9d7513-6422-4e4d-ba7d-d73b18a4ca99",
   "metadata": {
    "tags": []
   },
   "outputs": [],
   "source": [
    "rfr1=RandomForestRegressor()\n",
    "gbr1=GradientBoostingRegressor()"
   ]
  },
  {
   "cell_type": "code",
   "execution_count": null,
   "id": "d23c47e7-3685-4e4f-afcd-5692c541396b",
   "metadata": {
    "tags": []
   },
   "outputs": [],
   "source": [
    "params = {\n",
    "    'learning_rate' : [0.01, 0.1, 1.0,None],\n",
    "    'n_estimators' : [100, 150, 200,300,400,500],\n",
    "    'max_depth' : [3, 4, 5]\n",
    "}\n",
    "\n",
    "clf = GridSearchCV(gbr1, params,cv=10,n_jobs=-1,verbose=2,scoring='r2')\n",
    "clf.fit(X_model_train, y_model_train)"
   ]
  },
  {
   "cell_type": "code",
   "execution_count": null,
   "id": "9ed1c6a2-65e6-4041-9a26-fb4c65095573",
   "metadata": {},
   "outputs": [],
   "source": [
    "clf.best_params_\n"
   ]
  },
  {
   "cell_type": "code",
   "execution_count": null,
   "id": "bdf45c2f-62dd-446e-81c8-5e47be9c71d3",
   "metadata": {},
   "outputs": [],
   "source": [
    "clf.best_score_"
   ]
  },
  {
   "cell_type": "code",
   "execution_count": null,
   "id": "08c790a1-f9a3-44be-a6f9-8e1a58900fe1",
   "metadata": {},
   "outputs": [],
   "source": [
    "#RandomForestRegressor\n",
    "params = {\"n_estimators\": [150,200,250,400,500]\n",
    "             }\n",
    "\n",
    "clf = GridSearchCV(rfr1, params,cv=10,n_jobs=-1,verbose=2,scoring='r2')\n",
    "clf.fit(X_model_train, y_model_train)"
   ]
  },
  {
   "cell_type": "code",
   "execution_count": null,
   "id": "de8518d7-40e7-4279-b6e4-b3903dc2ac14",
   "metadata": {},
   "outputs": [],
   "source": [
    "clf.best_score_"
   ]
  },
  {
   "cell_type": "code",
   "execution_count": null,
   "id": "5c4da099-d476-4b9a-9bbc-96d405dd845c",
   "metadata": {
    "tags": []
   },
   "outputs": [],
   "source": [
    "clf.best_params_\n"
   ]
  },
  {
   "cell_type": "code",
   "execution_count": null,
   "id": "56e9d417-9d61-417d-8fdd-8a54c5313258",
   "metadata": {
    "tags": []
   },
   "outputs": [],
   "source": [
    "gbr=GradientBoostingRegressor(learning_rate=0.1,max_depth=4,n_estimators=400)\n",
    "gbr.fit(X_model_train, y_model_train)\n",
    "y_pred=gbr.predict(X_test)\n",
    "r2_score(y_test,y_pred)"
   ]
  },
  {
   "cell_type": "code",
   "execution_count": null,
   "id": "de68a1ea-8260-4914-9d48-bbce7ea811f8",
   "metadata": {},
   "outputs": [],
   "source": []
  },
  {
   "cell_type": "code",
   "execution_count": null,
   "id": "b6914d86-554e-4c59-93cb-16a8c73f3e17",
   "metadata": {},
   "outputs": [],
   "source": []
  },
  {
   "cell_type": "code",
   "execution_count": null,
   "id": "75cd4ed5-4d97-44a4-adcd-4f304de96a1b",
   "metadata": {
    "tags": []
   },
   "outputs": [],
   "source": [
    "import pandas as pd\n",
    "from sklearn.model_selection import train_test_split\n",
    "from sklearn.svm import SVR\n",
    "from sklearn.gaussian_process import GaussianProcessRegressor\n",
    "from sklearn.tree import DecisionTreeRegressor\n",
    "from sklearn.ensemble import RandomForestRegressor\n",
    "from sklearn.linear_model import LinearRegression\n",
    "from sklearn.neural_network import MLPRegressor\n",
    "from gplearn.genetic import SymbolicRegressor\n",
    "from mlxtend.regressor import StackingCVRegressor\n",
    "from sklearn.metrics import mean_squared_error, mean_absolute_error, r2_score, explained_variance_score\n",
    "import matplotlib.pyplot as plt\n",
    "import numpy as np\n",
    "\n",
    "\n",
    "# Define models\n",
    "svm = SVR(kernel='rbf', C=10, gamma=0.1, epsilon=.1)\n",
    "gpr = GaussianProcessRegressor()\n",
    "dt = DecisionTreeRegressor()\n",
    "rf = RandomForestRegressor()\n",
    "mlr = LinearRegression()\n",
    "ann = MLPRegressor(hidden_layer_sizes=(100,), activation='relu', solver='adam', max_iter=500)\n",
    "gep = SymbolicRegressor(generations=20, population_size=2000, tournament_size=20, stopping_criteria=0.01, p_crossover=0.7, p_subtree_mutation=0.1, p_hoist_mutation=0.05, p_point_mutation=0.1, verbose=1, random_state=42)\n",
    "mpmr = StackingCVRegressor(regressors=(svm, gpr, dt, rf, mlr, ann, gep), meta_regressor=rf, cv=5)\n",
    "lssvm = SVR(kernel='rbf', C=10, gamma=0.1, epsilon=.1)\n",
    "\n",
    "# Train models\n",
    "models = {'SVM': svm, 'GPR': gpr, 'DT': dt, 'RF': rf, 'MLR': mlr, 'ANN': ann, 'GEP': gep, 'MPMR': mpmr, 'LSSVM': lssvm}\n",
    "for name, model in models.items():\n",
    "    model.fit(X_model_train, y_model_train)\n",
    "\n",
    "# Evaluate models on validation set\n",
    "rmse_val = {}\n",
    "mae_val = {}\n",
    "vaf_val = {}\n",
    "ns_val = {}\n",
    "wmape_val = {}\n",
    "mape_val = {}\n",
    "nmbe_val = {}\n",
    "r_val = {}\n",
    "r2_val = {}\n",
    "for name, model in models.items():\n",
    "    y_pred = model.predict(X_val)\n",
    "    rmse_val[name] = np.sqrt(mean_squared_error(y_val, y_pred))\n",
    "    mae_val[name] = mean_absolute_error(y_val, y_pred)\n",
    "    vaf_val[name] = explained_variance_score(y_val, y_pred)\n",
    "    ns_val[name] = 1 - (mean_squared_error(y_val, y_pred) / np.var(y_val))\n",
    "    wmape_val[name] = np.sum(np.abs(y_val - y_pred)) / np.sum(y_val)\n",
    "    mape_val[name] = np.mean(np.abs((y_val - y_pred) / y_val)) * 100\n",
    "    nmbe_val[name] = np.mean((y_val - y_pred) / y_val) * 100\n",
    "    r_val[name] = np.corr\n",
    "\n"
   ]
  },
  {
   "cell_type": "code",
   "execution_count": null,
   "id": "1266f5d6-c1da-4e6e-b414-5cca4f7541f9",
   "metadata": {},
   "outputs": [],
   "source": []
  },
  {
   "cell_type": "code",
   "execution_count": null,
   "id": "5264c76b-5468-43b6-b0a8-fd65b92b4433",
   "metadata": {},
   "outputs": [],
   "source": [
    "from sklearn.model_selection import GridSearchCV\n",
    "from sklearn.svm import SVR\n",
    "\n",
    "# Define range of hyperparameters to explore\n",
    "param_grid = {'C': [0.1, 1, 10, 100]}\n",
    "\n",
    "# Split the training data into new training set and validation set\n",
    "X_new_train, X_val, y_new_train, y_val = train_test_split(X_train, y_train, test_size=0.3, random_state=42)\n",
    "\n",
    "# Initialize SVM model\n",
    "svm_model = SVR(kernel='linear')\n",
    "\n",
    "# Perform grid search over hyperparameters on the new training set and validation set\n",
    "grid_search = GridSearchCV(svm_model, param_grid, cv=5)\n",
    "grid_search.fit(X_new_train, y_new_train)\n",
    "\n",
    "# Get the best hyperparameters\n",
    "best_params = grid_search.best_params_\n",
    "\n",
    "# Train the model on the entire training set using the best hyperparameters\n",
    "final_svm_model = SVR(kernel='linear', C=best_params['C'])\n",
    "final_svm_model.fit(X_train, y_train)\n",
    "\n",
    "# Evaluate the final model on the test set\n",
    "y_pred = final_svm_model.predict(X_test)\n",
    "rmse = mean_squared_error(y_test, y_pred, squared=False)\n",
    "mae = mean_absolute_error(y_test, y_pred)\n",
    "vaf = explained_variance_score(y_test, y_pred)\n",
    "ns = 1 - (np.sum((y_test - y_pred)**2) / np.sum((y_test - np.mean(y_test))**2))\n",
    "wmape = np.mean(np.abs(y_test - y_pred) / y_test)\n",
    "mape = np.mean(np.abs(y_test - y_pred) / y_test) * 100\n",
    "nmbe = np.mean((y_test - y_pred) / y_test) * 100\n",
    "r = pearsonr(y_test, y_pred)[0]\n",
    "r2 = r2_score(y_test, y_pred)\n"
   ]
  },
  {
   "cell_type": "code",
   "execution_count": null,
   "id": "5e00f399-83f0-47ed-ae05-7b11dae54001",
   "metadata": {},
   "outputs": [],
   "source": [
    "#to Plot scatter one against another\n",
    "fig, ax = plt.subplots(figsize=(10,8))\n",
    "sns.scatterplot(y=\"Compressive Strength\", x=\"Cement\", hue=\"Water\", size=\"Age\", data=df, ax=ax, sizes=(50, 300),\n",
    "                palette='RdYlGn', alpha=0.9)\n",
    "ax.set_title(\"Compressive Strength vs Cement, Age, Water\")\n",
    "ax.legend()\n",
    "plt.show()"
   ]
  },
  {
   "cell_type": "code",
   "execution_count": null,
   "id": "e2114369-fc1d-458e-a167-bd6e85975a43",
   "metadata": {},
   "outputs": [],
   "source": []
  }
 ],
 "metadata": {
  "kernelspec": {
   "display_name": "Python 3 (ipykernel)",
   "language": "python",
   "name": "python3"
  },
  "language_info": {
   "codemirror_mode": {
    "name": "ipython",
    "version": 3
   },
   "file_extension": ".py",
   "mimetype": "text/x-python",
   "name": "python",
   "nbconvert_exporter": "python",
   "pygments_lexer": "ipython3",
   "version": "3.10.9"
  }
 },
 "nbformat": 4,
 "nbformat_minor": 5
}
